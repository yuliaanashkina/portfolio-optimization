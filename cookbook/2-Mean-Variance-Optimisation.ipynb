{
  "cells": [
    {
      "cell_type": "markdown",
      "metadata": {
        "id": "UL9EB0Mn9ny5"
      },
      "source": [
        "# Mean-variance optimization\n",
        "\n",
        "In this cookbook recipe, we work on several examples demonstrating PyPortfolioOpt's mean-variance capabilities.\n",
        "\n",
        "To start, you need a list of tickers. Some people just provide the whole universe of stocks, but portfolio optimization is quite different from asset selection. Anywhere from 10-50 stocks as a starting point.\n",
        "\n",
        "Some of the things we cover:\n",
        "\n",
        "- Downloading data and getting it into PyPortfolioOpt\n",
        "- Calculating and visualising the covariance matrix\n",
        "- Optimising a long/short portfolio to minimise total variance\n",
        "- Optimising a portfolio to maximise the Sharpe ratio, subject to sector constraints\n",
        "- Optimising a portfolio to maximise return for a given risk, subject to sector constraints, with an L2 regularisation objective\n",
        "- Optimising a market-neutral portfolio to minimise risk for a given level of return\n",
        "- Optimising along the mean-semivariance frontier\n",
        "- Optimising along the mean-CVaR frontier\n",
        "- Plotting the efficient frontier:\n",
        "    - Simple (using CLA)\n",
        "    - Constrained\n",
        "    - Complex plots\n",
        "\n",
        "Please consult the [docs](https://pyportfolioopt.readthedocs.io/) for more info.\n",
        "\n",
        "## Downloading data\n",
        "\n",
        "To download data, we will use `yfinance`, an excellent library that provides free price data from Yahoo Finance, no API key needed.\n"
      ]
    },
    {
      "cell_type": "code",
      "execution_count": 1,
      "metadata": {
        "colab": {
          "base_uri": "https://localhost:8080/"
        },
        "id": "69vaYVwZ-Cxz",
        "outputId": "9af8ba35-62bb-4eba-9a92-81febb2bd479"
      },
      "outputs": [
        {
          "output_type": "stream",
          "name": "stdout",
          "text": [
            "Requirement already satisfied: pandas in /usr/local/lib/python3.11/dist-packages (2.2.2)\n",
            "Requirement already satisfied: numpy in /usr/local/lib/python3.11/dist-packages (2.0.2)\n",
            "Requirement already satisfied: matplotlib in /usr/local/lib/python3.11/dist-packages (3.10.0)\n",
            "Requirement already satisfied: yfinance in /usr/local/lib/python3.11/dist-packages (0.2.55)\n",
            "Collecting PyPortfolioOpt\n",
            "  Downloading pyportfolioopt-1.5.6-py3-none-any.whl.metadata (22 kB)\n",
            "Requirement already satisfied: python-dateutil>=2.8.2 in /usr/local/lib/python3.11/dist-packages (from pandas) (2.8.2)\n",
            "Requirement already satisfied: pytz>=2020.1 in /usr/local/lib/python3.11/dist-packages (from pandas) (2025.2)\n",
            "Requirement already satisfied: tzdata>=2022.7 in /usr/local/lib/python3.11/dist-packages (from pandas) (2025.2)\n",
            "Requirement already satisfied: contourpy>=1.0.1 in /usr/local/lib/python3.11/dist-packages (from matplotlib) (1.3.1)\n",
            "Requirement already satisfied: cycler>=0.10 in /usr/local/lib/python3.11/dist-packages (from matplotlib) (0.12.1)\n",
            "Requirement already satisfied: fonttools>=4.22.0 in /usr/local/lib/python3.11/dist-packages (from matplotlib) (4.57.0)\n",
            "Requirement already satisfied: kiwisolver>=1.3.1 in /usr/local/lib/python3.11/dist-packages (from matplotlib) (1.4.8)\n",
            "Requirement already satisfied: packaging>=20.0 in /usr/local/lib/python3.11/dist-packages (from matplotlib) (24.2)\n",
            "Requirement already satisfied: pillow>=8 in /usr/local/lib/python3.11/dist-packages (from matplotlib) (11.1.0)\n",
            "Requirement already satisfied: pyparsing>=2.3.1 in /usr/local/lib/python3.11/dist-packages (from matplotlib) (3.2.3)\n",
            "Requirement already satisfied: requests>=2.31 in /usr/local/lib/python3.11/dist-packages (from yfinance) (2.32.3)\n",
            "Requirement already satisfied: multitasking>=0.0.7 in /usr/local/lib/python3.11/dist-packages (from yfinance) (0.0.11)\n",
            "Requirement already satisfied: platformdirs>=2.0.0 in /usr/local/lib/python3.11/dist-packages (from yfinance) (4.3.7)\n",
            "Requirement already satisfied: frozendict>=2.3.4 in /usr/local/lib/python3.11/dist-packages (from yfinance) (2.4.6)\n",
            "Requirement already satisfied: peewee>=3.16.2 in /usr/local/lib/python3.11/dist-packages (from yfinance) (3.17.9)\n",
            "Requirement already satisfied: beautifulsoup4>=4.11.1 in /usr/local/lib/python3.11/dist-packages (from yfinance) (4.13.3)\n",
            "Requirement already satisfied: cvxpy>=1.1.19 in /usr/local/lib/python3.11/dist-packages (from PyPortfolioOpt) (1.6.4)\n",
            "Collecting ecos<3.0.0,>=2.0.14 (from PyPortfolioOpt)\n",
            "  Downloading ecos-2.0.14-cp311-cp311-manylinux_2_17_x86_64.manylinux2014_x86_64.whl.metadata (8.0 kB)\n",
            "Requirement already satisfied: plotly<6.0.0,>=5.0.0 in /usr/local/lib/python3.11/dist-packages (from PyPortfolioOpt) (5.24.1)\n",
            "Requirement already satisfied: scipy>=1.3 in /usr/local/lib/python3.11/dist-packages (from PyPortfolioOpt) (1.14.1)\n",
            "Requirement already satisfied: soupsieve>1.2 in /usr/local/lib/python3.11/dist-packages (from beautifulsoup4>=4.11.1->yfinance) (2.6)\n",
            "Requirement already satisfied: typing-extensions>=4.0.0 in /usr/local/lib/python3.11/dist-packages (from beautifulsoup4>=4.11.1->yfinance) (4.13.1)\n",
            "Requirement already satisfied: osqp>=0.6.2 in /usr/local/lib/python3.11/dist-packages (from cvxpy>=1.1.19->PyPortfolioOpt) (1.0.3)\n",
            "Requirement already satisfied: clarabel>=0.5.0 in /usr/local/lib/python3.11/dist-packages (from cvxpy>=1.1.19->PyPortfolioOpt) (0.10.0)\n",
            "Requirement already satisfied: scs>=3.2.4.post1 in /usr/local/lib/python3.11/dist-packages (from cvxpy>=1.1.19->PyPortfolioOpt) (3.2.7.post2)\n",
            "Requirement already satisfied: tenacity>=6.2.0 in /usr/local/lib/python3.11/dist-packages (from plotly<6.0.0,>=5.0.0->PyPortfolioOpt) (9.1.2)\n",
            "Requirement already satisfied: six>=1.5 in /usr/local/lib/python3.11/dist-packages (from python-dateutil>=2.8.2->pandas) (1.17.0)\n",
            "Requirement already satisfied: charset-normalizer<4,>=2 in /usr/local/lib/python3.11/dist-packages (from requests>=2.31->yfinance) (3.4.1)\n",
            "Requirement already satisfied: idna<4,>=2.5 in /usr/local/lib/python3.11/dist-packages (from requests>=2.31->yfinance) (3.10)\n",
            "Requirement already satisfied: urllib3<3,>=1.21.1 in /usr/local/lib/python3.11/dist-packages (from requests>=2.31->yfinance) (2.3.0)\n",
            "Requirement already satisfied: certifi>=2017.4.17 in /usr/local/lib/python3.11/dist-packages (from requests>=2.31->yfinance) (2025.1.31)\n",
            "Requirement already satisfied: jinja2 in /usr/local/lib/python3.11/dist-packages (from osqp>=0.6.2->cvxpy>=1.1.19->PyPortfolioOpt) (3.1.6)\n",
            "Requirement already satisfied: setuptools in /usr/local/lib/python3.11/dist-packages (from osqp>=0.6.2->cvxpy>=1.1.19->PyPortfolioOpt) (75.2.0)\n",
            "Requirement already satisfied: joblib in /usr/local/lib/python3.11/dist-packages (from osqp>=0.6.2->cvxpy>=1.1.19->PyPortfolioOpt) (1.4.2)\n",
            "Requirement already satisfied: MarkupSafe>=2.0 in /usr/local/lib/python3.11/dist-packages (from jinja2->osqp>=0.6.2->cvxpy>=1.1.19->PyPortfolioOpt) (3.0.2)\n",
            "Downloading pyportfolioopt-1.5.6-py3-none-any.whl (62 kB)\n",
            "\u001b[2K   \u001b[90m━━━━━━━━━━━━━━━━━━━━━━━━━━━━━━━━━━━━━━━━\u001b[0m \u001b[32m62.7/62.7 kB\u001b[0m \u001b[31m513.9 kB/s\u001b[0m eta \u001b[36m0:00:00\u001b[0m\n",
            "\u001b[?25hDownloading ecos-2.0.14-cp311-cp311-manylinux_2_17_x86_64.manylinux2014_x86_64.whl (220 kB)\n",
            "\u001b[2K   \u001b[90m━━━━━━━━━━━━━━━━━━━━━━━━━━━━━━━━━━━━━━━━\u001b[0m \u001b[32m220.1/220.1 kB\u001b[0m \u001b[31m2.6 MB/s\u001b[0m eta \u001b[36m0:00:00\u001b[0m\n",
            "\u001b[?25hInstalling collected packages: ecos, PyPortfolioOpt\n",
            "Successfully installed PyPortfolioOpt-1.5.6 ecos-2.0.14\n"
          ]
        }
      ],
      "source": [
        "!pip install pandas numpy matplotlib yfinance PyPortfolioOpt\n",
        "import os\n",
        "if not os.path.isdir('data'):\n",
        "    os.system('git clone https://github.com/robertmartin8/PyPortfolioOpt.git')\n",
        "    os.chdir('PyPortfolioOpt/cookbook')"
      ]
    },
    {
      "cell_type": "code",
      "execution_count": 2,
      "metadata": {
        "id": "shuJGGeo9ny8"
      },
      "outputs": [],
      "source": [
        "import yfinance as yf\n",
        "import matplotlib.pyplot as plt\n",
        "import pandas as pd\n",
        "import numpy as np"
      ]
    },
    {
      "cell_type": "code",
      "execution_count": 3,
      "metadata": {
        "id": "c4r8LJdC9ny8"
      },
      "outputs": [],
      "source": [
        "tickers = [\"MSFT\", \"AMZN\", \"KO\", \"MA\", \"COST\",\n",
        "           \"LUV\", \"XOM\", \"PFE\", \"JPM\", \"UNH\",\n",
        "           \"ACN\", \"DIS\", \"GILD\", \"F\", \"TSLA\"]"
      ]
    },
    {
      "cell_type": "code",
      "execution_count": 4,
      "metadata": {
        "colab": {
          "base_uri": "https://localhost:8080/"
        },
        "id": "XWdfXpB69ny9",
        "outputId": "ed549c25-08ae-480c-b12a-073129cc0805"
      },
      "outputs": [
        {
          "output_type": "stream",
          "name": "stdout",
          "text": [
            "YF.download() has changed argument auto_adjust default to True\n"
          ]
        },
        {
          "output_type": "stream",
          "name": "stderr",
          "text": [
            "[*********************100%***********************]  15 of 15 completed\n"
          ]
        }
      ],
      "source": [
        "ohlc = yf.download(tickers, period=\"max\").loc[\"1990\":]"
      ]
    },
    {
      "cell_type": "code",
      "execution_count": 5,
      "metadata": {
        "colab": {
          "base_uri": "https://localhost:8080/",
          "height": 238
        },
        "id": "S7voZG_T9ny-",
        "outputId": "d3e2c663-2a9e-4b9d-c1e1-b16cc371e49e"
      },
      "outputs": [
        {
          "output_type": "execute_result",
          "data": {
            "text/plain": [
              "Ticker             ACN        AMZN        COST        DIS     F        GILD  \\\n",
              "Date                                                                          \n",
              "2025-04-10  285.220001  181.220001  964.309998  85.230003  9.14  101.400002   \n",
              "2025-04-11  284.339996  184.869995  963.409973  84.889999  9.33  103.629997   \n",
              "2025-04-14  289.790009  182.119995  979.320007  84.660004  9.71  106.500000   \n",
              "2025-04-15  288.660004  179.589996  976.919983  85.010002  9.45  105.680000   \n",
              "2025-04-16  285.239990  174.330002  967.750000  82.769997  9.40  104.879997   \n",
              "\n",
              "Ticker             JPM         KO        LUV          MA        MSFT  \\\n",
              "Date                                                                   \n",
              "2025-04-10  227.110001  70.760002  25.790001  499.339996  381.350006   \n",
              "2025-04-11  236.199997  71.430000  26.190001  509.750000  388.450012   \n",
              "2025-04-14  234.720001  72.449997  25.559999  512.460022  387.809998   \n",
              "2025-04-15  233.130005  71.860001  25.809999  517.380005  385.730011   \n",
              "2025-04-16  229.610001  71.680000  24.860001  513.429993  371.609985   \n",
              "\n",
              "Ticker            PFE        TSLA         UNH         XOM  \n",
              "Date                                                       \n",
              "2025-04-10  21.590000  252.399994  594.400024   99.930000  \n",
              "2025-04-11  21.910000  252.309998  599.469971  103.139999  \n",
              "2025-04-14  22.120001  252.350006  587.059998  103.389999  \n",
              "2025-04-15  22.440001  254.110001  583.590027  103.099998  \n",
              "2025-04-16  22.040001  241.550003  585.039978  104.190002  "
            ],
            "text/html": [
              "\n",
              "  <div id=\"df-b936d358-be76-409f-ac94-d2fa1e775f0b\" class=\"colab-df-container\">\n",
              "    <div>\n",
              "<style scoped>\n",
              "    .dataframe tbody tr th:only-of-type {\n",
              "        vertical-align: middle;\n",
              "    }\n",
              "\n",
              "    .dataframe tbody tr th {\n",
              "        vertical-align: top;\n",
              "    }\n",
              "\n",
              "    .dataframe thead th {\n",
              "        text-align: right;\n",
              "    }\n",
              "</style>\n",
              "<table border=\"1\" class=\"dataframe\">\n",
              "  <thead>\n",
              "    <tr style=\"text-align: right;\">\n",
              "      <th>Ticker</th>\n",
              "      <th>ACN</th>\n",
              "      <th>AMZN</th>\n",
              "      <th>COST</th>\n",
              "      <th>DIS</th>\n",
              "      <th>F</th>\n",
              "      <th>GILD</th>\n",
              "      <th>JPM</th>\n",
              "      <th>KO</th>\n",
              "      <th>LUV</th>\n",
              "      <th>MA</th>\n",
              "      <th>MSFT</th>\n",
              "      <th>PFE</th>\n",
              "      <th>TSLA</th>\n",
              "      <th>UNH</th>\n",
              "      <th>XOM</th>\n",
              "    </tr>\n",
              "    <tr>\n",
              "      <th>Date</th>\n",
              "      <th></th>\n",
              "      <th></th>\n",
              "      <th></th>\n",
              "      <th></th>\n",
              "      <th></th>\n",
              "      <th></th>\n",
              "      <th></th>\n",
              "      <th></th>\n",
              "      <th></th>\n",
              "      <th></th>\n",
              "      <th></th>\n",
              "      <th></th>\n",
              "      <th></th>\n",
              "      <th></th>\n",
              "      <th></th>\n",
              "    </tr>\n",
              "  </thead>\n",
              "  <tbody>\n",
              "    <tr>\n",
              "      <th>2025-04-10</th>\n",
              "      <td>285.220001</td>\n",
              "      <td>181.220001</td>\n",
              "      <td>964.309998</td>\n",
              "      <td>85.230003</td>\n",
              "      <td>9.14</td>\n",
              "      <td>101.400002</td>\n",
              "      <td>227.110001</td>\n",
              "      <td>70.760002</td>\n",
              "      <td>25.790001</td>\n",
              "      <td>499.339996</td>\n",
              "      <td>381.350006</td>\n",
              "      <td>21.590000</td>\n",
              "      <td>252.399994</td>\n",
              "      <td>594.400024</td>\n",
              "      <td>99.930000</td>\n",
              "    </tr>\n",
              "    <tr>\n",
              "      <th>2025-04-11</th>\n",
              "      <td>284.339996</td>\n",
              "      <td>184.869995</td>\n",
              "      <td>963.409973</td>\n",
              "      <td>84.889999</td>\n",
              "      <td>9.33</td>\n",
              "      <td>103.629997</td>\n",
              "      <td>236.199997</td>\n",
              "      <td>71.430000</td>\n",
              "      <td>26.190001</td>\n",
              "      <td>509.750000</td>\n",
              "      <td>388.450012</td>\n",
              "      <td>21.910000</td>\n",
              "      <td>252.309998</td>\n",
              "      <td>599.469971</td>\n",
              "      <td>103.139999</td>\n",
              "    </tr>\n",
              "    <tr>\n",
              "      <th>2025-04-14</th>\n",
              "      <td>289.790009</td>\n",
              "      <td>182.119995</td>\n",
              "      <td>979.320007</td>\n",
              "      <td>84.660004</td>\n",
              "      <td>9.71</td>\n",
              "      <td>106.500000</td>\n",
              "      <td>234.720001</td>\n",
              "      <td>72.449997</td>\n",
              "      <td>25.559999</td>\n",
              "      <td>512.460022</td>\n",
              "      <td>387.809998</td>\n",
              "      <td>22.120001</td>\n",
              "      <td>252.350006</td>\n",
              "      <td>587.059998</td>\n",
              "      <td>103.389999</td>\n",
              "    </tr>\n",
              "    <tr>\n",
              "      <th>2025-04-15</th>\n",
              "      <td>288.660004</td>\n",
              "      <td>179.589996</td>\n",
              "      <td>976.919983</td>\n",
              "      <td>85.010002</td>\n",
              "      <td>9.45</td>\n",
              "      <td>105.680000</td>\n",
              "      <td>233.130005</td>\n",
              "      <td>71.860001</td>\n",
              "      <td>25.809999</td>\n",
              "      <td>517.380005</td>\n",
              "      <td>385.730011</td>\n",
              "      <td>22.440001</td>\n",
              "      <td>254.110001</td>\n",
              "      <td>583.590027</td>\n",
              "      <td>103.099998</td>\n",
              "    </tr>\n",
              "    <tr>\n",
              "      <th>2025-04-16</th>\n",
              "      <td>285.239990</td>\n",
              "      <td>174.330002</td>\n",
              "      <td>967.750000</td>\n",
              "      <td>82.769997</td>\n",
              "      <td>9.40</td>\n",
              "      <td>104.879997</td>\n",
              "      <td>229.610001</td>\n",
              "      <td>71.680000</td>\n",
              "      <td>24.860001</td>\n",
              "      <td>513.429993</td>\n",
              "      <td>371.609985</td>\n",
              "      <td>22.040001</td>\n",
              "      <td>241.550003</td>\n",
              "      <td>585.039978</td>\n",
              "      <td>104.190002</td>\n",
              "    </tr>\n",
              "  </tbody>\n",
              "</table>\n",
              "</div>\n",
              "    <div class=\"colab-df-buttons\">\n",
              "\n",
              "  <div class=\"colab-df-container\">\n",
              "    <button class=\"colab-df-convert\" onclick=\"convertToInteractive('df-b936d358-be76-409f-ac94-d2fa1e775f0b')\"\n",
              "            title=\"Convert this dataframe to an interactive table.\"\n",
              "            style=\"display:none;\">\n",
              "\n",
              "  <svg xmlns=\"http://www.w3.org/2000/svg\" height=\"24px\" viewBox=\"0 -960 960 960\">\n",
              "    <path d=\"M120-120v-720h720v720H120Zm60-500h600v-160H180v160Zm220 220h160v-160H400v160Zm0 220h160v-160H400v160ZM180-400h160v-160H180v160Zm440 0h160v-160H620v160ZM180-180h160v-160H180v160Zm440 0h160v-160H620v160Z\"/>\n",
              "  </svg>\n",
              "    </button>\n",
              "\n",
              "  <style>\n",
              "    .colab-df-container {\n",
              "      display:flex;\n",
              "      gap: 12px;\n",
              "    }\n",
              "\n",
              "    .colab-df-convert {\n",
              "      background-color: #E8F0FE;\n",
              "      border: none;\n",
              "      border-radius: 50%;\n",
              "      cursor: pointer;\n",
              "      display: none;\n",
              "      fill: #1967D2;\n",
              "      height: 32px;\n",
              "      padding: 0 0 0 0;\n",
              "      width: 32px;\n",
              "    }\n",
              "\n",
              "    .colab-df-convert:hover {\n",
              "      background-color: #E2EBFA;\n",
              "      box-shadow: 0px 1px 2px rgba(60, 64, 67, 0.3), 0px 1px 3px 1px rgba(60, 64, 67, 0.15);\n",
              "      fill: #174EA6;\n",
              "    }\n",
              "\n",
              "    .colab-df-buttons div {\n",
              "      margin-bottom: 4px;\n",
              "    }\n",
              "\n",
              "    [theme=dark] .colab-df-convert {\n",
              "      background-color: #3B4455;\n",
              "      fill: #D2E3FC;\n",
              "    }\n",
              "\n",
              "    [theme=dark] .colab-df-convert:hover {\n",
              "      background-color: #434B5C;\n",
              "      box-shadow: 0px 1px 3px 1px rgba(0, 0, 0, 0.15);\n",
              "      filter: drop-shadow(0px 1px 2px rgba(0, 0, 0, 0.3));\n",
              "      fill: #FFFFFF;\n",
              "    }\n",
              "  </style>\n",
              "\n",
              "    <script>\n",
              "      const buttonEl =\n",
              "        document.querySelector('#df-b936d358-be76-409f-ac94-d2fa1e775f0b button.colab-df-convert');\n",
              "      buttonEl.style.display =\n",
              "        google.colab.kernel.accessAllowed ? 'block' : 'none';\n",
              "\n",
              "      async function convertToInteractive(key) {\n",
              "        const element = document.querySelector('#df-b936d358-be76-409f-ac94-d2fa1e775f0b');\n",
              "        const dataTable =\n",
              "          await google.colab.kernel.invokeFunction('convertToInteractive',\n",
              "                                                    [key], {});\n",
              "        if (!dataTable) return;\n",
              "\n",
              "        const docLinkHtml = 'Like what you see? Visit the ' +\n",
              "          '<a target=\"_blank\" href=https://colab.research.google.com/notebooks/data_table.ipynb>data table notebook</a>'\n",
              "          + ' to learn more about interactive tables.';\n",
              "        element.innerHTML = '';\n",
              "        dataTable['output_type'] = 'display_data';\n",
              "        await google.colab.output.renderOutput(dataTable, element);\n",
              "        const docLink = document.createElement('div');\n",
              "        docLink.innerHTML = docLinkHtml;\n",
              "        element.appendChild(docLink);\n",
              "      }\n",
              "    </script>\n",
              "  </div>\n",
              "\n",
              "\n",
              "<div id=\"df-170822f3-7110-47e7-8904-d269ecf2fb40\">\n",
              "  <button class=\"colab-df-quickchart\" onclick=\"quickchart('df-170822f3-7110-47e7-8904-d269ecf2fb40')\"\n",
              "            title=\"Suggest charts\"\n",
              "            style=\"display:none;\">\n",
              "\n",
              "<svg xmlns=\"http://www.w3.org/2000/svg\" height=\"24px\"viewBox=\"0 0 24 24\"\n",
              "     width=\"24px\">\n",
              "    <g>\n",
              "        <path d=\"M19 3H5c-1.1 0-2 .9-2 2v14c0 1.1.9 2 2 2h14c1.1 0 2-.9 2-2V5c0-1.1-.9-2-2-2zM9 17H7v-7h2v7zm4 0h-2V7h2v10zm4 0h-2v-4h2v4z\"/>\n",
              "    </g>\n",
              "</svg>\n",
              "  </button>\n",
              "\n",
              "<style>\n",
              "  .colab-df-quickchart {\n",
              "      --bg-color: #E8F0FE;\n",
              "      --fill-color: #1967D2;\n",
              "      --hover-bg-color: #E2EBFA;\n",
              "      --hover-fill-color: #174EA6;\n",
              "      --disabled-fill-color: #AAA;\n",
              "      --disabled-bg-color: #DDD;\n",
              "  }\n",
              "\n",
              "  [theme=dark] .colab-df-quickchart {\n",
              "      --bg-color: #3B4455;\n",
              "      --fill-color: #D2E3FC;\n",
              "      --hover-bg-color: #434B5C;\n",
              "      --hover-fill-color: #FFFFFF;\n",
              "      --disabled-bg-color: #3B4455;\n",
              "      --disabled-fill-color: #666;\n",
              "  }\n",
              "\n",
              "  .colab-df-quickchart {\n",
              "    background-color: var(--bg-color);\n",
              "    border: none;\n",
              "    border-radius: 50%;\n",
              "    cursor: pointer;\n",
              "    display: none;\n",
              "    fill: var(--fill-color);\n",
              "    height: 32px;\n",
              "    padding: 0;\n",
              "    width: 32px;\n",
              "  }\n",
              "\n",
              "  .colab-df-quickchart:hover {\n",
              "    background-color: var(--hover-bg-color);\n",
              "    box-shadow: 0 1px 2px rgba(60, 64, 67, 0.3), 0 1px 3px 1px rgba(60, 64, 67, 0.15);\n",
              "    fill: var(--button-hover-fill-color);\n",
              "  }\n",
              "\n",
              "  .colab-df-quickchart-complete:disabled,\n",
              "  .colab-df-quickchart-complete:disabled:hover {\n",
              "    background-color: var(--disabled-bg-color);\n",
              "    fill: var(--disabled-fill-color);\n",
              "    box-shadow: none;\n",
              "  }\n",
              "\n",
              "  .colab-df-spinner {\n",
              "    border: 2px solid var(--fill-color);\n",
              "    border-color: transparent;\n",
              "    border-bottom-color: var(--fill-color);\n",
              "    animation:\n",
              "      spin 1s steps(1) infinite;\n",
              "  }\n",
              "\n",
              "  @keyframes spin {\n",
              "    0% {\n",
              "      border-color: transparent;\n",
              "      border-bottom-color: var(--fill-color);\n",
              "      border-left-color: var(--fill-color);\n",
              "    }\n",
              "    20% {\n",
              "      border-color: transparent;\n",
              "      border-left-color: var(--fill-color);\n",
              "      border-top-color: var(--fill-color);\n",
              "    }\n",
              "    30% {\n",
              "      border-color: transparent;\n",
              "      border-left-color: var(--fill-color);\n",
              "      border-top-color: var(--fill-color);\n",
              "      border-right-color: var(--fill-color);\n",
              "    }\n",
              "    40% {\n",
              "      border-color: transparent;\n",
              "      border-right-color: var(--fill-color);\n",
              "      border-top-color: var(--fill-color);\n",
              "    }\n",
              "    60% {\n",
              "      border-color: transparent;\n",
              "      border-right-color: var(--fill-color);\n",
              "    }\n",
              "    80% {\n",
              "      border-color: transparent;\n",
              "      border-right-color: var(--fill-color);\n",
              "      border-bottom-color: var(--fill-color);\n",
              "    }\n",
              "    90% {\n",
              "      border-color: transparent;\n",
              "      border-bottom-color: var(--fill-color);\n",
              "    }\n",
              "  }\n",
              "</style>\n",
              "\n",
              "  <script>\n",
              "    async function quickchart(key) {\n",
              "      const quickchartButtonEl =\n",
              "        document.querySelector('#' + key + ' button');\n",
              "      quickchartButtonEl.disabled = true;  // To prevent multiple clicks.\n",
              "      quickchartButtonEl.classList.add('colab-df-spinner');\n",
              "      try {\n",
              "        const charts = await google.colab.kernel.invokeFunction(\n",
              "            'suggestCharts', [key], {});\n",
              "      } catch (error) {\n",
              "        console.error('Error during call to suggestCharts:', error);\n",
              "      }\n",
              "      quickchartButtonEl.classList.remove('colab-df-spinner');\n",
              "      quickchartButtonEl.classList.add('colab-df-quickchart-complete');\n",
              "    }\n",
              "    (() => {\n",
              "      let quickchartButtonEl =\n",
              "        document.querySelector('#df-170822f3-7110-47e7-8904-d269ecf2fb40 button');\n",
              "      quickchartButtonEl.style.display =\n",
              "        google.colab.kernel.accessAllowed ? 'block' : 'none';\n",
              "    })();\n",
              "  </script>\n",
              "</div>\n",
              "\n",
              "    </div>\n",
              "  </div>\n"
            ],
            "application/vnd.google.colaboratory.intrinsic+json": {
              "type": "dataframe",
              "summary": "{\n  \"name\": \"prices\",\n  \"rows\": 5,\n  \"fields\": [\n    {\n      \"column\": \"Date\",\n      \"properties\": {\n        \"dtype\": \"date\",\n        \"min\": \"2025-04-10 00:00:00\",\n        \"max\": \"2025-04-16 00:00:00\",\n        \"num_unique_values\": 5,\n        \"samples\": [\n          \"2025-04-11 00:00:00\",\n          \"2025-04-16 00:00:00\",\n          \"2025-04-14 00:00:00\"\n        ],\n        \"semantic_type\": \"\",\n        \"description\": \"\"\n      }\n    },\n    {\n      \"column\": \"ACN\",\n      \"properties\": {\n        \"dtype\": \"number\",\n        \"std\": 2.4118928951542724,\n        \"min\": 284.3399963378906,\n        \"max\": 289.7900085449219,\n        \"num_unique_values\": 5,\n        \"samples\": [\n          284.3399963378906,\n          285.239990234375,\n          289.7900085449219\n        ],\n        \"semantic_type\": \"\",\n        \"description\": \"\"\n      }\n    },\n    {\n      \"column\": \"AMZN\",\n      \"properties\": {\n        \"dtype\": \"number\",\n        \"std\": 3.908620146418133,\n        \"min\": 174.3300018310547,\n        \"max\": 184.8699951171875,\n        \"num_unique_values\": 5,\n        \"samples\": [\n          184.8699951171875,\n          174.3300018310547,\n          182.1199951171875\n        ],\n        \"semantic_type\": \"\",\n        \"description\": \"\"\n      }\n    },\n    {\n      \"column\": \"COST\",\n      \"properties\": {\n        \"dtype\": \"number\",\n        \"std\": 7.331967479091117,\n        \"min\": 963.4099731445312,\n        \"max\": 979.3200073242188,\n        \"num_unique_values\": 5,\n        \"samples\": [\n          963.4099731445312,\n          967.75,\n          979.3200073242188\n        ],\n        \"semantic_type\": \"\",\n        \"description\": \"\"\n      }\n    },\n    {\n      \"column\": \"DIS\",\n      \"properties\": {\n        \"dtype\": \"number\",\n        \"std\": 0.9953516045087941,\n        \"min\": 82.7699966430664,\n        \"max\": 85.2300033569336,\n        \"num_unique_values\": 5,\n        \"samples\": [\n          84.88999938964844,\n          82.7699966430664,\n          84.66000366210938\n        ],\n        \"semantic_type\": \"\",\n        \"description\": \"\"\n      }\n    },\n    {\n      \"column\": \"F\",\n      \"properties\": {\n        \"dtype\": \"number\",\n        \"std\": 0.20671226374818422,\n        \"min\": 9.140000343322754,\n        \"max\": 9.710000038146973,\n        \"num_unique_values\": 5,\n        \"samples\": [\n          9.329999923706055,\n          9.399999618530273,\n          9.710000038146973\n        ],\n        \"semantic_type\": \"\",\n        \"description\": \"\"\n      }\n    },\n    {\n      \"column\": \"GILD\",\n      \"properties\": {\n        \"dtype\": \"number\",\n        \"std\": 1.9918630318651998,\n        \"min\": 101.4000015258789,\n        \"max\": 106.5,\n        \"num_unique_values\": 5,\n        \"samples\": [\n          103.62999725341797,\n          104.87999725341797,\n          106.5\n        ],\n        \"semantic_type\": \"\",\n        \"description\": \"\"\n      }\n    },\n    {\n      \"column\": \"JPM\",\n      \"properties\": {\n        \"dtype\": \"number\",\n        \"std\": 3.7356693455929237,\n        \"min\": 227.11000061035156,\n        \"max\": 236.1999969482422,\n        \"num_unique_values\": 5,\n        \"samples\": [\n          236.1999969482422,\n          229.61000061035156,\n          234.72000122070312\n        ],\n        \"semantic_type\": \"\",\n        \"description\": \"\"\n      }\n    },\n    {\n      \"column\": \"KO\",\n      \"properties\": {\n        \"dtype\": \"number\",\n        \"std\": 0.6173555425436512,\n        \"min\": 70.76000213623047,\n        \"max\": 72.44999694824219,\n        \"num_unique_values\": 5,\n        \"samples\": [\n          71.43000030517578,\n          71.68000030517578,\n          72.44999694824219\n        ],\n        \"semantic_type\": \"\",\n        \"description\": \"\"\n      }\n    },\n    {\n      \"column\": \"LUV\",\n      \"properties\": {\n        \"dtype\": \"number\",\n        \"std\": 0.4921076634938126,\n        \"min\": 24.860000610351562,\n        \"max\": 26.190000534057617,\n        \"num_unique_values\": 5,\n        \"samples\": [\n          26.190000534057617,\n          24.860000610351562,\n          25.559999465942383\n        ],\n        \"semantic_type\": \"\",\n        \"description\": \"\"\n      }\n    },\n    {\n      \"column\": \"MA\",\n      \"properties\": {\n        \"dtype\": \"number\",\n        \"std\": 6.798258472356488,\n        \"min\": 499.3399963378906,\n        \"max\": 517.3800048828125,\n        \"num_unique_values\": 5,\n        \"samples\": [\n          509.75,\n          513.4299926757812,\n          512.4600219726562\n        ],\n        \"semantic_type\": \"\",\n        \"description\": \"\"\n      }\n    },\n    {\n      \"column\": \"MSFT\",\n      \"properties\": {\n        \"dtype\": \"number\",\n        \"std\": 6.941651160748916,\n        \"min\": 371.6099853515625,\n        \"max\": 388.45001220703125,\n        \"num_unique_values\": 5,\n        \"samples\": [\n          388.45001220703125,\n          371.6099853515625,\n          387.80999755859375\n        ],\n        \"semantic_type\": \"\",\n        \"description\": \"\"\n      }\n    },\n    {\n      \"column\": \"PFE\",\n      \"properties\": {\n        \"dtype\": \"number\",\n        \"std\": 0.30975819416956046,\n        \"min\": 21.59000015258789,\n        \"max\": 22.440000534057617,\n        \"num_unique_values\": 5,\n        \"samples\": [\n          21.90999984741211,\n          22.040000915527344,\n          22.1200008392334\n        ],\n        \"semantic_type\": \"\",\n        \"description\": \"\"\n      }\n    },\n    {\n      \"column\": \"TSLA\",\n      \"properties\": {\n        \"dtype\": \"number\",\n        \"std\": 5.085112098683254,\n        \"min\": 241.5500030517578,\n        \"max\": 254.11000061035156,\n        \"num_unique_values\": 5,\n        \"samples\": [\n          252.30999755859375,\n          241.5500030517578,\n          252.35000610351562\n        ],\n        \"semantic_type\": \"\",\n        \"description\": \"\"\n      }\n    },\n    {\n      \"column\": \"UNH\",\n      \"properties\": {\n        \"dtype\": \"number\",\n        \"std\": 6.770063285727515,\n        \"min\": 583.5900268554688,\n        \"max\": 599.469970703125,\n        \"num_unique_values\": 5,\n        \"samples\": [\n          599.469970703125,\n          585.0399780273438,\n          587.0599975585938\n        ],\n        \"semantic_type\": \"\",\n        \"description\": \"\"\n      }\n    },\n    {\n      \"column\": \"XOM\",\n      \"properties\": {\n        \"dtype\": \"number\",\n        \"std\": 1.6363223234305235,\n        \"min\": 99.93000030517578,\n        \"max\": 104.19000244140625,\n        \"num_unique_values\": 5,\n        \"samples\": [\n          103.13999938964844,\n          104.19000244140625,\n          103.38999938964844\n        ],\n        \"semantic_type\": \"\",\n        \"description\": \"\"\n      }\n    }\n  ]\n}"
            }
          },
          "metadata": {},
          "execution_count": 5
        }
      ],
      "source": [
        "prices = ohlc[\"Close\"].dropna(how=\"all\")\n",
        "prices.tail()"
      ]
    },
    {
      "cell_type": "code",
      "execution_count": 6,
      "metadata": {
        "colab": {
          "base_uri": "https://localhost:8080/",
          "height": 776
        },
        "id": "-8Et4dlp9ny-",
        "outputId": "f5debb47-90bc-4553-db60-56a6096109c0"
      },
      "outputs": [
        {
          "output_type": "display_data",
          "data": {
            "text/plain": [
              "<Figure size 1500x1000 with 1 Axes>"
            ],
            "image/png": "[encoded data removed]"
          },
          "metadata": {}
        }
      ],
      "source": [
        "prices[prices.index >= \"2008-01-01\"].plot(figsize=(15,10));"
      ]
    },
    {
      "cell_type": "markdown",
      "metadata": {
        "id": "v4vdGWLR9ny-"
      },
      "source": [
        "## Calculating the covariance matrix"
      ]
    },
    {
      "cell_type": "code",
      "execution_count": 13,
      "metadata": {
        "colab": {
          "base_uri": "https://localhost:8080/",
          "height": 35
        },
        "id": "dTFkI4ll9ny-",
        "outputId": "b87a036e-0228-4929-ed4c-2f06e119bbb2"
      },
      "outputs": [
        {
          "output_type": "execute_result",
          "data": {
            "text/plain": [
              "'1.5.6'"
            ],
            "application/vnd.google.colaboratory.intrinsic+json": {
              "type": "string"
            }
          },
          "metadata": {},
          "execution_count": 13
        }
      ],
      "source": [
        "import pypfopt\n",
        "pypfopt.__version__"
      ]
    },
    {
      "cell_type": "code",
      "execution_count": 14,
      "metadata": {
        "colab": {
          "base_uri": "https://localhost:8080/",
          "height": 551
        },
        "id": "0hDN8ZJG9ny_",
        "outputId": "75573710-61f9-49b7-b77f-1d0c26e93b01"
      },
      "outputs": [
        {
          "output_type": "execute_result",
          "data": {
            "text/plain": [
              "Ticker       ACN      AMZN      COST       DIS         F      GILD       JPM  \\\n",
              "Ticker                                                                         \n",
              "ACN     0.088314  0.045563  0.027536  0.039811  0.043217  0.027627  0.045670   \n",
              "AMZN    0.045563  0.311623  0.046522  0.054574  0.051794  0.053697  0.062800   \n",
              "COST    0.027536  0.046522  0.093591  0.028307  0.030315  0.025608  0.036187   \n",
              "DIS     0.039811  0.054574  0.028307  0.089562  0.043394  0.030518  0.050109   \n",
              "F       0.043217  0.051794  0.030315  0.043394  0.151499  0.028953  0.059733   \n",
              "GILD    0.027627  0.053697  0.025608  0.030518  0.028953  0.219780  0.040023   \n",
              "JPM     0.045670  0.062800  0.036187  0.050109  0.059733  0.040023  0.135044   \n",
              "KO      0.019320  0.018665  0.018052  0.021934  0.022730  0.016380  0.025420   \n",
              "LUV     0.036398  0.047016  0.029320  0.041542  0.050245  0.029831  0.053196   \n",
              "MA      0.043634  0.053614  0.030814  0.047826  0.058153  0.029659  0.063636   \n",
              "MSFT    0.040618  0.071506  0.034218  0.037412  0.038841  0.033121  0.046169   \n",
              "PFE     0.024673  0.029341  0.022592  0.024580  0.024372  0.031413  0.032435   \n",
              "TSLA    0.042988  0.069282  0.031463  0.045196  0.060509  0.029233  0.042947   \n",
              "UNH     0.028284  0.031675  0.023937  0.028872  0.029056  0.032015  0.038318   \n",
              "XOM     0.028362  0.025115  0.017532  0.028145  0.030471  0.020316  0.034640   \n",
              "\n",
              "Ticker        KO       LUV        MA      MSFT       PFE      TSLA       UNH  \\\n",
              "Ticker                                                                         \n",
              "ACN     0.019320  0.036398  0.043634  0.040618  0.024673  0.042988  0.028284   \n",
              "AMZN    0.018665  0.047016  0.053614  0.071506  0.029341  0.069282  0.031675   \n",
              "COST    0.018052  0.029320  0.030814  0.034218  0.022592  0.031463  0.023937   \n",
              "DIS     0.021934  0.041542  0.047826  0.037412  0.024580  0.045196  0.028872   \n",
              "F       0.022730  0.050245  0.058153  0.038841  0.024372  0.060509  0.029056   \n",
              "GILD    0.016380  0.029831  0.029659  0.033121  0.031413  0.029233  0.032015   \n",
              "JPM     0.025420  0.053196  0.063636  0.046169  0.032435  0.042947  0.038318   \n",
              "KO      0.047715  0.019410  0.024259  0.021155  0.021491  0.015744  0.022189   \n",
              "LUV     0.019410  0.137140  0.045935  0.033699  0.024197  0.046731  0.030139   \n",
              "MA      0.024259  0.045935  0.107944  0.046368  0.029395  0.048389  0.038205   \n",
              "MSFT    0.021155  0.033699  0.046368  0.099077  0.026417  0.053701  0.030115   \n",
              "PFE     0.021491  0.024197  0.029395  0.026417  0.070364  0.017120  0.027981   \n",
              "TSLA    0.015744  0.046731  0.048389  0.053701  0.017120  0.336768  0.027826   \n",
              "UNH     0.022189  0.030139  0.038205  0.030115  0.027981  0.027826  0.127604   \n",
              "XOM     0.019868  0.023138  0.038389  0.023963  0.021802  0.026771  0.023022   \n",
              "\n",
              "Ticker       XOM  \n",
              "Ticker            \n",
              "ACN     0.028362  \n",
              "AMZN    0.025115  \n",
              "COST    0.017532  \n",
              "DIS     0.028145  \n",
              "F       0.030471  \n",
              "GILD    0.020316  \n",
              "JPM     0.034640  \n",
              "KO      0.019868  \n",
              "LUV     0.023138  \n",
              "MA      0.038389  \n",
              "MSFT    0.023963  \n",
              "PFE     0.021802  \n",
              "TSLA    0.026771  \n",
              "UNH     0.023022  \n",
              "XOM     0.061993  "
            ],
            "text/html": [
              "\n",
              "  <div id=\"df-3903f93f-01f0-4b69-a27c-b64f4bc011a4\" class=\"colab-df-container\">\n",
              "    <div>\n",
              "<style scoped>\n",
              "    .dataframe tbody tr th:only-of-type {\n",
              "        vertical-align: middle;\n",
              "    }\n",
              "\n",
              "    .dataframe tbody tr th {\n",
              "        vertical-align: top;\n",
              "    }\n",
              "\n",
              "    .dataframe thead th {\n",
              "        text-align: right;\n",
              "    }\n",
              "</style>\n",
              "<table border=\"1\" class=\"dataframe\">\n",
              "  <thead>\n",
              "    <tr style=\"text-align: right;\">\n",
              "      <th>Ticker</th>\n",
              "      <th>ACN</th>\n",
              "      <th>AMZN</th>\n",
              "      <th>COST</th>\n",
              "      <th>DIS</th>\n",
              "      <th>F</th>\n",
              "      <th>GILD</th>\n",
              "      <th>JPM</th>\n",
              "      <th>KO</th>\n",
              "      <th>LUV</th>\n",
              "      <th>MA</th>\n",
              "      <th>MSFT</th>\n",
              "      <th>PFE</th>\n",
              "      <th>TSLA</th>\n",
              "      <th>UNH</th>\n",
              "      <th>XOM</th>\n",
              "    </tr>\n",
              "    <tr>\n",
              "      <th>Ticker</th>\n",
              "      <th></th>\n",
              "      <th></th>\n",
              "      <th></th>\n",
              "      <th></th>\n",
              "      <th></th>\n",
              "      <th></th>\n",
              "      <th></th>\n",
              "      <th></th>\n",
              "      <th></th>\n",
              "      <th></th>\n",
              "      <th></th>\n",
              "      <th></th>\n",
              "      <th></th>\n",
              "      <th></th>\n",
              "      <th></th>\n",
              "    </tr>\n",
              "  </thead>\n",
              "  <tbody>\n",
              "    <tr>\n",
              "      <th>ACN</th>\n",
              "      <td>0.088314</td>\n",
              "      <td>0.045563</td>\n",
              "      <td>0.027536</td>\n",
              "      <td>0.039811</td>\n",
              "      <td>0.043217</td>\n",
              "      <td>0.027627</td>\n",
              "      <td>0.045670</td>\n",
              "      <td>0.019320</td>\n",
              "      <td>0.036398</td>\n",
              "      <td>0.043634</td>\n",
              "      <td>0.040618</td>\n",
              "      <td>0.024673</td>\n",
              "      <td>0.042988</td>\n",
              "      <td>0.028284</td>\n",
              "      <td>0.028362</td>\n",
              "    </tr>\n",
              "    <tr>\n",
              "      <th>AMZN</th>\n",
              "      <td>0.045563</td>\n",
              "      <td>0.311623</td>\n",
              "      <td>0.046522</td>\n",
              "      <td>0.054574</td>\n",
              "      <td>0.051794</td>\n",
              "      <td>0.053697</td>\n",
              "      <td>0.062800</td>\n",
              "      <td>0.018665</td>\n",
              "      <td>0.047016</td>\n",
              "      <td>0.053614</td>\n",
              "      <td>0.071506</td>\n",
              "      <td>0.029341</td>\n",
              "      <td>0.069282</td>\n",
              "      <td>0.031675</td>\n",
              "      <td>0.025115</td>\n",
              "    </tr>\n",
              "    <tr>\n",
              "      <th>COST</th>\n",
              "      <td>0.027536</td>\n",
              "      <td>0.046522</td>\n",
              "      <td>0.093591</td>\n",
              "      <td>0.028307</td>\n",
              "      <td>0.030315</td>\n",
              "      <td>0.025608</td>\n",
              "      <td>0.036187</td>\n",
              "      <td>0.018052</td>\n",
              "      <td>0.029320</td>\n",
              "      <td>0.030814</td>\n",
              "      <td>0.034218</td>\n",
              "      <td>0.022592</td>\n",
              "      <td>0.031463</td>\n",
              "      <td>0.023937</td>\n",
              "      <td>0.017532</td>\n",
              "    </tr>\n",
              "    <tr>\n",
              "      <th>DIS</th>\n",
              "      <td>0.039811</td>\n",
              "      <td>0.054574</td>\n",
              "      <td>0.028307</td>\n",
              "      <td>0.089562</td>\n",
              "      <td>0.043394</td>\n",
              "      <td>0.030518</td>\n",
              "      <td>0.050109</td>\n",
              "      <td>0.021934</td>\n",
              "      <td>0.041542</td>\n",
              "      <td>0.047826</td>\n",
              "      <td>0.037412</td>\n",
              "      <td>0.024580</td>\n",
              "      <td>0.045196</td>\n",
              "      <td>0.028872</td>\n",
              "      <td>0.028145</td>\n",
              "    </tr>\n",
              "    <tr>\n",
              "      <th>F</th>\n",
              "      <td>0.043217</td>\n",
              "      <td>0.051794</td>\n",
              "      <td>0.030315</td>\n",
              "      <td>0.043394</td>\n",
              "      <td>0.151499</td>\n",
              "      <td>0.028953</td>\n",
              "      <td>0.059733</td>\n",
              "      <td>0.022730</td>\n",
              "      <td>0.050245</td>\n",
              "      <td>0.058153</td>\n",
              "      <td>0.038841</td>\n",
              "      <td>0.024372</td>\n",
              "      <td>0.060509</td>\n",
              "      <td>0.029056</td>\n",
              "      <td>0.030471</td>\n",
              "    </tr>\n",
              "    <tr>\n",
              "      <th>GILD</th>\n",
              "      <td>0.027627</td>\n",
              "      <td>0.053697</td>\n",
              "      <td>0.025608</td>\n",
              "      <td>0.030518</td>\n",
              "      <td>0.028953</td>\n",
              "      <td>0.219780</td>\n",
              "      <td>0.040023</td>\n",
              "      <td>0.016380</td>\n",
              "      <td>0.029831</td>\n",
              "      <td>0.029659</td>\n",
              "      <td>0.033121</td>\n",
              "      <td>0.031413</td>\n",
              "      <td>0.029233</td>\n",
              "      <td>0.032015</td>\n",
              "      <td>0.020316</td>\n",
              "    </tr>\n",
              "    <tr>\n",
              "      <th>JPM</th>\n",
              "      <td>0.045670</td>\n",
              "      <td>0.062800</td>\n",
              "      <td>0.036187</td>\n",
              "      <td>0.050109</td>\n",
              "      <td>0.059733</td>\n",
              "      <td>0.040023</td>\n",
              "      <td>0.135044</td>\n",
              "      <td>0.025420</td>\n",
              "      <td>0.053196</td>\n",
              "      <td>0.063636</td>\n",
              "      <td>0.046169</td>\n",
              "      <td>0.032435</td>\n",
              "      <td>0.042947</td>\n",
              "      <td>0.038318</td>\n",
              "      <td>0.034640</td>\n",
              "    </tr>\n",
              "    <tr>\n",
              "      <th>KO</th>\n",
              "      <td>0.019320</td>\n",
              "      <td>0.018665</td>\n",
              "      <td>0.018052</td>\n",
              "      <td>0.021934</td>\n",
              "      <td>0.022730</td>\n",
              "      <td>0.016380</td>\n",
              "      <td>0.025420</td>\n",
              "      <td>0.047715</td>\n",
              "      <td>0.019410</td>\n",
              "      <td>0.024259</td>\n",
              "      <td>0.021155</td>\n",
              "      <td>0.021491</td>\n",
              "      <td>0.015744</td>\n",
              "      <td>0.022189</td>\n",
              "      <td>0.019868</td>\n",
              "    </tr>\n",
              "    <tr>\n",
              "      <th>LUV</th>\n",
              "      <td>0.036398</td>\n",
              "      <td>0.047016</td>\n",
              "      <td>0.029320</td>\n",
              "      <td>0.041542</td>\n",
              "      <td>0.050245</td>\n",
              "      <td>0.029831</td>\n",
              "      <td>0.053196</td>\n",
              "      <td>0.019410</td>\n",
              "      <td>0.137140</td>\n",
              "      <td>0.045935</td>\n",
              "      <td>0.033699</td>\n",
              "      <td>0.024197</td>\n",
              "      <td>0.046731</td>\n",
              "      <td>0.030139</td>\n",
              "      <td>0.023138</td>\n",
              "    </tr>\n",
              "    <tr>\n",
              "      <th>MA</th>\n",
              "      <td>0.043634</td>\n",
              "      <td>0.053614</td>\n",
              "      <td>0.030814</td>\n",
              "      <td>0.047826</td>\n",
              "      <td>0.058153</td>\n",
              "      <td>0.029659</td>\n",
              "      <td>0.063636</td>\n",
              "      <td>0.024259</td>\n",
              "      <td>0.045935</td>\n",
              "      <td>0.107944</td>\n",
              "      <td>0.046368</td>\n",
              "      <td>0.029395</td>\n",
              "      <td>0.048389</td>\n",
              "      <td>0.038205</td>\n",
              "      <td>0.038389</td>\n",
              "    </tr>\n",
              "    <tr>\n",
              "      <th>MSFT</th>\n",
              "      <td>0.040618</td>\n",
              "      <td>0.071506</td>\n",
              "      <td>0.034218</td>\n",
              "      <td>0.037412</td>\n",
              "      <td>0.038841</td>\n",
              "      <td>0.033121</td>\n",
              "      <td>0.046169</td>\n",
              "      <td>0.021155</td>\n",
              "      <td>0.033699</td>\n",
              "      <td>0.046368</td>\n",
              "      <td>0.099077</td>\n",
              "      <td>0.026417</td>\n",
              "      <td>0.053701</td>\n",
              "      <td>0.030115</td>\n",
              "      <td>0.023963</td>\n",
              "    </tr>\n",
              "    <tr>\n",
              "      <th>PFE</th>\n",
              "      <td>0.024673</td>\n",
              "      <td>0.029341</td>\n",
              "      <td>0.022592</td>\n",
              "      <td>0.024580</td>\n",
              "      <td>0.024372</td>\n",
              "      <td>0.031413</td>\n",
              "      <td>0.032435</td>\n",
              "      <td>0.021491</td>\n",
              "      <td>0.024197</td>\n",
              "      <td>0.029395</td>\n",
              "      <td>0.026417</td>\n",
              "      <td>0.070364</td>\n",
              "      <td>0.017120</td>\n",
              "      <td>0.027981</td>\n",
              "      <td>0.021802</td>\n",
              "    </tr>\n",
              "    <tr>\n",
              "      <th>TSLA</th>\n",
              "      <td>0.042988</td>\n",
              "      <td>0.069282</td>\n",
              "      <td>0.031463</td>\n",
              "      <td>0.045196</td>\n",
              "      <td>0.060509</td>\n",
              "      <td>0.029233</td>\n",
              "      <td>0.042947</td>\n",
              "      <td>0.015744</td>\n",
              "      <td>0.046731</td>\n",
              "      <td>0.048389</td>\n",
              "      <td>0.053701</td>\n",
              "      <td>0.017120</td>\n",
              "      <td>0.336768</td>\n",
              "      <td>0.027826</td>\n",
              "      <td>0.026771</td>\n",
              "    </tr>\n",
              "    <tr>\n",
              "      <th>UNH</th>\n",
              "      <td>0.028284</td>\n",
              "      <td>0.031675</td>\n",
              "      <td>0.023937</td>\n",
              "      <td>0.028872</td>\n",
              "      <td>0.029056</td>\n",
              "      <td>0.032015</td>\n",
              "      <td>0.038318</td>\n",
              "      <td>0.022189</td>\n",
              "      <td>0.030139</td>\n",
              "      <td>0.038205</td>\n",
              "      <td>0.030115</td>\n",
              "      <td>0.027981</td>\n",
              "      <td>0.027826</td>\n",
              "      <td>0.127604</td>\n",
              "      <td>0.023022</td>\n",
              "    </tr>\n",
              "    <tr>\n",
              "      <th>XOM</th>\n",
              "      <td>0.028362</td>\n",
              "      <td>0.025115</td>\n",
              "      <td>0.017532</td>\n",
              "      <td>0.028145</td>\n",
              "      <td>0.030471</td>\n",
              "      <td>0.020316</td>\n",
              "      <td>0.034640</td>\n",
              "      <td>0.019868</td>\n",
              "      <td>0.023138</td>\n",
              "      <td>0.038389</td>\n",
              "      <td>0.023963</td>\n",
              "      <td>0.021802</td>\n",
              "      <td>0.026771</td>\n",
              "      <td>0.023022</td>\n",
              "      <td>0.061993</td>\n",
              "    </tr>\n",
              "  </tbody>\n",
              "</table>\n",
              "</div>\n",
              "    <div class=\"colab-df-buttons\">\n",
              "\n",
              "  <div class=\"colab-df-container\">\n",
              "    <button class=\"colab-df-convert\" onclick=\"convertToInteractive('df-3903f93f-01f0-4b69-a27c-b64f4bc011a4')\"\n",
              "            title=\"Convert this dataframe to an interactive table.\"\n",
              "            style=\"display:none;\">\n",
              "\n",
              "  <svg xmlns=\"http://www.w3.org/2000/svg\" height=\"24px\" viewBox=\"0 -960 960 960\">\n",
              "    <path d=\"M120-120v-720h720v720H120Zm60-500h600v-160H180v160Zm220 220h160v-160H400v160Zm0 220h160v-160H400v160ZM180-400h160v-160H180v160Zm440 0h160v-160H620v160ZM180-180h160v-160H180v160Zm440 0h160v-160H620v160Z\"/>\n",
              "  </svg>\n",
              "    </button>\n",
              "\n",
              "  <style>\n",
              "    .colab-df-container {\n",
              "      display:flex;\n",
              "      gap: 12px;\n",
              "    }\n",
              "\n",
              "    .colab-df-convert {\n",
              "      background-color: #E8F0FE;\n",
              "      border: none;\n",
              "      border-radius: 50%;\n",
              "      cursor: pointer;\n",
              "      display: none;\n",
              "      fill: #1967D2;\n",
              "      height: 32px;\n",
              "      padding: 0 0 0 0;\n",
              "      width: 32px;\n",
              "    }\n",
              "\n",
              "    .colab-df-convert:hover {\n",
              "      background-color: #E2EBFA;\n",
              "      box-shadow: 0px 1px 2px rgba(60, 64, 67, 0.3), 0px 1px 3px 1px rgba(60, 64, 67, 0.15);\n",
              "      fill: #174EA6;\n",
              "    }\n",
              "\n",
              "    .colab-df-buttons div {\n",
              "      margin-bottom: 4px;\n",
              "    }\n",
              "\n",
              "    [theme=dark] .colab-df-convert {\n",
              "      background-color: #3B4455;\n",
              "      fill: #D2E3FC;\n",
              "    }\n",
              "\n",
              "    [theme=dark] .colab-df-convert:hover {\n",
              "      background-color: #434B5C;\n",
              "      box-shadow: 0px 1px 3px 1px rgba(0, 0, 0, 0.15);\n",
              "      filter: drop-shadow(0px 1px 2px rgba(0, 0, 0, 0.3));\n",
              "      fill: #FFFFFF;\n",
              "    }\n",
              "  </style>\n",
              "\n",
              "    <script>\n",
              "      const buttonEl =\n",
              "        document.querySelector('#df-3903f93f-01f0-4b69-a27c-b64f4bc011a4 button.colab-df-convert');\n",
              "      buttonEl.style.display =\n",
              "        google.colab.kernel.accessAllowed ? 'block' : 'none';\n",
              "\n",
              "      async function convertToInteractive(key) {\n",
              "        const element = document.querySelector('#df-3903f93f-01f0-4b69-a27c-b64f4bc011a4');\n",
              "        const dataTable =\n",
              "          await google.colab.kernel.invokeFunction('convertToInteractive',\n",
              "                                                    [key], {});\n",
              "        if (!dataTable) return;\n",
              "\n",
              "        const docLinkHtml = 'Like what you see? Visit the ' +\n",
              "          '<a target=\"_blank\" href=https://colab.research.google.com/notebooks/data_table.ipynb>data table notebook</a>'\n",
              "          + ' to learn more about interactive tables.';\n",
              "        element.innerHTML = '';\n",
              "        dataTable['output_type'] = 'display_data';\n",
              "        await google.colab.output.renderOutput(dataTable, element);\n",
              "        const docLink = document.createElement('div');\n",
              "        docLink.innerHTML = docLinkHtml;\n",
              "        element.appendChild(docLink);\n",
              "      }\n",
              "    </script>\n",
              "  </div>\n",
              "\n",
              "\n",
              "<div id=\"df-3ea20be5-d078-44c3-ab15-bac8a4205a53\">\n",
              "  <button class=\"colab-df-quickchart\" onclick=\"quickchart('df-3ea20be5-d078-44c3-ab15-bac8a4205a53')\"\n",
              "            title=\"Suggest charts\"\n",
              "            style=\"display:none;\">\n",
              "\n",
              "<svg xmlns=\"http://www.w3.org/2000/svg\" height=\"24px\"viewBox=\"0 0 24 24\"\n",
              "     width=\"24px\">\n",
              "    <g>\n",
              "        <path d=\"M19 3H5c-1.1 0-2 .9-2 2v14c0 1.1.9 2 2 2h14c1.1 0 2-.9 2-2V5c0-1.1-.9-2-2-2zM9 17H7v-7h2v7zm4 0h-2V7h2v10zm4 0h-2v-4h2v4z\"/>\n",
              "    </g>\n",
              "</svg>\n",
              "  </button>\n",
              "\n",
              "<style>\n",
              "  .colab-df-quickchart {\n",
              "      --bg-color: #E8F0FE;\n",
              "      --fill-color: #1967D2;\n",
              "      --hover-bg-color: #E2EBFA;\n",
              "      --hover-fill-color: #174EA6;\n",
              "      --disabled-fill-color: #AAA;\n",
              "      --disabled-bg-color: #DDD;\n",
              "  }\n",
              "\n",
              "  [theme=dark] .colab-df-quickchart {\n",
              "      --bg-color: #3B4455;\n",
              "      --fill-color: #D2E3FC;\n",
              "      --hover-bg-color: #434B5C;\n",
              "      --hover-fill-color: #FFFFFF;\n",
              "      --disabled-bg-color: #3B4455;\n",
              "      --disabled-fill-color: #666;\n",
              "  }\n",
              "\n",
              "  .colab-df-quickchart {\n",
              "    background-color: var(--bg-color);\n",
              "    border: none;\n",
              "    border-radius: 50%;\n",
              "    cursor: pointer;\n",
              "    display: none;\n",
              "    fill: var(--fill-color);\n",
              "    height: 32px;\n",
              "    padding: 0;\n",
              "    width: 32px;\n",
              "  }\n",
              "\n",
              "  .colab-df-quickchart:hover {\n",
              "    background-color: var(--hover-bg-color);\n",
              "    box-shadow: 0 1px 2px rgba(60, 64, 67, 0.3), 0 1px 3px 1px rgba(60, 64, 67, 0.15);\n",
              "    fill: var(--button-hover-fill-color);\n",
              "  }\n",
              "\n",
              "  .colab-df-quickchart-complete:disabled,\n",
              "  .colab-df-quickchart-complete:disabled:hover {\n",
              "    background-color: var(--disabled-bg-color);\n",
              "    fill: var(--disabled-fill-color);\n",
              "    box-shadow: none;\n",
              "  }\n",
              "\n",
              "  .colab-df-spinner {\n",
              "    border: 2px solid var(--fill-color);\n",
              "    border-color: transparent;\n",
              "    border-bottom-color: var(--fill-color);\n",
              "    animation:\n",
              "      spin 1s steps(1) infinite;\n",
              "  }\n",
              "\n",
              "  @keyframes spin {\n",
              "    0% {\n",
              "      border-color: transparent;\n",
              "      border-bottom-color: var(--fill-color);\n",
              "      border-left-color: var(--fill-color);\n",
              "    }\n",
              "    20% {\n",
              "      border-color: transparent;\n",
              "      border-left-color: var(--fill-color);\n",
              "      border-top-color: var(--fill-color);\n",
              "    }\n",
              "    30% {\n",
              "      border-color: transparent;\n",
              "      border-left-color: var(--fill-color);\n",
              "      border-top-color: var(--fill-color);\n",
              "      border-right-color: var(--fill-color);\n",
              "    }\n",
              "    40% {\n",
              "      border-color: transparent;\n",
              "      border-right-color: var(--fill-color);\n",
              "      border-top-color: var(--fill-color);\n",
              "    }\n",
              "    60% {\n",
              "      border-color: transparent;\n",
              "      border-right-color: var(--fill-color);\n",
              "    }\n",
              "    80% {\n",
              "      border-color: transparent;\n",
              "      border-right-color: var(--fill-color);\n",
              "      border-bottom-color: var(--fill-color);\n",
              "    }\n",
              "    90% {\n",
              "      border-color: transparent;\n",
              "      border-bottom-color: var(--fill-color);\n",
              "    }\n",
              "  }\n",
              "</style>\n",
              "\n",
              "  <script>\n",
              "    async function quickchart(key) {\n",
              "      const quickchartButtonEl =\n",
              "        document.querySelector('#' + key + ' button');\n",
              "      quickchartButtonEl.disabled = true;  // To prevent multiple clicks.\n",
              "      quickchartButtonEl.classList.add('colab-df-spinner');\n",
              "      try {\n",
              "        const charts = await google.colab.kernel.invokeFunction(\n",
              "            'suggestCharts', [key], {});\n",
              "      } catch (error) {\n",
              "        console.error('Error during call to suggestCharts:', error);\n",
              "      }\n",
              "      quickchartButtonEl.classList.remove('colab-df-spinner');\n",
              "      quickchartButtonEl.classList.add('colab-df-quickchart-complete');\n",
              "    }\n",
              "    (() => {\n",
              "      let quickchartButtonEl =\n",
              "        document.querySelector('#df-3ea20be5-d078-44c3-ab15-bac8a4205a53 button');\n",
              "      quickchartButtonEl.style.display =\n",
              "        google.colab.kernel.accessAllowed ? 'block' : 'none';\n",
              "    })();\n",
              "  </script>\n",
              "</div>\n",
              "\n",
              "  <div id=\"id_902faabc-fe23-49f8-981e-cc891b4ceca2\">\n",
              "    <style>\n",
              "      .colab-df-generate {\n",
              "        background-color: #E8F0FE;\n",
              "        border: none;\n",
              "        border-radius: 50%;\n",
              "        cursor: pointer;\n",
              "        display: none;\n",
              "        fill: #1967D2;\n",
              "        height: 32px;\n",
              "        padding: 0 0 0 0;\n",
              "        width: 32px;\n",
              "      }\n",
              "\n",
              "      .colab-df-generate:hover {\n",
              "        background-color: #E2EBFA;\n",
              "        box-shadow: 0px 1px 2px rgba(60, 64, 67, 0.3), 0px 1px 3px 1px rgba(60, 64, 67, 0.15);\n",
              "        fill: #174EA6;\n",
              "      }\n",
              "\n",
              "      [theme=dark] .colab-df-generate {\n",
              "        background-color: #3B4455;\n",
              "        fill: #D2E3FC;\n",
              "      }\n",
              "\n",
              "      [theme=dark] .colab-df-generate:hover {\n",
              "        background-color: #434B5C;\n",
              "        box-shadow: 0px 1px 3px 1px rgba(0, 0, 0, 0.15);\n",
              "        filter: drop-shadow(0px 1px 2px rgba(0, 0, 0, 0.3));\n",
              "        fill: #FFFFFF;\n",
              "      }\n",
              "    </style>\n",
              "    <button class=\"colab-df-generate\" onclick=\"generateWithVariable('sample_cov')\"\n",
              "            title=\"Generate code using this dataframe.\"\n",
              "            style=\"display:none;\">\n",
              "\n",
              "  <svg xmlns=\"http://www.w3.org/2000/svg\" height=\"24px\"viewBox=\"0 0 24 24\"\n",
              "       width=\"24px\">\n",
              "    <path d=\"M7,19H8.4L18.45,9,17,7.55,7,17.6ZM5,21V16.75L18.45,3.32a2,2,0,0,1,2.83,0l1.4,1.43a1.91,1.91,0,0,1,.58,1.4,1.91,1.91,0,0,1-.58,1.4L9.25,21ZM18.45,9,17,7.55Zm-12,3A5.31,5.31,0,0,0,4.9,8.1,5.31,5.31,0,0,0,1,6.5,5.31,5.31,0,0,0,4.9,4.9,5.31,5.31,0,0,0,6.5,1,5.31,5.31,0,0,0,8.1,4.9,5.31,5.31,0,0,0,12,6.5,5.46,5.46,0,0,0,6.5,12Z\"/>\n",
              "  </svg>\n",
              "    </button>\n",
              "    <script>\n",
              "      (() => {\n",
              "      const buttonEl =\n",
              "        document.querySelector('#id_902faabc-fe23-49f8-981e-cc891b4ceca2 button.colab-df-generate');\n",
              "      buttonEl.style.display =\n",
              "        google.colab.kernel.accessAllowed ? 'block' : 'none';\n",
              "\n",
              "      buttonEl.onclick = () => {\n",
              "        google.colab.notebook.generateWithVariable('sample_cov');\n",
              "      }\n",
              "      })();\n",
              "    </script>\n",
              "  </div>\n",
              "\n",
              "    </div>\n",
              "  </div>\n"
            ],
            "application/vnd.google.colaboratory.intrinsic+json": {
              "type": "dataframe",
              "variable_name": "sample_cov",
              "summary": "{\n  \"name\": \"sample_cov\",\n  \"rows\": 15,\n  \"fields\": [\n    {\n      \"column\": \"Ticker\",\n      \"properties\": {\n        \"dtype\": \"string\",\n        \"num_unique_values\": 15,\n        \"samples\": [\n          \"MA\",\n          \"PFE\",\n          \"ACN\"\n        ],\n        \"semantic_type\": \"\",\n        \"description\": \"\"\n      }\n    },\n    {\n      \"column\": \"ACN\",\n      \"properties\": {\n        \"dtype\": \"number\",\n        \"std\": 0.01618069218695793,\n        \"min\": 0.01932040678157769,\n        \"max\": 0.08831425486582846,\n        \"num_unique_values\": 15,\n        \"samples\": [\n          0.04363401184965134,\n          0.02467292099326202,\n          0.08831425486582846\n        ],\n        \"semantic_type\": \"\",\n        \"description\": \"\"\n      }\n    },\n    {\n      \"column\": \"AMZN\",\n      \"properties\": {\n        \"dtype\": \"number\",\n        \"std\": 0.06999552091739167,\n        \"min\": 0.01866544890798462,\n        \"max\": 0.3116233648524774,\n        \"num_unique_values\": 15,\n        \"samples\": [\n          0.05361359935850357,\n          0.029340564058818668,\n          0.04556346080504071\n        ],\n        \"semantic_type\": \"\",\n        \"description\": \"\"\n      }\n    },\n    {\n      \"column\": \"COST\",\n      \"properties\": {\n        \"dtype\": \"number\",\n        \"std\": 0.018231157457891993,\n        \"min\": 0.017532107023902385,\n        \"max\": 0.09359090606232914,\n        \"num_unique_values\": 15,\n        \"samples\": [\n          0.030813920159606642,\n          0.022592010580631143,\n          0.02753572370761352\n        ],\n        \"semantic_type\": \"\",\n        \"description\": \"\"\n      }\n    },\n    {\n      \"column\": \"DIS\",\n      \"properties\": {\n        \"dtype\": \"number\",\n        \"std\": 0.016745449263184026,\n        \"min\": 0.021933968690776486,\n        \"max\": 0.08956171779505112,\n        \"num_unique_values\": 15,\n        \"samples\": [\n          0.047825661306700455,\n          0.024579810288922175,\n          0.039811360159147526\n        ],\n        \"semantic_type\": \"\",\n        \"description\": \"\"\n      }\n    },\n    {\n      \"column\": \"F\",\n      \"properties\": {\n        \"dtype\": \"number\",\n        \"std\": 0.03138974169960034,\n        \"min\": 0.022729943320260387,\n        \"max\": 0.1514986551141921,\n        \"num_unique_values\": 15,\n        \"samples\": [\n          0.058152641861504276,\n          0.024372494169172778,\n          0.04321694973351207\n        ],\n        \"semantic_type\": \"\",\n        \"description\": \"\"\n      }\n    },\n    {\n      \"column\": \"GILD\",\n      \"properties\": {\n        \"dtype\": \"number\",\n        \"std\": 0.04955687335050751,\n        \"min\": 0.016379822146178915,\n        \"max\": 0.21977994629163453,\n        \"num_unique_values\": 15,\n        \"samples\": [\n          0.02965873487027538,\n          0.031413153009417535,\n          0.02762702858612859\n        ],\n        \"semantic_type\": \"\",\n        \"description\": \"\"\n      }\n    },\n    {\n      \"column\": \"JPM\",\n      \"properties\": {\n        \"dtype\": \"number\",\n        \"std\": 0.02581253491769812,\n        \"min\": 0.025420117666130254,\n        \"max\": 0.13504378364749478,\n        \"num_unique_values\": 15,\n        \"samples\": [\n          0.06363578527686124,\n          0.032435145994513616,\n          0.04566950100614557\n        ],\n        \"semantic_type\": \"\",\n        \"description\": \"\"\n      }\n    },\n    {\n      \"column\": \"KO\",\n      \"properties\": {\n        \"dtype\": \"number\",\n        \"std\": 0.007531806665600231,\n        \"min\": 0.015743969353507713,\n        \"max\": 0.04771458645062804,\n        \"num_unique_values\": 15,\n        \"samples\": [\n          0.02425944955401813,\n          0.02149148987194828,\n          0.01932040678157769\n        ],\n        \"semantic_type\": \"\",\n        \"description\": \"\"\n      }\n    },\n    {\n      \"column\": \"LUV\",\n      \"properties\": {\n        \"dtype\": \"number\",\n        \"std\": 0.028055626188294044,\n        \"min\": 0.019410086713233986,\n        \"max\": 0.13714037522436556,\n        \"num_unique_values\": 15,\n        \"samples\": [\n          0.04593483022949113,\n          0.02419707413499215,\n          0.03639753109529797\n        ],\n        \"semantic_type\": \"\",\n        \"description\": \"\"\n      }\n    },\n    {\n      \"column\": \"MA\",\n      \"properties\": {\n        \"dtype\": \"number\",\n        \"std\": 0.02020555926620721,\n        \"min\": 0.02425944955401813,\n        \"max\": 0.10794395307513066,\n        \"num_unique_values\": 15,\n        \"samples\": [\n          0.10794395307513066,\n          0.029394622978064663,\n          0.04363401184965134\n        ],\n        \"semantic_type\": \"\",\n        \"description\": \"\"\n      }\n    },\n    {\n      \"column\": \"MSFT\",\n      \"properties\": {\n        \"dtype\": \"number\",\n        \"std\": 0.020149809798513545,\n        \"min\": 0.021155447841847416,\n        \"max\": 0.09907727190437278,\n        \"num_unique_values\": 15,\n        \"samples\": [\n          0.04636835664687404,\n          0.026417389486884817,\n          0.0406179029178573\n        ],\n        \"semantic_type\": \"\",\n        \"description\": \"\"\n      }\n    },\n    {\n      \"column\": \"PFE\",\n      \"properties\": {\n        \"dtype\": \"number\",\n        \"std\": 0.012266752686700686,\n        \"min\": 0.017120339519008924,\n        \"max\": 0.07036431869970622,\n        \"num_unique_values\": 15,\n        \"samples\": [\n          0.029394622978064663,\n          0.07036431869970622,\n          0.02467292099326202\n        ],\n        \"semantic_type\": \"\",\n        \"description\": \"\"\n      }\n    },\n    {\n      \"column\": \"TSLA\",\n      \"properties\": {\n        \"dtype\": \"number\",\n        \"std\": 0.07816303787021833,\n        \"min\": 0.015743969353507713,\n        \"max\": 0.3367678484173786,\n        \"num_unique_values\": 15,\n        \"samples\": [\n          0.04838938772617425,\n          0.017120339519008924,\n          0.04298845245588691\n        ],\n        \"semantic_type\": \"\",\n        \"description\": \"\"\n      }\n    },\n    {\n      \"column\": \"UNH\",\n      \"properties\": {\n        \"dtype\": \"number\",\n        \"std\": 0.025773027677566448,\n        \"min\": 0.02218948313263402,\n        \"max\": 0.12760430563418027,\n        \"num_unique_values\": 15,\n        \"samples\": [\n          0.03820479220576366,\n          0.02798106217034985,\n          0.02828403963790161\n        ],\n        \"semantic_type\": \"\",\n        \"description\": \"\"\n      }\n    },\n    {\n      \"column\": \"XOM\",\n      \"properties\": {\n        \"dtype\": \"number\",\n        \"std\": 0.010891393176206295,\n        \"min\": 0.017532107023902385,\n        \"max\": 0.06199319742787156,\n        \"num_unique_values\": 15,\n        \"samples\": [\n          0.03838918708306077,\n          0.02180202824257289,\n          0.028361702406221167\n        ],\n        \"semantic_type\": \"\",\n        \"description\": \"\"\n      }\n    }\n  ]\n}"
            }
          },
          "metadata": {},
          "execution_count": 14
        }
      ],
      "source": [
        "from pypfopt import risk_models\n",
        "from pypfopt import plotting\n",
        "\n",
        "sample_cov = risk_models.sample_cov(prices, frequency=252)\n",
        "sample_cov"
      ]
    },
    {
      "cell_type": "code",
      "execution_count": 9,
      "metadata": {
        "colab": {
          "base_uri": "https://localhost:8080/",
          "height": 487
        },
        "id": "HZ15mDtz9ny_",
        "outputId": "f3b21f99-20b4-4b85-9ee6-8e1b23f55207"
      },
      "outputs": [
        {
          "output_type": "display_data",
          "data": {
            "text/plain": [
              "<Figure size 640x480 with 2 Axes>"
            ],
            "image/png": "[encoded data removed]"
          },
          "metadata": {}
        }
      ],
      "source": [
        "plotting.plot_covariance(sample_cov, plot_correlation=True);"
      ]
    },
    {
      "cell_type": "markdown",
      "metadata": {
        "id": "0bhjN57j9ny_"
      },
      "source": [
        "For reasons discussed in the docs, the sample covariance matrix should not be your default choice. I think a better option is Ledoit-Wolf shrinkage, which reduces the extreme values in the covariance matrix. In the image below, we can see that there are fewer bright spots outside the diagonal:"
      ]
    },
    {
      "cell_type": "code",
      "execution_count": 15,
      "metadata": {
        "colab": {
          "base_uri": "https://localhost:8080/",
          "height": 487
        },
        "id": "htpILjX-9nzA",
        "outputId": "dbfcbb0f-344c-4f49-ddf6-bfabbcdb8b7a"
      },
      "outputs": [
        {
          "output_type": "display_data",
          "data": {
            "text/plain": [
              "<Figure size 640x480 with 2 Axes>"
            ],
            "image/png": "[encoded data removed]"
          },
          "metadata": {}
        }
      ],
      "source": [
        "S = risk_models.CovarianceShrinkage(prices).ledoit_wolf()\n",
        "plotting.plot_covariance(S, plot_correlation=True);"
      ]
    },
    {
      "cell_type": "markdown",
      "metadata": {
        "id": "4mbpNBp39nzA"
      },
      "source": [
        "## Return estimation\n",
        "\n",
        "As discussed in the docs, it is often a bad idea to provide returns using a simple estimate like the mean of past returns. Unless you have a proprietary method for estimating returns, research suggests that you may be better off not providing expected returns – you can then just find the `min_volatility()` portfolio or use `HRP`.\n",
        "\n",
        "However, in this example we will use the CAPM returns, which aims to be slightly more stable than the default mean historical return."
      ]
    },
    {
      "cell_type": "code",
      "execution_count": 16,
      "metadata": {
        "colab": {
          "base_uri": "https://localhost:8080/",
          "height": 586
        },
        "id": "c_syhOUu9nzH",
        "outputId": "c0c90c1b-036b-4f6a-895a-4e962f163e6c"
      },
      "outputs": [
        {
          "output_type": "execute_result",
          "data": {
            "text/plain": [
              "Ticker\n",
              "ACN     0.199936\n",
              "AMZN    0.349830\n",
              "COST    0.174205\n",
              "DIS     0.203977\n",
              "F       0.238207\n",
              "GILD    0.238537\n",
              "JPM     0.260702\n",
              "KO      0.117392\n",
              "LUV     0.220395\n",
              "MA      0.244328\n",
              "MSFT    0.213588\n",
              "PFE     0.150421\n",
              "TSLA    0.305922\n",
              "UNH     0.190271\n",
              "XOM     0.138748\n",
              "Name: mkt, dtype: float64"
            ],
            "text/html": [
              "<div>\n",
              "<style scoped>\n",
              "    .dataframe tbody tr th:only-of-type {\n",
              "        vertical-align: middle;\n",
              "    }\n",
              "\n",
              "    .dataframe tbody tr th {\n",
              "        vertical-align: top;\n",
              "    }\n",
              "\n",
              "    .dataframe thead th {\n",
              "        text-align: right;\n",
              "    }\n",
              "</style>\n",
              "<table border=\"1\" class=\"dataframe\">\n",
              "  <thead>\n",
              "    <tr style=\"text-align: right;\">\n",
              "      <th></th>\n",
              "      <th>mkt</th>\n",
              "    </tr>\n",
              "    <tr>\n",
              "      <th>Ticker</th>\n",
              "      <th></th>\n",
              "    </tr>\n",
              "  </thead>\n",
              "  <tbody>\n",
              "    <tr>\n",
              "      <th>ACN</th>\n",
              "      <td>0.199936</td>\n",
              "    </tr>\n",
              "    <tr>\n",
              "      <th>AMZN</th>\n",
              "      <td>0.349830</td>\n",
              "    </tr>\n",
              "    <tr>\n",
              "      <th>COST</th>\n",
              "      <td>0.174205</td>\n",
              "    </tr>\n",
              "    <tr>\n",
              "      <th>DIS</th>\n",
              "      <td>0.203977</td>\n",
              "    </tr>\n",
              "    <tr>\n",
              "      <th>F</th>\n",
              "      <td>0.238207</td>\n",
              "    </tr>\n",
              "    <tr>\n",
              "      <th>GILD</th>\n",
              "      <td>0.238537</td>\n",
              "    </tr>\n",
              "    <tr>\n",
              "      <th>JPM</th>\n",
              "      <td>0.260702</td>\n",
              "    </tr>\n",
              "    <tr>\n",
              "      <th>KO</th>\n",
              "      <td>0.117392</td>\n",
              "    </tr>\n",
              "    <tr>\n",
              "      <th>LUV</th>\n",
              "      <td>0.220395</td>\n",
              "    </tr>\n",
              "    <tr>\n",
              "      <th>MA</th>\n",
              "      <td>0.244328</td>\n",
              "    </tr>\n",
              "    <tr>\n",
              "      <th>MSFT</th>\n",
              "      <td>0.213588</td>\n",
              "    </tr>\n",
              "    <tr>\n",
              "      <th>PFE</th>\n",
              "      <td>0.150421</td>\n",
              "    </tr>\n",
              "    <tr>\n",
              "      <th>TSLA</th>\n",
              "      <td>0.305922</td>\n",
              "    </tr>\n",
              "    <tr>\n",
              "      <th>UNH</th>\n",
              "      <td>0.190271</td>\n",
              "    </tr>\n",
              "    <tr>\n",
              "      <th>XOM</th>\n",
              "      <td>0.138748</td>\n",
              "    </tr>\n",
              "  </tbody>\n",
              "</table>\n",
              "</div><br><label><b>dtype:</b> float64</label>"
            ]
          },
          "metadata": {},
          "execution_count": 16
        }
      ],
      "source": [
        "from pypfopt import expected_returns\n",
        "\n",
        "mu = expected_returns.capm_return(prices)\n",
        "mu"
      ]
    },
    {
      "cell_type": "code",
      "execution_count": 17,
      "metadata": {
        "colab": {
          "base_uri": "https://localhost:8080/",
          "height": 522
        },
        "id": "MlqP3XP99nzH",
        "outputId": "f34c3e50-7f91-4a0b-ac3c-91f7274468be"
      },
      "outputs": [
        {
          "output_type": "display_data",
          "data": {
            "text/plain": [
              "<Figure size 1000x600 with 1 Axes>"
            ],
            "image/png": "[encoded data removed]"
          },
          "metadata": {}
        }
      ],
      "source": [
        "mu.plot.barh(figsize=(10,6));"
      ]
    },
    {
      "cell_type": "markdown",
      "metadata": {
        "id": "iHNXRsJA9nzI"
      },
      "source": [
        "## Long/short min variance\n",
        "\n",
        "In this section, we construct a long/short portfolio with the objective of minimising variance. There is a good deal of research that demonstrates that these global-minimum variance (GMV) portfolios outperform mean-variance optimized portfolios."
      ]
    },
    {
      "cell_type": "code",
      "execution_count": null,
      "metadata": {
        "id": "LTjcmcmK9nzI"
      },
      "outputs": [],
      "source": [
        "from pypfopt import EfficientFrontier"
      ]
    },
    {
      "cell_type": "code",
      "execution_count": null,
      "metadata": {
        "colab": {
          "base_uri": "https://localhost:8080/"
        },
        "id": "ZD5_4rlY9nzI",
        "outputId": "81faef92-6667-4452-8859-3a659d235b14"
      },
      "outputs": [
        {
          "data": {
            "text/plain": [
              "OrderedDict([('ACN', 0.15965),\n",
              "             ('AMZN', 0.00164),\n",
              "             ('COST', 0.08412),\n",
              "             ('DIS', 0.00532),\n",
              "             ('F', -0.01799),\n",
              "             ('GILD', 0.03099),\n",
              "             ('JPM', -0.06449),\n",
              "             ('KO', 0.26104),\n",
              "             ('LUV', 0.02504),\n",
              "             ('MA', 0.17178),\n",
              "             ('MSFT', -0.00689),\n",
              "             ('PFE', 0.10442),\n",
              "             ('TSLA', 0.09418),\n",
              "             ('UNH', 0.02521),\n",
              "             ('XOM', 0.12599)])"
            ]
          },
          "execution_count": 14,
          "metadata": {},
          "output_type": "execute_result"
        }
      ],
      "source": [
        "S = risk_models.CovarianceShrinkage(prices).ledoit_wolf()\n",
        "\n",
        "# You don't have to provide expected returns in this case\n",
        "ef = EfficientFrontier(None, S, weight_bounds=(None, None))\n",
        "ef.min_volatility()\n",
        "weights = ef.clean_weights()\n",
        "weights"
      ]
    },
    {
      "cell_type": "code",
      "execution_count": null,
      "metadata": {
        "colab": {
          "base_uri": "https://localhost:8080/",
          "height": 265
        },
        "id": "RVRwHED99nzJ",
        "outputId": "f606418a-1614-4c38-9574-c18b1b9c5ac6"
      },
      "outputs": [
        {
          "data": {
            "image/png": "[encoded data removed]",
            "text/plain": [
              "<Figure size 640x480 with 1 Axes>"
            ]
          },
          "metadata": {},
          "output_type": "display_data"
        }
      ],
      "source": [
        "pd.Series(weights).plot.barh();"
      ]
    },
    {
      "cell_type": "markdown",
      "metadata": {
        "id": "jpgqSknF9nzJ"
      },
      "source": [
        "We can get a quick indication of the portfolio performance as follows. Note that this is an in sample estimate and may have very little resemblance to how the portfolio actually performs!"
      ]
    },
    {
      "cell_type": "code",
      "execution_count": null,
      "metadata": {
        "colab": {
          "base_uri": "https://localhost:8080/"
        },
        "id": "ZnDm8UkC9nzJ",
        "outputId": "9302f8ed-698e-461b-c4a1-ad8113f1aa11"
      },
      "outputs": [
        {
          "name": "stdout",
          "output_type": "stream",
          "text": [
            "Annual volatility: 15.2%\n"
          ]
        }
      ],
      "source": [
        "ef.portfolio_performance(verbose=True);"
      ]
    },
    {
      "cell_type": "markdown",
      "metadata": {
        "id": "ORCrBIG19nzK"
      },
      "source": [
        "Let's say we were happy with this portfolio and wanted to actually go out and buy the shares.  To do this, we would need to construct a **discrete allocation** (unless your broker supports fractional shares!)\n",
        "\n",
        "If we had \\$20,0000 to invest and would like our portfolio to be 130/30 long/short, we can construct the actual allocation as follows:"
      ]
    },
    {
      "cell_type": "code",
      "execution_count": null,
      "metadata": {
        "colab": {
          "base_uri": "https://localhost:8080/"
        },
        "id": "w10Rcb-X9nzK",
        "outputId": "052edfa3-7811-459c-debb-644dc7aa2368"
      },
      "outputs": [
        {
          "name": "stdout",
          "output_type": "stream",
          "text": [
            "Discrete allocation performed with $65.59 leftover\n"
          ]
        },
        {
          "data": {
            "text/plain": [
              "{'ACN': np.int64(8),\n",
              " 'COST': np.int64(2),\n",
              " 'DIS': np.int64(1),\n",
              " 'GILD': np.int64(6),\n",
              " 'KO': np.int64(75),\n",
              " 'LUV': np.int64(14),\n",
              " 'MA': np.int64(6),\n",
              " 'PFE': np.int64(74),\n",
              " 'TSLA': np.int64(5),\n",
              " 'XOM': np.int64(20),\n",
              " 'F': np.int64(-114),\n",
              " 'JPM': np.int64(-17),\n",
              " 'MSFT': np.int64(-1)}"
            ]
          },
          "execution_count": 17,
          "metadata": {},
          "output_type": "execute_result"
        }
      ],
      "source": [
        "from pypfopt import DiscreteAllocation\n",
        "\n",
        "latest_prices = prices.iloc[-1]  # prices as of the day you are allocating\n",
        "da = DiscreteAllocation(weights, latest_prices, total_portfolio_value=20000, short_ratio=0.3)\n",
        "alloc, leftover = da.lp_portfolio()\n",
        "print(f\"Discrete allocation performed with ${leftover:.2f} leftover\")\n",
        "alloc"
      ]
    },
    {
      "cell_type": "markdown",
      "metadata": {
        "id": "ab3Rk-Aa9nzK"
      },
      "source": [
        "## Max Sharpe with sector constraints\n",
        "\n",
        "If you have your own model for returns (or have read the warnings and want to proceed anyways), you may consider maximising the Sharpe ratio. This theoretically gives the optimal portfolio in terms of risks-returns.\n",
        "\n",
        "In this section, we construct a long-only max-sharpe portfolio, but also incorporate sector constraints. Sector constraints require three things. A `sector_mapper`, your `sector_lower` bounds, and your `sector_upper` bounds."
      ]
    },
    {
      "cell_type": "code",
      "execution_count": null,
      "metadata": {
        "id": "mJcyi2-E9nzK"
      },
      "outputs": [],
      "source": [
        "sector_mapper = {\n",
        "    \"MSFT\": \"Tech\",\n",
        "    \"AMZN\": \"Consumer Discretionary\",\n",
        "    \"KO\": \"Consumer Staples\",\n",
        "    \"MA\": \"Financial Services\",\n",
        "    \"COST\": \"Consumer Staples\",\n",
        "    \"LUV\": \"Aerospace\",\n",
        "    \"XOM\": \"Energy\",\n",
        "    \"PFE\": \"Healthcare\",\n",
        "    \"JPM\": \"Financial Services\",\n",
        "    \"UNH\": \"Healthcare\",\n",
        "    \"ACN\": \"Misc\",\n",
        "    \"DIS\": \"Media\",\n",
        "    \"GILD\": \"Healthcare\",\n",
        "    \"F\": \"Auto\",\n",
        "    \"TSLA\": \"Auto\"\n",
        "}\n",
        "\n",
        "sector_lower = {\n",
        "    \"Consumer Staples\": 0.1, # at least 10% to staples\n",
        "    \"Tech\": 0.05 # at least 5% to tech\n",
        "    # For all other sectors, it will be assumed there is no lower bound\n",
        "}\n",
        "\n",
        "sector_upper = {\n",
        "    \"Tech\": 0.2,\n",
        "    \"Aerospace\":0.1,\n",
        "    \"Energy\": 0.1,\n",
        "    \"Auto\":0.15\n",
        "}"
      ]
    },
    {
      "cell_type": "markdown",
      "metadata": {
        "id": "1h5ZdZwF9nzL"
      },
      "source": [
        "We then set up the optimizer and add our constraints. We can use `ef.add_objective()` to add other constraints. For example, let's say that in addition to the above sector constraints, I specifically want:\n",
        "\n",
        "- 10% of the portfolio in AMZN\n",
        "- Less than 5% of my portfolio in TSLA"
      ]
    },
    {
      "cell_type": "code",
      "execution_count": null,
      "metadata": {
        "id": "FRjwf0wN9nzL"
      },
      "outputs": [],
      "source": [
        "mu = expected_returns.capm_return(prices)\n",
        "S = risk_models.CovarianceShrinkage(prices).ledoit_wolf()\n",
        "\n",
        "ef = EfficientFrontier(mu, S)  # weight_bounds automatically set to (0, 1)\n",
        "ef.add_sector_constraints(sector_mapper, sector_lower, sector_upper)\n",
        "\n",
        "amzn_index = ef.tickers.index(\"AMZN\")\n",
        "ef.add_constraint(lambda w: w[amzn_index] == 0.10)\n",
        "\n",
        "tsla_index = ef.tickers.index(\"TSLA\")\n",
        "ef.add_constraint(lambda w: w[tsla_index] <= 0.05)\n",
        "\n",
        "ef.add_constraint(lambda w: w[10] >= 0.05)\n",
        "\n",
        "ef.max_sharpe()\n",
        "weights = ef.clean_weights()"
      ]
    },
    {
      "cell_type": "code",
      "execution_count": null,
      "metadata": {
        "colab": {
          "base_uri": "https://localhost:8080/"
        },
        "id": "pZAu8ypG9nzL",
        "outputId": "2a3703a8-bbd0-468d-f0c6-25be50f7b0c7"
      },
      "outputs": [
        {
          "data": {
            "text/plain": [
              "OrderedDict([('ACN', 0.15332),\n",
              "             ('AMZN', 0.1),\n",
              "             ('COST', 0.04244),\n",
              "             ('DIS', 0.0),\n",
              "             ('F', 0.01498),\n",
              "             ('GILD', 0.06199),\n",
              "             ('JPM', 0.00824),\n",
              "             ('KO', 0.05756),\n",
              "             ('LUV', 0.03723),\n",
              "             ('MA', 0.34662),\n",
              "             ('MSFT', 0.05),\n",
              "             ('PFE', 0.03744),\n",
              "             ('TSLA', 0.05),\n",
              "             ('UNH', 0.04018),\n",
              "             ('XOM', 0.0)])"
            ]
          },
          "execution_count": 20,
          "metadata": {},
          "output_type": "execute_result"
        }
      ],
      "source": [
        "weights"
      ]
    },
    {
      "cell_type": "code",
      "execution_count": null,
      "metadata": {
        "colab": {
          "base_uri": "https://localhost:8080/",
          "height": 575
        },
        "id": "izbZQ6-G9nzL",
        "outputId": "1aafb3d3-a32b-469e-e702-6044c7f54116"
      },
      "outputs": [
        {
          "data": {
            "image/png": "[encoded data removed]",
            "text/plain": [
              "<Figure size 1000x1000 with 1 Axes>"
            ]
          },
          "metadata": {},
          "output_type": "display_data"
        }
      ],
      "source": [
        "pd.Series(weights).plot.pie(figsize=(10,10));"
      ]
    },
    {
      "cell_type": "markdown",
      "metadata": {
        "id": "kGa9xMQ19nzM"
      },
      "source": [
        "We can immediately see that our explicit constraints were satisfied, and can check all the sector constraints as follows:\n"
      ]
    },
    {
      "cell_type": "code",
      "execution_count": null,
      "metadata": {
        "colab": {
          "base_uri": "https://localhost:8080/"
        },
        "id": "JtA8KzWp9nzM",
        "outputId": "cd007325-fa24-4f41-f8fa-3d149ae7fc23"
      },
      "outputs": [
        {
          "name": "stdout",
          "output_type": "stream",
          "text": [
            "Tech: 0.050\n",
            "Aerospace: 0.037\n",
            "Media: 0.000\n",
            "Consumer Staples: 0.100\n",
            "Misc: 0.153\n",
            "Financial Services: 0.355\n",
            "Energy: 0.000\n",
            "Auto: 0.065\n",
            "Healthcare: 0.140\n",
            "Consumer Discretionary: 0.100\n"
          ]
        }
      ],
      "source": [
        "# O(N^2) loop not a good idea in a coding interview :)\n",
        "for sector in set(sector_mapper.values()):\n",
        "    total_weight = 0\n",
        "    for t,w in weights.items():\n",
        "        if sector_mapper[t] == sector:\n",
        "            total_weight += w\n",
        "    print(f\"{sector}: {total_weight:.3f}\")"
      ]
    },
    {
      "cell_type": "markdown",
      "metadata": {
        "id": "qOZ-z4AK9nzM"
      },
      "source": [
        "## Maximise return for a given risk, with L2 regularisation\n",
        "\n",
        "Let's imagine that we've put a lot of thought into our risk tolerance, and have decided that we can't accept anything more than 15% volatility. We can use PyPortfolioOpt to construct a portfolio that maximises return for a given risk (with the same caveats about expected returns)."
      ]
    },
    {
      "cell_type": "code",
      "execution_count": null,
      "metadata": {
        "colab": {
          "base_uri": "https://localhost:8080/"
        },
        "id": "sKantkrg9nzM",
        "outputId": "3b60679f-80ef-4ec7-e029-989ef9d27f14"
      },
      "outputs": [
        {
          "data": {
            "text/plain": [
              "OrderedDict([('ACN', 0.01923),\n",
              "             ('AMZN', 0.15319),\n",
              "             ('COST', 0.1),\n",
              "             ('DIS', 0.0),\n",
              "             ('F', 0.0),\n",
              "             ('GILD', 0.06686),\n",
              "             ('JPM', 0.06198),\n",
              "             ('KO', 0.0),\n",
              "             ('LUV', 0.01155),\n",
              "             ('MA', 0.38719),\n",
              "             ('MSFT', 0.05),\n",
              "             ('PFE', 0.0),\n",
              "             ('TSLA', 0.15),\n",
              "             ('UNH', 0.0),\n",
              "             ('XOM', 0.0)])"
            ]
          },
          "execution_count": 23,
          "metadata": {},
          "output_type": "execute_result"
        }
      ],
      "source": [
        "ef = EfficientFrontier(mu, S)\n",
        "ef.add_sector_constraints(sector_mapper, sector_lower, sector_upper)\n",
        "ef.efficient_risk(target_volatility=0.20)\n",
        "weights = ef.clean_weights()\n",
        "weights"
      ]
    },
    {
      "cell_type": "code",
      "execution_count": null,
      "metadata": {
        "colab": {
          "base_uri": "https://localhost:8080/"
        },
        "id": "46ylv28y9nzM",
        "outputId": "de8f0548-437e-4997-cc46-d927d5f61df2"
      },
      "outputs": [
        {
          "name": "stdout",
          "output_type": "stream",
          "text": [
            "6/15 tickers have zero weight\n"
          ]
        }
      ],
      "source": [
        "num_small = len([k for k in weights if weights[k] <= 1e-4])\n",
        "print(f\"{num_small}/{len(ef.tickers)} tickers have zero weight\")"
      ]
    },
    {
      "cell_type": "code",
      "execution_count": null,
      "metadata": {
        "colab": {
          "base_uri": "https://localhost:8080/"
        },
        "id": "3HWpBJxZ9nzM",
        "outputId": "cae10c97-978e-40ee-8dd5-796d9635f53f"
      },
      "outputs": [
        {
          "name": "stdout",
          "output_type": "stream",
          "text": [
            "Expected annual return: 26.7%\n",
            "Annual volatility: 20.0%\n",
            "Sharpe Ratio: 1.33\n"
          ]
        }
      ],
      "source": [
        "ef.portfolio_performance(verbose=True);"
      ]
    },
    {
      "cell_type": "markdown",
      "metadata": {
        "id": "sFdT8Xar9nzN"
      },
      "source": [
        "While this portfolio seems like it meets our objectives, we might be worried by the fact that a lot of the tickers have been assigned zero weight. In effect, the optimizer is \"overfitting\" to the data you have provided -- you are much more likely to get better results by enforcing some level of diversification. One way of doing this is to use **L2 regularisation** – essentially, adding a penalty on the number of near-zero weights."
      ]
    },
    {
      "cell_type": "code",
      "execution_count": null,
      "metadata": {
        "colab": {
          "base_uri": "https://localhost:8080/"
        },
        "id": "wiaa_L2u9nzN",
        "outputId": "0adbf717-faaa-4142-9fe3-6ca9368cc23f"
      },
      "outputs": [
        {
          "data": {
            "text/plain": [
              "OrderedDict([('ACN', 0.06766),\n",
              "             ('AMZN', 0.17041),\n",
              "             ('COST', 0.08584),\n",
              "             ('DIS', 0.0024),\n",
              "             ('F', 0.0),\n",
              "             ('GILD', 0.07689),\n",
              "             ('JPM', 0.09414),\n",
              "             ('KO', 0.01416),\n",
              "             ('LUV', 0.04312),\n",
              "             ('MA', 0.22189),\n",
              "             ('MSFT', 0.05),\n",
              "             ('PFE', 0.0),\n",
              "             ('TSLA', 0.15),\n",
              "             ('UNH', 0.02351),\n",
              "             ('XOM', 0.0)])"
            ]
          },
          "execution_count": 26,
          "metadata": {},
          "output_type": "execute_result"
        }
      ],
      "source": [
        "from pypfopt import objective_functions\n",
        "\n",
        "# You must always create a new efficient frontier object\n",
        "ef = EfficientFrontier(mu, S)\n",
        "ef.add_sector_constraints(sector_mapper, sector_lower, sector_upper)\n",
        "ef.add_objective(objective_functions.L2_reg, gamma=0.1)  # gamma is the tuning parameter\n",
        "ef.efficient_risk(0.2)\n",
        "weights = ef.clean_weights()\n",
        "weights"
      ]
    },
    {
      "cell_type": "code",
      "execution_count": null,
      "metadata": {
        "colab": {
          "base_uri": "https://localhost:8080/"
        },
        "id": "G0ZO5l4D9nzN",
        "outputId": "aefa431d-90b2-493b-8232-8dc8c8213212"
      },
      "outputs": [
        {
          "name": "stdout",
          "output_type": "stream",
          "text": [
            "3/15 tickers have zero weight\n"
          ]
        }
      ],
      "source": [
        "num_small = len([k for k in weights if weights[k] <= 1e-4])\n",
        "print(f\"{num_small}/{len(ef.tickers)} tickers have zero weight\")"
      ]
    },
    {
      "cell_type": "markdown",
      "metadata": {
        "id": "n8yo6ey19nzN"
      },
      "source": [
        "We can tune the value of gamma to choose the number of nonzero tickers. Larger gamma pulls portfolio weights towards an equal allocation."
      ]
    },
    {
      "cell_type": "code",
      "execution_count": null,
      "metadata": {
        "colab": {
          "base_uri": "https://localhost:8080/"
        },
        "id": "hIdHgQnE9nzO",
        "outputId": "76b74cec-dbad-4278-ad5c-6a3bb99b404d"
      },
      "outputs": [
        {
          "data": {
            "text/plain": [
              "OrderedDict([('ACN', 0.05801),\n",
              "             ('AMZN', 0.13571),\n",
              "             ('COST', 0.06445),\n",
              "             ('DIS', 0.05975),\n",
              "             ('F', 0.06037),\n",
              "             ('GILD', 0.07905),\n",
              "             ('JPM', 0.08961),\n",
              "             ('KO', 0.03555),\n",
              "             ('LUV', 0.06778),\n",
              "             ('MA', 0.08117),\n",
              "             ('MSFT', 0.06534),\n",
              "             ('PFE', 0.03292),\n",
              "             ('TSLA', 0.08963),\n",
              "             ('UNH', 0.05412),\n",
              "             ('XOM', 0.02654)])"
            ]
          },
          "execution_count": 28,
          "metadata": {},
          "output_type": "execute_result"
        }
      ],
      "source": [
        "ef = EfficientFrontier(mu, S)\n",
        "ef.add_sector_constraints(sector_mapper, sector_lower, sector_upper)\n",
        "ef.add_objective(objective_functions.L2_reg, gamma=1)  # gamma is the tuning parameter\n",
        "ef.efficient_risk(0.2)\n",
        "weights = ef.clean_weights()\n",
        "weights"
      ]
    },
    {
      "cell_type": "code",
      "execution_count": null,
      "metadata": {
        "colab": {
          "base_uri": "https://localhost:8080/",
          "height": 575
        },
        "id": "p0DzMHim9nzO",
        "outputId": "baaaab0c-4bee-4883-c0fb-70b4d650ef90"
      },
      "outputs": [
        {
          "data": {
            "image/png": "[encoded data removed]",
            "text/plain": [
              "<Figure size 1000x1000 with 1 Axes>"
            ]
          },
          "metadata": {},
          "output_type": "display_data"
        }
      ],
      "source": [
        "pd.Series(weights).plot.pie(figsize=(10, 10));"
      ]
    },
    {
      "cell_type": "code",
      "execution_count": null,
      "metadata": {
        "colab": {
          "base_uri": "https://localhost:8080/"
        },
        "id": "zFLNfMLr9nzO",
        "outputId": "69c1cead-6233-465a-a3c3-6c5def23d624"
      },
      "outputs": [
        {
          "name": "stdout",
          "output_type": "stream",
          "text": [
            "Expected annual return: 24.5%\n",
            "Annual volatility: 19.5%\n",
            "Sharpe Ratio: 1.25\n"
          ]
        }
      ],
      "source": [
        "ef.portfolio_performance(verbose=True);"
      ]
    },
    {
      "cell_type": "markdown",
      "metadata": {
        "id": "wggcvvSR9nzO"
      },
      "source": [
        "The resulting portfolio still has a volatility of less than our 15% limit. It's in-sample Sharpe ratio has gone down, but this portfolio is a lot more robust for actual investment."
      ]
    },
    {
      "cell_type": "markdown",
      "metadata": {
        "id": "Q1r-Z6ws9nzO"
      },
      "source": [
        "## Minimise risk for a given return, market-neutral\n",
        "\n",
        "We may instead be in the situation where we have a certain required rate of return (maybe we are a pension fund that needs 7% return a year), but would like to minimise risk. Additionally, suppose we would like our portfolio to be market neutral, in the sense that it is equally exposed to the long and short sides.  "
      ]
    },
    {
      "cell_type": "code",
      "execution_count": null,
      "metadata": {
        "colab": {
          "base_uri": "https://localhost:8080/"
        },
        "id": "XB4Cw8at9nzO",
        "outputId": "26404432-1324-435e-cde0-c28a242a571e"
      },
      "outputs": [
        {
          "data": {
            "text/plain": [
              "OrderedDict([('ACN', -0.02186),\n",
              "             ('AMZN', 0.1691),\n",
              "             ('COST', -0.05621),\n",
              "             ('DIS', -0.01695),\n",
              "             ('F', 0.03174),\n",
              "             ('GILD', 0.03354),\n",
              "             ('JPM', 0.06534),\n",
              "             ('KO', -0.13622),\n",
              "             ('LUV', 0.00524),\n",
              "             ('MA', 0.04403),\n",
              "             ('MSFT', -0.00338),\n",
              "             ('PFE', -0.08792),\n",
              "             ('TSLA', 0.10838),\n",
              "             ('UNH', -0.02754),\n",
              "             ('XOM', -0.10729)])"
            ]
          },
          "execution_count": 31,
          "metadata": {},
          "output_type": "execute_result"
        }
      ],
      "source": [
        "# Must have no weight bounds to allow shorts\n",
        "ef = EfficientFrontier(mu, S, weight_bounds=(None, None))\n",
        "ef.add_objective(objective_functions.L2_reg)\n",
        "ef.efficient_return(target_return=0.07, market_neutral=True)\n",
        "weights = ef.clean_weights()\n",
        "weights"
      ]
    },
    {
      "cell_type": "code",
      "execution_count": null,
      "metadata": {
        "colab": {
          "base_uri": "https://localhost:8080/"
        },
        "id": "Uf3oUKFP9nzO",
        "outputId": "aa726cf0-1200-4fa9-f61d-ca5807679a34"
      },
      "outputs": [
        {
          "name": "stdout",
          "output_type": "stream",
          "text": [
            "Expected annual return: 7.0%\n",
            "Annual volatility: 11.0%\n",
            "Sharpe Ratio: 0.63\n"
          ]
        }
      ],
      "source": [
        "ef.portfolio_performance(verbose=True);"
      ]
    },
    {
      "cell_type": "code",
      "execution_count": null,
      "metadata": {
        "colab": {
          "base_uri": "https://localhost:8080/",
          "height": 374
        },
        "id": "4rrQKk1Q9nzP",
        "outputId": "95a52da6-37ed-4dad-cd5b-2701affa6695"
      },
      "outputs": [
        {
          "data": {
            "image/png": "[encoded data removed]",
            "text/plain": [
              "<Figure size 1000x600 with 1 Axes>"
            ]
          },
          "metadata": {},
          "output_type": "display_data"
        }
      ],
      "source": [
        "pd.Series(weights).plot.barh(figsize=(10,6));"
      ]
    },
    {
      "cell_type": "code",
      "execution_count": null,
      "metadata": {
        "colab": {
          "base_uri": "https://localhost:8080/"
        },
        "id": "YwR1iKqv9nzP",
        "outputId": "478e0b8b-c1ed-4826-a1bc-1ad928927123"
      },
      "outputs": [
        {
          "name": "stdout",
          "output_type": "stream",
          "text": [
            "Net weight: -0.00\n"
          ]
        }
      ],
      "source": [
        "print(f\"Net weight: {sum(weights.values()):.2f}\")"
      ]
    },
    {
      "cell_type": "markdown",
      "metadata": {
        "id": "PBvVeqtm9nzP"
      },
      "source": [
        "## Efficient semi-variance optimization\n",
        "\n",
        "In this example, we will minimise the portfolio semivariance (i.e downside volatility) subject to a return constraint (target 20%).\n",
        "\n",
        "There are actually two ways of doing this in PyPortfolioOpt. The first is the \"intuitive\" way. We compute a semicovariance matrix, and pass this into `EfficientFrontier` (just like we would do for the exponential cov matrix or the Ledoit-Wolf shrunk matrix)."
      ]
    },
    {
      "cell_type": "code",
      "execution_count": null,
      "metadata": {
        "colab": {
          "base_uri": "https://localhost:8080/"
        },
        "id": "8FsS5Yqu9nzP",
        "outputId": "94948fd4-598a-4fa7-a41a-371fbda43f43"
      },
      "outputs": [
        {
          "data": {
            "image/png": "[encoded data removed]",
            "text/plain": [
              "<Figure size 640x480 with 2 Axes>"
            ]
          },
          "metadata": {},
          "output_type": "display_data"
        }
      ],
      "source": [
        "semicov = risk_models.semicovariance(prices, benchmark=0)\n",
        "plotting.plot_covariance(semicov);"
      ]
    },
    {
      "cell_type": "code",
      "execution_count": null,
      "metadata": {
        "colab": {
          "base_uri": "https://localhost:8080/"
        },
        "id": "cK0NfwQ69nzP",
        "outputId": "16b22337-b5ac-42cc-fe4c-8543d96275fd"
      },
      "outputs": [
        {
          "data": {
            "text/plain": [
              "OrderedDict([('ACN', 0.17408),\n",
              "             ('AMZN', 0.0),\n",
              "             ('COST', 0.05683),\n",
              "             ('DIS', 0.0),\n",
              "             ('F', 0.0),\n",
              "             ('GILD', 0.0),\n",
              "             ('JPM', 0.0),\n",
              "             ('KO', 0.26967),\n",
              "             ('LUV', 0.0),\n",
              "             ('MA', 0.2962),\n",
              "             ('MSFT', 0.0),\n",
              "             ('PFE', 0.07872),\n",
              "             ('TSLA', 0.10344),\n",
              "             ('UNH', 0.0),\n",
              "             ('XOM', 0.02105)])"
            ]
          },
          "execution_count": 36,
          "metadata": {},
          "output_type": "execute_result"
        }
      ],
      "source": [
        "ef = EfficientFrontier(mu, semicov)\n",
        "ef.efficient_return(0.2)\n",
        "weights = ef.clean_weights()\n",
        "weights\n"
      ]
    },
    {
      "cell_type": "code",
      "execution_count": null,
      "metadata": {
        "colab": {
          "base_uri": "https://localhost:8080/"
        },
        "id": "TUmSYq629nzP",
        "outputId": "62eba498-9e70-41b9-c361-5ad7f7814348"
      },
      "outputs": [
        {
          "name": "stdout",
          "output_type": "stream",
          "text": [
            "Expected annual return: 20.0%\n",
            "Annual volatility: 11.8%\n",
            "Sharpe Ratio: 1.70\n"
          ]
        }
      ],
      "source": [
        "ef.portfolio_performance(verbose=True);"
      ]
    },
    {
      "cell_type": "markdown",
      "metadata": {
        "id": "3ZZeruY69nzP"
      },
      "source": [
        "However, this solution is not truly optimal in mean-semivariance space. To do the optimization properly, we must use the `EfficientSemivariance` class. This requires us to first compute the returns and drop NaNs."
      ]
    },
    {
      "cell_type": "code",
      "execution_count": null,
      "metadata": {
        "id": "1qGD5WW69nzQ"
      },
      "outputs": [],
      "source": [
        "returns = expected_returns.returns_from_prices(prices)\n",
        "returns = returns.dropna()"
      ]
    },
    {
      "cell_type": "code",
      "execution_count": null,
      "metadata": {
        "colab": {
          "base_uri": "https://localhost:8080/"
        },
        "id": "Tyeys0NY9nzQ",
        "outputId": "bf3aa95f-99ab-4410-e9f9-c04e10bf82eb"
      },
      "outputs": [
        {
          "name": "stdout",
          "output_type": "stream",
          "text": [
            "Expected annual return: 20.0%\n",
            "Annual semi-deviation: 10.6%\n",
            "Sortino Ratio: 1.89\n"
          ]
        }
      ],
      "source": [
        "from pypfopt import EfficientSemivariance\n",
        "\n",
        "es = EfficientSemivariance(mu, returns)\n",
        "es.efficient_return(0.2)\n",
        "es.portfolio_performance(verbose=True);\n"
      ]
    },
    {
      "cell_type": "markdown",
      "metadata": {
        "id": "6g-7u4YA9nzQ"
      },
      "source": [
        "To compare this with the heuristic solution, I will use a quick hack: replacing the `es.weights` with `es.weights` and running `es.portfolio_performance` again. Please don't be encouraged to do this in real life!"
      ]
    },
    {
      "cell_type": "code",
      "execution_count": null,
      "metadata": {
        "colab": {
          "base_uri": "https://localhost:8080/"
        },
        "id": "6jLzfOCj9nzQ",
        "outputId": "ba8f4fcc-882a-4764-b0b8-e3906677dbd7"
      },
      "outputs": [
        {
          "name": "stdout",
          "output_type": "stream",
          "text": [
            "Expected annual return: 20.0%\n",
            "Annual semi-deviation: 12.8%\n",
            "Sortino Ratio: 1.57\n"
          ]
        }
      ],
      "source": [
        "es.weights = ef.weights\n",
        "es.portfolio_performance(verbose=True);"
      ]
    },
    {
      "cell_type": "markdown",
      "metadata": {
        "id": "FK4C6ah89nzQ"
      },
      "source": [
        "We see that the heuristic method has a significantly lower Sortino ratio, and much higher semivariance."
      ]
    },
    {
      "cell_type": "markdown",
      "metadata": {
        "id": "yJAcvz899nzQ"
      },
      "source": [
        "## Efficient CVaR optimization\n",
        "\n",
        "In this example, we will find the portfolio that maximises return subject to a CVaR constraint.\n",
        "\n",
        "Before doing this, let's first compute the 95%-CVaR for the max-sharpe portfolio."
      ]
    },
    {
      "cell_type": "code",
      "execution_count": null,
      "metadata": {
        "colab": {
          "base_uri": "https://localhost:8080/",
          "height": 281
        },
        "id": "x1d3qupJ9nzR",
        "outputId": "daadeac7-706a-445e-fdd6-ab02efc6d005"
      },
      "outputs": [
        {
          "data": {
            "text/html": [
              "<div>\n",
              "<style scoped>\n",
              "    .dataframe tbody tr th:only-of-type {\n",
              "        vertical-align: middle;\n",
              "    }\n",
              "\n",
              "    .dataframe tbody tr th {\n",
              "        vertical-align: top;\n",
              "    }\n",
              "\n",
              "    .dataframe thead th {\n",
              "        text-align: right;\n",
              "    }\n",
              "</style>\n",
              "<table border=\"1\" class=\"dataframe\">\n",
              "  <thead>\n",
              "    <tr style=\"text-align: right;\">\n",
              "      <th>Ticker</th>\n",
              "      <th>ACN</th>\n",
              "      <th>AMZN</th>\n",
              "      <th>COST</th>\n",
              "      <th>DIS</th>\n",
              "      <th>F</th>\n",
              "      <th>GILD</th>\n",
              "      <th>JPM</th>\n",
              "      <th>KO</th>\n",
              "      <th>LUV</th>\n",
              "      <th>MA</th>\n",
              "      <th>MSFT</th>\n",
              "      <th>PFE</th>\n",
              "      <th>TSLA</th>\n",
              "      <th>UNH</th>\n",
              "      <th>XOM</th>\n",
              "    </tr>\n",
              "    <tr>\n",
              "      <th>Date</th>\n",
              "      <th></th>\n",
              "      <th></th>\n",
              "      <th></th>\n",
              "      <th></th>\n",
              "      <th></th>\n",
              "      <th></th>\n",
              "      <th></th>\n",
              "      <th></th>\n",
              "      <th></th>\n",
              "      <th></th>\n",
              "      <th></th>\n",
              "      <th></th>\n",
              "      <th></th>\n",
              "      <th></th>\n",
              "      <th></th>\n",
              "    </tr>\n",
              "  </thead>\n",
              "  <tbody>\n",
              "    <tr>\n",
              "      <th>2010-06-30</th>\n",
              "      <td>0.000000</td>\n",
              "      <td>0.005985</td>\n",
              "      <td>-0.014381</td>\n",
              "      <td>-0.024768</td>\n",
              "      <td>0.020243</td>\n",
              "      <td>-0.019731</td>\n",
              "      <td>-0.012143</td>\n",
              "      <td>-0.004172</td>\n",
              "      <td>0.000000</td>\n",
              "      <td>-0.017045</td>\n",
              "      <td>-0.012870</td>\n",
              "      <td>-0.001400</td>\n",
              "      <td>-0.002511</td>\n",
              "      <td>-0.008034</td>\n",
              "      <td>-0.003840</td>\n",
              "    </tr>\n",
              "    <tr>\n",
              "      <th>2010-07-01</th>\n",
              "      <td>-0.009573</td>\n",
              "      <td>0.015559</td>\n",
              "      <td>0.001277</td>\n",
              "      <td>-0.000318</td>\n",
              "      <td>0.048611</td>\n",
              "      <td>-0.004084</td>\n",
              "      <td>-0.013130</td>\n",
              "      <td>-0.001796</td>\n",
              "      <td>-0.010801</td>\n",
              "      <td>0.016651</td>\n",
              "      <td>0.006519</td>\n",
              "      <td>-0.002104</td>\n",
              "      <td>-0.078473</td>\n",
              "      <td>-0.019366</td>\n",
              "      <td>-0.008060</td>\n",
              "    </tr>\n",
              "    <tr>\n",
              "      <th>2010-07-02</th>\n",
              "      <td>-0.008882</td>\n",
              "      <td>-0.016402</td>\n",
              "      <td>-0.012204</td>\n",
              "      <td>-0.003493</td>\n",
              "      <td>-0.027436</td>\n",
              "      <td>0.021382</td>\n",
              "      <td>-0.006929</td>\n",
              "      <td>0.000400</td>\n",
              "      <td>-0.021838</td>\n",
              "      <td>0.000346</td>\n",
              "      <td>0.004749</td>\n",
              "      <td>-0.006325</td>\n",
              "      <td>-0.125683</td>\n",
              "      <td>0.016158</td>\n",
              "      <td>-0.000707</td>\n",
              "    </tr>\n",
              "    <tr>\n",
              "      <th>2010-07-06</th>\n",
              "      <td>0.012388</td>\n",
              "      <td>0.008430</td>\n",
              "      <td>-0.004241</td>\n",
              "      <td>0.010835</td>\n",
              "      <td>-0.011673</td>\n",
              "      <td>-0.002868</td>\n",
              "      <td>0.013955</td>\n",
              "      <td>0.007593</td>\n",
              "      <td>-0.011163</td>\n",
              "      <td>-0.013513</td>\n",
              "      <td>0.023635</td>\n",
              "      <td>0.010608</td>\n",
              "      <td>-0.160937</td>\n",
              "      <td>0.020848</td>\n",
              "      <td>0.015733</td>\n",
              "    </tr>\n",
              "    <tr>\n",
              "      <th>2010-07-07</th>\n",
              "      <td>0.022129</td>\n",
              "      <td>0.030620</td>\n",
              "      <td>0.005370</td>\n",
              "      <td>0.044767</td>\n",
              "      <td>0.042323</td>\n",
              "      <td>0.004889</td>\n",
              "      <td>0.050096</td>\n",
              "      <td>0.020622</td>\n",
              "      <td>0.062088</td>\n",
              "      <td>0.037694</td>\n",
              "      <td>0.020151</td>\n",
              "      <td>0.023093</td>\n",
              "      <td>-0.019243</td>\n",
              "      <td>0.010731</td>\n",
              "      <td>0.016881</td>\n",
              "    </tr>\n",
              "  </tbody>\n",
              "</table>\n",
              "</div>"
            ],
            "text/plain": [
              "Ticker           ACN      AMZN      COST       DIS         F      GILD  \\\n",
              "Date                                                                     \n",
              "2010-06-30  0.000000  0.005985 -0.014381 -0.024768  0.020243 -0.019731   \n",
              "2010-07-01 -0.009573  0.015559  0.001277 -0.000318  0.048611 -0.004084   \n",
              "2010-07-02 -0.008882 -0.016402 -0.012204 -0.003493 -0.027436  0.021382   \n",
              "2010-07-06  0.012388  0.008430 -0.004241  0.010835 -0.011673 -0.002868   \n",
              "2010-07-07  0.022129  0.030620  0.005370  0.044767  0.042323  0.004889   \n",
              "\n",
              "Ticker           JPM        KO       LUV        MA      MSFT       PFE  \\\n",
              "Date                                                                     \n",
              "2010-06-30 -0.012143 -0.004172  0.000000 -0.017045 -0.012870 -0.001400   \n",
              "2010-07-01 -0.013130 -0.001796 -0.010801  0.016651  0.006519 -0.002104   \n",
              "2010-07-02 -0.006929  0.000400 -0.021838  0.000346  0.004749 -0.006325   \n",
              "2010-07-06  0.013955  0.007593 -0.011163 -0.013513  0.023635  0.010608   \n",
              "2010-07-07  0.050096  0.020622  0.062088  0.037694  0.020151  0.023093   \n",
              "\n",
              "Ticker          TSLA       UNH       XOM  \n",
              "Date                                      \n",
              "2010-06-30 -0.002511 -0.008034 -0.003840  \n",
              "2010-07-01 -0.078473 -0.019366 -0.008060  \n",
              "2010-07-02 -0.125683  0.016158 -0.000707  \n",
              "2010-07-06 -0.160937  0.020848  0.015733  \n",
              "2010-07-07 -0.019243  0.010731  0.016881  "
            ]
          },
          "execution_count": 41,
          "metadata": {},
          "output_type": "execute_result"
        }
      ],
      "source": [
        "returns = expected_returns.returns_from_prices(prices).dropna()\n",
        "returns.head()"
      ]
    },
    {
      "cell_type": "code",
      "execution_count": null,
      "metadata": {
        "colab": {
          "base_uri": "https://localhost:8080/"
        },
        "id": "4RdDFhAt9nzR",
        "outputId": "76d8a6e4-c2b9-4c39-e525-e7b8cf2444e7"
      },
      "outputs": [
        {
          "name": "stdout",
          "output_type": "stream",
          "text": [
            "Expected annual return: 24.6%\n",
            "Annual volatility: 17.6%\n",
            "Sharpe Ratio: 1.39\n"
          ]
        }
      ],
      "source": [
        "ef = EfficientFrontier(mu, S)\n",
        "ef.max_sharpe()\n",
        "weight_arr = ef.weights\n",
        "ef.portfolio_performance(verbose=True);"
      ]
    },
    {
      "cell_type": "code",
      "execution_count": null,
      "metadata": {
        "colab": {
          "base_uri": "https://localhost:8080/",
          "height": 265
        },
        "id": "29a0FtJY9nzR",
        "outputId": "a053e96e-e6fc-4c93-92ce-2cd3373ae112"
      },
      "outputs": [
        {
          "data": {
            "image/png": "[encoded data removed]",
            "text/plain": [
              "<Figure size 640x480 with 1 Axes>"
            ]
          },
          "metadata": {},
          "output_type": "display_data"
        }
      ],
      "source": [
        "# Compute CVaR\n",
        "portfolio_rets = (returns * weight_arr).sum(axis=1)\n",
        "portfolio_rets.hist(bins=50);"
      ]
    },
    {
      "cell_type": "code",
      "execution_count": null,
      "metadata": {
        "colab": {
          "base_uri": "https://localhost:8080/"
        },
        "id": "8LLBZ15l9nzR",
        "outputId": "5f81ae25-bf09-495e-c389-9df5890717d0"
      },
      "outputs": [
        {
          "name": "stdout",
          "output_type": "stream",
          "text": [
            "VaR: -2.12%\n",
            "CVaR: -3.14%\n"
          ]
        }
      ],
      "source": [
        "# VaR\n",
        "var = portfolio_rets.quantile(0.05)\n",
        "cvar = portfolio_rets[portfolio_rets <= var].mean()\n",
        "print(\"VaR: {:.2f}%\".format(100*var))\n",
        "print(\"CVaR: {:.2f}%\".format(100*cvar))"
      ]
    },
    {
      "cell_type": "markdown",
      "metadata": {
        "id": "PxHWPjSz9nzR"
      },
      "source": [
        "This value of the CVaR means that our average loss on the worst 5% of days will be -3.35%. Let's say that this were beyond our comfort zone (for a \\\\$100,000 portfolio, this would mean losing \\\\$3350 in a day).\n",
        "\n",
        "Let's firstly construct the portfolio with the minimum CVaR:"
      ]
    },
    {
      "cell_type": "code",
      "execution_count": null,
      "metadata": {
        "colab": {
          "base_uri": "https://localhost:8080/"
        },
        "id": "bQ79Y0Gr9nzR",
        "outputId": "b92a041c-9e59-45ba-8cab-ac427d889126"
      },
      "outputs": [
        {
          "name": "stdout",
          "output_type": "stream",
          "text": [
            "Expected annual return: 15.6%\n",
            "Conditional Value at Risk: 2.09%\n"
          ]
        }
      ],
      "source": [
        "from pypfopt import EfficientCVaR\n",
        "\n",
        "ec = EfficientCVaR(mu, returns)\n",
        "ec.min_cvar()\n",
        "ec.portfolio_performance(verbose=True);"
      ]
    },
    {
      "cell_type": "markdown",
      "metadata": {
        "id": "hVEjdNOv9nzS"
      },
      "source": [
        "We have significantly reduced the CVaR, but at the cost of a large reduction in returns. We can use `efficient_risk` to maximise the return for a target risk. Let's say that a 2.5% CVaR is acceptable."
      ]
    },
    {
      "cell_type": "code",
      "execution_count": null,
      "metadata": {
        "colab": {
          "base_uri": "https://localhost:8080/"
        },
        "id": "onq8FVDr9nzS",
        "outputId": "32b82ef5-e86c-414d-b965-d44e27813ff3"
      },
      "outputs": [
        {
          "name": "stdout",
          "output_type": "stream",
          "text": [
            "Expected annual return: 23.7%\n",
            "Conditional Value at Risk: 2.50%\n"
          ]
        }
      ],
      "source": [
        "from pypfopt import EfficientCVaR\n",
        "\n",
        "ec = EfficientCVaR(mu, returns)\n",
        "ec.efficient_risk(target_cvar=0.025)\n",
        "ec.portfolio_performance(verbose=True);"
      ]
    },
    {
      "cell_type": "markdown",
      "metadata": {
        "id": "6wjVOkqd9nzS"
      },
      "source": [
        "We now have similar returns to before (24.7% vs 25.8%), but with a lower tail risk (2.50% CVaR vs 3.35%)."
      ]
    },
    {
      "cell_type": "markdown",
      "metadata": {
        "id": "LJ_DCIo19nzS"
      },
      "source": [
        "## Plotting - Unconstrained\n",
        "\n",
        "To plot the unconstrained efficient frontier, it is easiest to use the critical line algorithm."
      ]
    },
    {
      "cell_type": "code",
      "execution_count": null,
      "metadata": {
        "colab": {
          "base_uri": "https://localhost:8080/"
        },
        "id": "n0UWSKGj9nzS",
        "outputId": "08a6de2a-17e4-4f70-92ea-fe86a9c8f442"
      },
      "outputs": [
        {
          "name": "stdout",
          "output_type": "stream",
          "text": [
            "Expected annual return: 24.6%\n",
            "Annual volatility: 17.6%\n",
            "Sharpe Ratio: 1.39\n"
          ]
        }
      ],
      "source": [
        "from pypfopt import CLA, plotting\n",
        "\n",
        "cla = CLA(mu, S)\n",
        "cla.max_sharpe()\n",
        "cla.portfolio_performance(verbose=True);"
      ]
    },
    {
      "cell_type": "code",
      "execution_count": null,
      "metadata": {
        "colab": {
          "base_uri": "https://localhost:8080/",
          "height": 297
        },
        "id": "Sk2eFFZ79nzS",
        "outputId": "6f967d10-32c4-4f83-ecac-aed15aa8180a"
      },
      "outputs": [
        {
          "data": {
            "image/png": "[encoded data removed]",
            "text/plain": [
              "<Figure size 640x480 with 1 Axes>"
            ]
          },
          "metadata": {},
          "output_type": "display_data"
        }
      ],
      "source": [
        "ax = plotting.plot_efficient_frontier(cla, showfig=False)"
      ]
    },
    {
      "cell_type": "markdown",
      "metadata": {
        "id": "G-i1XS94yYFU"
      },
      "source": [
        "Interactive plots via Plotly are now supported too."
      ]
    },
    {
      "cell_type": "code",
      "execution_count": null,
      "metadata": {
        "id": "faNeaOU6yYFU",
        "outputId": "49d20b18-7311-48cf-d9f6-dabc244b43cb"
      },
      "outputs": [
        {
          "data": {
            "application/vnd.plotly.v1+json": {
              "config": {
                "plotlyServerURL": "https://plot.ly"
              },
              "data": [
                {
                  "customdata": [
                    [
                      [
                        0
                      ],
                      [
                        1
                      ],
                      [
                        0
                      ],
                      [
                        0
                      ],
                      [
                        0
                      ],
                      [
                        0
                      ],
                      [
                        0
                      ],
                      [
                        0
                      ],
                      [
                        0
                      ],
                      [
                        0
                      ],
                      [
                        0
                      ],
                      [
                        0
                      ],
                      [
                        0
                      ],
                      [
                        0
                      ],
                      [
                        0
                      ]
                    ],
                    [
                      [
                        0
                      ],
                      [
                        0.999999999999999
                      ],
                      [
                        0
                      ],
                      [
                        0
                      ],
                      [
                        0
                      ],
                      [
                        0
                      ],
                      [
                        0
                      ],
                      [
                        0
                      ],
                      [
                        0
                      ],
                      [
                        0
                      ],
                      [
                        0
                      ],
                      [
                        0
                      ],
                      [
                        2.220446049250313e-16
                      ],
                      [
                        0
                      ],
                      [
                        0
                      ]
                    ],
                    [
                      [
                        0
                      ],
                      [
                        0.999999999999998
                      ],
                      [
                        0
                      ],
                      [
                        0
                      ],
                      [
                        0
                      ],
                      [
                        0
                      ],
                      [
                        0
                      ],
                      [
                        0
                      ],
                      [
                        0
                      ],
                      [
                        0
                      ],
                      [
                        0
                      ],
                      [
                        0
                      ],
                      [
                        4.440892098500626e-16
                      ],
                      [
                        0
                      ],
                      [
                        0
                      ]
                    ],
                    [
                      [
                        0
                      ],
                      [
                        0.999999999999997
                      ],
                      [
                        0
                      ],
                      [
                        0
                      ],
                      [
                        0
                      ],
                      [
                        0
                      ],
                      [
                        0
                      ],
                      [
                        0
                      ],
                      [
                        0
                      ],
                      [
                        0
                      ],
                      [
                        0
                      ],
                      [
                        0
                      ],
                      [
                        6.661338147750939e-16
                      ],
                      [
                        0
                      ],
                      [
                        0
                      ]
                    ],
                    [
                      [
                        0
                      ],
                      [
                        0.999999999999996
                      ],
                      [
                        0
                      ],
                      [
                        0
                      ],
                      [
                        0
                      ],
                      [
                        0
                      ],
                      [
                        0
                      ],
                      [
                        0
                      ],
                      [
                        0
                      ],
                      [
                        0
                      ],
                      [
                        0
                      ],
                      [
                        0
                      ],
                      [
                        8.881784197001252e-16
                      ],
                      [
                        0
                      ],
                      [
                        0
                      ]
                    ],
                    [
                      [
                        0
                      ],
                      [
                        0.8853870724647417
                      ],
                      [
                        0
                      ],
                      [
                        0
                      ],
                      [
                        0
                      ],
                      [
                        0
                      ],
                      [
                        0
                      ],
                      [
                        0
                      ],
                      [
                        0
                      ],
                      [
                        0
                      ],
                      [
                        0
                      ],
                      [
                        0
                      ],
                      [
                        0.11461292753525604
                      ],
                      [
                        0
                      ],
                      [
                        0
                      ]
                    ],
                    [
                      [
                        0
                      ],
                      [
                        0.7707741449294874
                      ],
                      [
                        0
                      ],
                      [
                        0
                      ],
                      [
                        0
                      ],
                      [
                        0
                      ],
                      [
                        0
                      ],
                      [
                        0
                      ],
                      [
                        0
                      ],
                      [
                        0
                      ],
                      [
                        0
                      ],
                      [
                        0
                      ],
                      [
                        0.2292258550705112
                      ],
                      [
                        0
                      ],
                      [
                        0
                      ]
                    ],
                    [
                      [
                        0
                      ],
                      [
                        0.6561612173942332
                      ],
                      [
                        0
                      ],
                      [
                        0
                      ],
                      [
                        0
                      ],
                      [
                        0
                      ],
                      [
                        0
                      ],
                      [
                        0
                      ],
                      [
                        0
                      ],
                      [
                        0
                      ],
                      [
                        0
                      ],
                      [
                        0
                      ],
                      [
                        0.34383878260576634
                      ],
                      [
                        0
                      ],
                      [
                        0
                      ]
                    ],
                    [
                      [
                        0
                      ],
                      [
                        0.5415482898589788
                      ],
                      [
                        0
                      ],
                      [
                        0
                      ],
                      [
                        0
                      ],
                      [
                        0
                      ],
                      [
                        0
                      ],
                      [
                        0
                      ],
                      [
                        0
                      ],
                      [
                        0
                      ],
                      [
                        0
                      ],
                      [
                        0
                      ],
                      [
                        0.4584517101410215
                      ],
                      [
                        0
                      ],
                      [
                        0
                      ]
                    ],
                    [
                      [
                        0
                      ],
                      [
                        0.5228921465319595
                      ],
                      [
                        0
                      ],
                      [
                        0
                      ],
                      [
                        0
                      ],
                      [
                        0
                      ],
                      [
                        0.019755890434149215
                      ],
                      [
                        0
                      ],
                      [
                        0
                      ],
                      [
                        -1.1102230246251565e-16
                      ],
                      [
                        0
                      ],
                      [
                        0
                      ],
                      [
                        0.45735196303389175
                      ],
                      [
                        0
                      ],
                      [
                        0
                      ]
                    ],
                    [
                      [
                        0
                      ],
                      [
                        0.50423600320494
                      ],
                      [
                        0
                      ],
                      [
                        0
                      ],
                      [
                        0
                      ],
                      [
                        0
                      ],
                      [
                        0.03951178086829843
                      ],
                      [
                        0
                      ],
                      [
                        0
                      ],
                      [
                        -2.220446049250313e-16
                      ],
                      [
                        0
                      ],
                      [
                        0
                      ],
                      [
                        0.456252215926762
                      ],
                      [
                        0
                      ],
                      [
                        0
                      ]
                    ],
                    [
                      [
                        0
                      ],
                      [
                        0.4855798598779206
                      ],
                      [
                        0
                      ],
                      [
                        0
                      ],
                      [
                        0
                      ],
                      [
                        0
                      ],
                      [
                        0.059267671302447644
                      ],
                      [
                        0
                      ],
                      [
                        0
                      ],
                      [
                        -3.3306690738754696e-16
                      ],
                      [
                        0
                      ],
                      [
                        0
                      ],
                      [
                        0.4551524688196323
                      ],
                      [
                        0
                      ],
                      [
                        0
                      ]
                    ],
                    [
                      [
                        0
                      ],
                      [
                        0.46692371655090126
                      ],
                      [
                        0
                      ],
                      [
                        0
                      ],
                      [
                        0
                      ],
                      [
                        0
                      ],
                      [
                        0.07902356173659686
                      ],
                      [
                        0
                      ],
                      [
                        0
                      ],
                      [
                        -4.440892098500626e-16
                      ],
                      [
                        0
                      ],
                      [
                        0
                      ],
                      [
                        0.45405272171250255
                      ],
                      [
                        0
                      ],
                      [
                        0
                      ]
                    ],
                    [
                      [
                        0
                      ],
                      [
                        0.44300103346403685
                      ],
                      [
                        0
                      ],
                      [
                        0
                      ],
                      [
                        0
                      ],
                      [
                        -1.3877787807814457e-17
                      ],
                      [
                        0.08228772764112427
                      ],
                      [
                        0
                      ],
                      [
                        0
                      ],
                      [
                        0.034784387822905716
                      ],
                      [
                        0
                      ],
                      [
                        0
                      ],
                      [
                        0.4399268510719334
                      ],
                      [
                        0
                      ],
                      [
                        0
                      ]
                    ],
                    [
                      [
                        0
                      ],
                      [
                        0.4190783503771724
                      ],
                      [
                        0
                      ],
                      [
                        0
                      ],
                      [
                        0
                      ],
                      [
                        -2.7755575615628914e-17
                      ],
                      [
                        0.08555189354565168
                      ],
                      [
                        0
                      ],
                      [
                        0
                      ],
                      [
                        0.06956877564581188
                      ],
                      [
                        0
                      ],
                      [
                        0
                      ],
                      [
                        0.4258009804313643
                      ],
                      [
                        0
                      ],
                      [
                        0
                      ]
                    ],
                    [
                      [
                        0
                      ],
                      [
                        0.39515566729030793
                      ],
                      [
                        0
                      ],
                      [
                        0
                      ],
                      [
                        0
                      ],
                      [
                        -4.163336342344337e-17
                      ],
                      [
                        0.08881605945017909
                      ],
                      [
                        0
                      ],
                      [
                        0
                      ],
                      [
                        0.10435316346871804
                      ],
                      [
                        0
                      ],
                      [
                        0
                      ],
                      [
                        0.41167510979079514
                      ],
                      [
                        0
                      ],
                      [
                        0
                      ]
                    ],
                    [
                      [
                        0
                      ],
                      [
                        0.37123298420344353
                      ],
                      [
                        0
                      ],
                      [
                        0
                      ],
                      [
                        0
                      ],
                      [
                        -5.551115123125783e-17
                      ],
                      [
                        0.0920802253547065
                      ],
                      [
                        0
                      ],
                      [
                        0
                      ],
                      [
                        0.1391375512916242
                      ],
                      [
                        0
                      ],
                      [
                        0
                      ],
                      [
                        0.397549239150226
                      ],
                      [
                        0
                      ],
                      [
                        0
                      ]
                    ],
                    [
                      [
                        0
                      ],
                      [
                        0.3286688187593882
                      ],
                      [
                        0
                      ],
                      [
                        0
                      ],
                      [
                        3.469446951953614e-18
                      ],
                      [
                        0.01574609335691053
                      ],
                      [
                        0.09301336563007635
                      ],
                      [
                        0
                      ],
                      [
                        0
                      ],
                      [
                        0.19104484407898684
                      ],
                      [
                        0
                      ],
                      [
                        0
                      ],
                      [
                        0.3715268781746383
                      ],
                      [
                        0
                      ],
                      [
                        0
                      ]
                    ],
                    [
                      [
                        0
                      ],
                      [
                        0.2861046533153329
                      ],
                      [
                        0
                      ],
                      [
                        0
                      ],
                      [
                        6.938893903907228e-18
                      ],
                      [
                        0.03149218671382112
                      ],
                      [
                        0.0939465059054462
                      ],
                      [
                        0
                      ],
                      [
                        0
                      ],
                      [
                        0.24295213686634948
                      ],
                      [
                        0
                      ],
                      [
                        0
                      ],
                      [
                        0.3455045171990506
                      ],
                      [
                        0
                      ],
                      [
                        0
                      ]
                    ],
                    [
                      [
                        0
                      ],
                      [
                        0.24354048787127758
                      ],
                      [
                        0
                      ],
                      [
                        0
                      ],
                      [
                        1.0408340855860843e-17
                      ],
                      [
                        0.047238280070731706
                      ],
                      [
                        0.09487964618081605
                      ],
                      [
                        0
                      ],
                      [
                        0
                      ],
                      [
                        0.29485942965371215
                      ],
                      [
                        0
                      ],
                      [
                        0
                      ],
                      [
                        0.319482156223463
                      ],
                      [
                        0
                      ],
                      [
                        0
                      ]
                    ],
                    [
                      [
                        0
                      ],
                      [
                        0.20097632242722227
                      ],
                      [
                        0
                      ],
                      [
                        0
                      ],
                      [
                        1.3877787807814457e-17
                      ],
                      [
                        0.06298437342764229
                      ],
                      [
                        0.0958127864561859
                      ],
                      [
                        0
                      ],
                      [
                        0
                      ],
                      [
                        0.34676672244107476
                      ],
                      [
                        0
                      ],
                      [
                        0
                      ],
                      [
                        0.2934597952478753
                      ],
                      [
                        0
                      ],
                      [
                        0
                      ]
                    ],
                    [
                      [
                        0
                      ],
                      [
                        0.19728171496772992
                      ],
                      [
                        0
                      ],
                      [
                        0
                      ],
                      [
                        0.001744249751300839
                      ],
                      [
                        0.06420601707995248
                      ],
                      [
                        0.09527242173226094
                      ],
                      [
                        0
                      ],
                      [
                        0
                      ],
                      [
                        0.35045473658372583
                      ],
                      [
                        0
                      ],
                      [
                        0
                      ],
                      [
                        0.29104085988503026
                      ],
                      [
                        0
                      ],
                      [
                        0
                      ]
                    ],
                    [
                      [
                        0
                      ],
                      [
                        0.1935871075082376
                      ],
                      [
                        0
                      ],
                      [
                        0
                      ],
                      [
                        0.0034884995026016642
                      ],
                      [
                        0.06542766073226267
                      ],
                      [
                        0.094732057008336
                      ],
                      [
                        0
                      ],
                      [
                        0
                      ],
                      [
                        0.35414275072637685
                      ],
                      [
                        0
                      ],
                      [
                        0
                      ],
                      [
                        0.28862192452218516
                      ],
                      [
                        0
                      ],
                      [
                        0
                      ]
                    ],
                    [
                      [
                        0
                      ],
                      [
                        0.18989250004874525
                      ],
                      [
                        0
                      ],
                      [
                        0
                      ],
                      [
                        0.005232749253902489
                      ],
                      [
                        0.06664930438457284
                      ],
                      [
                        0.09419169228441103
                      ],
                      [
                        0
                      ],
                      [
                        0
                      ],
                      [
                        0.3578307648690279
                      ],
                      [
                        0
                      ],
                      [
                        0
                      ],
                      [
                        0.2862029891593401
                      ],
                      [
                        0
                      ],
                      [
                        0
                      ]
                    ],
                    [
                      [
                        0
                      ],
                      [
                        0.1861978925892529
                      ],
                      [
                        0
                      ],
                      [
                        0
                      ],
                      [
                        0.0069769990052033146
                      ],
                      [
                        0.06787094803688302
                      ],
                      [
                        0.09365132756048608
                      ],
                      [
                        0
                      ],
                      [
                        0
                      ],
                      [
                        0.36151877901167895
                      ],
                      [
                        0
                      ],
                      [
                        0
                      ],
                      [
                        0.2837840537964951
                      ],
                      [
                        0
                      ],
                      [
                        0
                      ]
                    ],
                    [
                      [
                        2.7755575615628914e-17
                      ],
                      [
                        0.18226231101394325
                      ],
                      [
                        0
                      ],
                      [
                        0
                      ],
                      [
                        0.008137264239321988
                      ],
                      [
                        0.06886441479428587
                      ],
                      [
                        0.09229031820306509
                      ],
                      [
                        0
                      ],
                      [
                        0.003029305943275381
                      ],
                      [
                        0.36439247361437144
                      ],
                      [
                        0
                      ],
                      [
                        0
                      ],
                      [
                        0.28102391219173645
                      ],
                      [
                        0
                      ],
                      [
                        0
                      ]
                    ],
                    [
                      [
                        5.551115123125783e-17
                      ],
                      [
                        0.17832672943863356
                      ],
                      [
                        0
                      ],
                      [
                        0
                      ],
                      [
                        0.009297529473440659
                      ],
                      [
                        0.06985788155168873
                      ],
                      [
                        0.09092930884564411
                      ],
                      [
                        0
                      ],
                      [
                        0.006058611886550762
                      ],
                      [
                        0.36726616821706387
                      ],
                      [
                        0
                      ],
                      [
                        0
                      ],
                      [
                        0.2782637705869778
                      ],
                      [
                        0
                      ],
                      [
                        0
                      ]
                    ],
                    [
                      [
                        8.326672684688674e-17
                      ],
                      [
                        0.17439114786332388
                      ],
                      [
                        0
                      ],
                      [
                        0
                      ],
                      [
                        0.010457794707559332
                      ],
                      [
                        0.07085134830909158
                      ],
                      [
                        0.08956829948822312
                      ],
                      [
                        0
                      ],
                      [
                        0.009087917829826143
                      ],
                      [
                        0.3701398628197563
                      ],
                      [
                        0
                      ],
                      [
                        0
                      ],
                      [
                        0.2755036289822192
                      ],
                      [
                        0
                      ],
                      [
                        0
                      ]
                    ],
                    [
                      [
                        1.1102230246251565e-16
                      ],
                      [
                        0.17045556628801423
                      ],
                      [
                        0
                      ],
                      [
                        0
                      ],
                      [
                        0.011618059941678003
                      ],
                      [
                        0.07184481506649443
                      ],
                      [
                        0.08820729013080214
                      ],
                      [
                        0
                      ],
                      [
                        0.012117223773101524
                      ],
                      [
                        0.3730135574224488
                      ],
                      [
                        0
                      ],
                      [
                        0
                      ],
                      [
                        0.27274348737746057
                      ],
                      [
                        0
                      ],
                      [
                        0
                      ]
                    ],
                    [
                      [
                        0.003830488348366287
                      ],
                      [
                        0.16858153197142367
                      ],
                      [
                        0
                      ],
                      [
                        0
                      ],
                      [
                        0.011772258115023564
                      ],
                      [
                        0.07197866898124923
                      ],
                      [
                        0.08725649611920881
                      ],
                      [
                        0
                      ],
                      [
                        0.012978056282302825
                      ],
                      [
                        0.3724863841597992
                      ],
                      [
                        0
                      ],
                      [
                        0
                      ],
                      [
                        0.27111611602262614
                      ],
                      [
                        -1.0408340855860843e-17
                      ],
                      [
                        0
                      ]
                    ],
                    [
                      [
                        0.007660976696732463
                      ],
                      [
                        0.16670749765483317
                      ],
                      [
                        0
                      ],
                      [
                        0
                      ],
                      [
                        0.011926456288369124
                      ],
                      [
                        0.07211252289600403
                      ],
                      [
                        0.08630570210761548
                      ],
                      [
                        0
                      ],
                      [
                        0.013838888791504127
                      ],
                      [
                        0.3719592108971496
                      ],
                      [
                        0
                      ],
                      [
                        0
                      ],
                      [
                        0.2694887446677917
                      ],
                      [
                        -2.0816681711721685e-17
                      ],
                      [
                        0
                      ]
                    ],
                    [
                      [
                        0.01149146504509864
                      ],
                      [
                        0.16483346333824264
                      ],
                      [
                        0
                      ],
                      [
                        0
                      ],
                      [
                        0.012080654461714684
                      ],
                      [
                        0.07224637681075885
                      ],
                      [
                        0.08535490809602214
                      ],
                      [
                        0
                      ],
                      [
                        0.014699721300705428
                      ],
                      [
                        0.37143203763450006
                      ],
                      [
                        0
                      ],
                      [
                        0
                      ],
                      [
                        0.2678613733129573
                      ],
                      [
                        -3.122502256758253e-17
                      ],
                      [
                        0
                      ]
                    ],
                    [
                      [
                        0.015321953393464816
                      ],
                      [
                        0.1629594290216521
                      ],
                      [
                        0
                      ],
                      [
                        0
                      ],
                      [
                        0.012234852635060245
                      ],
                      [
                        0.07238023072551365
                      ],
                      [
                        0.08440411408442881
                      ],
                      [
                        0
                      ],
                      [
                        0.01556055380990673
                      ],
                      [
                        0.37090486437185044
                      ],
                      [
                        0
                      ],
                      [
                        0
                      ],
                      [
                        0.26623400195812286
                      ],
                      [
                        -4.163336342344337e-17
                      ],
                      [
                        0
                      ]
                    ],
                    [
                      [
                        0.033593217682199826
                      ],
                      [
                        0.15309354649150245
                      ],
                      [
                        -1.0408340855860843e-17
                      ],
                      [
                        0
                      ],
                      [
                        0.012683878077838343
                      ],
                      [
                        0.07225866360039644
                      ],
                      [
                        0.07834483127097547
                      ],
                      [
                        0
                      ],
                      [
                        0.019169081739991524
                      ],
                      [
                        0.3662200406599776
                      ],
                      [
                        0
                      ],
                      [
                        0
                      ],
                      [
                        0.2573196097361957
                      ],
                      [
                        0.007317130740922368
                      ],
                      [
                        0
                      ]
                    ],
                    [
                      [
                        0.051864481970934836
                      ],
                      [
                        0.14322766396135278
                      ],
                      [
                        -2.0816681711721685e-17
                      ],
                      [
                        0
                      ],
                      [
                        0.013132903520616438
                      ],
                      [
                        0.07213709647527922
                      ],
                      [
                        0.07228554845752214
                      ],
                      [
                        0
                      ],
                      [
                        0.022777609670076318
                      ],
                      [
                        0.3615352169481047
                      ],
                      [
                        0
                      ],
                      [
                        0
                      ],
                      [
                        0.24840521751426858
                      ],
                      [
                        0.014634261481844778
                      ],
                      [
                        0
                      ]
                    ],
                    [
                      [
                        0.07013574625966985
                      ],
                      [
                        0.13336178143120314
                      ],
                      [
                        -3.122502256758253e-17
                      ],
                      [
                        0
                      ],
                      [
                        0.013581928963394534
                      ],
                      [
                        0.07201552935016199
                      ],
                      [
                        0.06622626564406879
                      ],
                      [
                        0
                      ],
                      [
                        0.02638613760016111
                      ],
                      [
                        0.3568503932362318
                      ],
                      [
                        0
                      ],
                      [
                        0
                      ],
                      [
                        0.23949082529234142
                      ],
                      [
                        0.02195139222276719
                      ],
                      [
                        0
                      ]
                    ],
                    [
                      [
                        0.08840701054840486
                      ],
                      [
                        0.12349589890105346
                      ],
                      [
                        -4.163336342344337e-17
                      ],
                      [
                        0
                      ],
                      [
                        0.014030954406172632
                      ],
                      [
                        0.07189396222504478
                      ],
                      [
                        0.06016698283061545
                      ],
                      [
                        0
                      ],
                      [
                        0.029994665530245903
                      ],
                      [
                        0.35216556952435896
                      ],
                      [
                        0
                      ],
                      [
                        0
                      ],
                      [
                        0.23057643307041428
                      ],
                      [
                        0.0292685229636896
                      ],
                      [
                        0
                      ]
                    ],
                    [
                      [
                        0.09366475536998617
                      ],
                      [
                        0.11969379935175936
                      ],
                      [
                        0.004919955298477276
                      ],
                      [
                        0
                      ],
                      [
                        0.013855214538748876
                      ],
                      [
                        0.0715191990809035
                      ],
                      [
                        0.05748925894659049
                      ],
                      [
                        0
                      ],
                      [
                        0.03072162360764135
                      ],
                      [
                        0.3497793148917032
                      ],
                      [
                        0
                      ],
                      [
                        6.938893903907228e-18
                      ],
                      [
                        0.2271473207575334
                      ],
                      [
                        0.03120955815665621
                      ],
                      [
                        0
                      ]
                    ],
                    [
                      [
                        0.09892250019156748
                      ],
                      [
                        0.11589169980246525
                      ],
                      [
                        0.009839910596954594
                      ],
                      [
                        0
                      ],
                      [
                        0.013679474671325124
                      ],
                      [
                        0.07114443593676222
                      ],
                      [
                        0.05481153506256553
                      ],
                      [
                        0
                      ],
                      [
                        0.0314485816850368
                      ],
                      [
                        0.3473930602590476
                      ],
                      [
                        0
                      ],
                      [
                        1.3877787807814457e-17
                      ],
                      [
                        0.22371820844465257
                      ],
                      [
                        0.03315059334962282
                      ],
                      [
                        0
                      ]
                    ],
                    [
                      [
                        0.10418024501314879
                      ],
                      [
                        0.11208960025317112
                      ],
                      [
                        0.014759865895431911
                      ],
                      [
                        0
                      ],
                      [
                        0.013503734803901369
                      ],
                      [
                        0.07076967279262093
                      ],
                      [
                        0.05213381117854056
                      ],
                      [
                        0
                      ],
                      [
                        0.032175539762432245
                      ],
                      [
                        0.34500680562639197
                      ],
                      [
                        0
                      ],
                      [
                        2.0816681711721685e-17
                      ],
                      [
                        0.2202890961317717
                      ],
                      [
                        0.03509162854258943
                      ],
                      [
                        0
                      ]
                    ],
                    [
                      [
                        0.10943798983473009
                      ],
                      [
                        0.10828750070387702
                      ],
                      [
                        0.01967982119390923
                      ],
                      [
                        0
                      ],
                      [
                        0.013327994936477615
                      ],
                      [
                        0.07039490964847965
                      ],
                      [
                        0.0494560872945156
                      ],
                      [
                        0
                      ],
                      [
                        0.032902497839827696
                      ],
                      [
                        0.34262055099373623
                      ],
                      [
                        0
                      ],
                      [
                        2.7755575615628914e-17
                      ],
                      [
                        0.21685998381889082
                      ],
                      [
                        0.03703266373555604
                      ],
                      [
                        0
                      ]
                    ],
                    [
                      [
                        0.11327157498006517
                      ],
                      [
                        0.10450267839401135
                      ],
                      [
                        0.023302280623651105
                      ],
                      [
                        0
                      ],
                      [
                        0.012971427908699425
                      ],
                      [
                        0.06935183187806995
                      ],
                      [
                        0.046245366848944265
                      ],
                      [
                        0
                      ],
                      [
                        0.033188295427314204
                      ],
                      [
                        0.3391026181673979
                      ],
                      [
                        0
                      ],
                      [
                        0.00690817984153847
                      ],
                      [
                        0.21329311722160418
                      ],
                      [
                        0.037862628708703966
                      ],
                      [
                        0
                      ]
                    ],
                    [
                      [
                        0.11710516012540025
                      ],
                      [
                        0.1007178560841457
                      ],
                      [
                        0.026924740053392977
                      ],
                      [
                        0
                      ],
                      [
                        0.012614860880921237
                      ],
                      [
                        0.06830875410766027
                      ],
                      [
                        0.04303464640337294
                      ],
                      [
                        0
                      ],
                      [
                        0.03347409301480071
                      ],
                      [
                        0.33558468534105956
                      ],
                      [
                        0
                      ],
                      [
                        0.013816359683076913
                      ],
                      [
                        0.20972625062431755
                      ],
                      [
                        0.0386925936818519
                      ],
                      [
                        0
                      ]
                    ],
                    [
                      [
                        0.12093874527073532
                      ],
                      [
                        0.09693303377428003
                      ],
                      [
                        0.03054719948313485
                      ],
                      [
                        0
                      ],
                      [
                        0.012258293853143046
                      ],
                      [
                        0.06726567633725059
                      ],
                      [
                        0.03982392595780161
                      ],
                      [
                        0
                      ],
                      [
                        0.03375989060228722
                      ],
                      [
                        0.3320667525147212
                      ],
                      [
                        0
                      ],
                      [
                        0.020724539524615355
                      ],
                      [
                        0.20615938402703093
                      ],
                      [
                        0.03952255865499983
                      ],
                      [
                        0
                      ]
                    ],
                    [
                      [
                        0.1247723304160704
                      ],
                      [
                        0.09314821146441438
                      ],
                      [
                        0.034169658912876724
                      ],
                      [
                        0
                      ],
                      [
                        0.011901726825364858
                      ],
                      [
                        0.0662225985668409
                      ],
                      [
                        0.036613205512230275
                      ],
                      [
                        0
                      ],
                      [
                        0.034045688189773736
                      ],
                      [
                        0.32854881968838284
                      ],
                      [
                        0
                      ],
                      [
                        0.0276327193661538
                      ],
                      [
                        0.2025925174297443
                      ],
                      [
                        0.04035252362814776
                      ],
                      [
                        0
                      ]
                    ],
                    [
                      [
                        0.1274539123459773
                      ],
                      [
                        0.0883846164508751
                      ],
                      [
                        0.036927600342071036
                      ],
                      [
                        -9.486769009248164e-20
                      ],
                      [
                        0.010717005371407115
                      ],
                      [
                        0.0645428845211676
                      ],
                      [
                        0.03194072727270496
                      ],
                      [
                        0.015135862597776096
                      ],
                      [
                        0.03371011529292103
                      ],
                      [
                        0.32166256955496464
                      ],
                      [
                        0
                      ],
                      [
                        0.03242876582692473
                      ],
                      [
                        0.19722011398777642
                      ],
                      [
                        0.039875826435433984
                      ],
                      [
                        0
                      ]
                    ],
                    [
                      [
                        0.1301354942758842
                      ],
                      [
                        0.08362102143733582
                      ],
                      [
                        0.03968554177126535
                      ],
                      [
                        -1.8973538018496328e-19
                      ],
                      [
                        0.009532283917449374
                      ],
                      [
                        0.0628631704754943
                      ],
                      [
                        0.02726824903317964
                      ],
                      [
                        0.030271725195552192
                      ],
                      [
                        0.033374542396068324
                      ],
                      [
                        0.31477631942154644
                      ],
                      [
                        0
                      ],
                      [
                        0.037224812287695655
                      ],
                      [
                        0.19184771054580851
                      ],
                      [
                        0.03939912924272021
                      ],
                      [
                        0
                      ]
                    ],
                    [
                      [
                        0.13281707620579108
                      ],
                      [
                        0.07885742642379655
                      ],
                      [
                        0.04244348320045965
                      ],
                      [
                        -2.846030702774449e-19
                      ],
                      [
                        0.008347562463491633
                      ],
                      [
                        0.06118345642982101
                      ],
                      [
                        0.022595770793654324
                      ],
                      [
                        0.04540758779332829
                      ],
                      [
                        0.03303896949921562
                      ],
                      [
                        0.30789006928812823
                      ],
                      [
                        0
                      ],
                      [
                        0.04202085874846659
                      ],
                      [
                        0.1864753071038406
                      ],
                      [
                        0.03892243205000644
                      ],
                      [
                        0
                      ]
                    ],
                    [
                      [
                        0.13549865813569797
                      ],
                      [
                        0.07409383141025727
                      ],
                      [
                        0.045201424629653965
                      ],
                      [
                        -3.7947076036992655e-19
                      ],
                      [
                        0.0071628410095338916
                      ],
                      [
                        0.05950374238414771
                      ],
                      [
                        0.017923292554129003
                      ],
                      [
                        0.060543450391104384
                      ],
                      [
                        0.03270339660236291
                      ],
                      [
                        0.30100381915471003
                      ],
                      [
                        0
                      ],
                      [
                        0.046816905209237515
                      ],
                      [
                        0.18110290366187273
                      ],
                      [
                        0.03844573485729267
                      ],
                      [
                        0
                      ]
                    ],
                    [
                      [
                        0.13607183732991335
                      ],
                      [
                        0.07299465024416572
                      ],
                      [
                        0.04581144415551325
                      ],
                      [
                        0.0002643738287240379
                      ],
                      [
                        0.006873088758876753
                      ],
                      [
                        0.05911424305635032
                      ],
                      [
                        0.016822663863477957
                      ],
                      [
                        0.06394699493989965
                      ],
                      [
                        0.032600381739910325
                      ],
                      [
                        0.2994085792858511
                      ],
                      [
                        0
                      ],
                      [
                        0.04789267409662502
                      ],
                      [
                        0.17987267569275667
                      ],
                      [
                        0.038326393007935944
                      ],
                      [
                        -3.0357660829594124e-18
                      ]
                    ],
                    [
                      [
                        0.13664501652412875
                      ],
                      [
                        0.07189546907807418
                      ],
                      [
                        0.046421463681372524
                      ],
                      [
                        0.0005287476574480761
                      ],
                      [
                        0.006583336508219615
                      ],
                      [
                        0.05872474372855292
                      ],
                      [
                        0.015722035172826915
                      ],
                      [
                        0.0673505394886949
                      ],
                      [
                        0.03249736687745773
                      ],
                      [
                        0.29781333941699206
                      ],
                      [
                        0
                      ],
                      [
                        0.04896844298401251
                      ],
                      [
                        0.1786424477236406
                      ],
                      [
                        0.03820705115857921
                      ],
                      [
                        -6.071532165918825e-18
                      ]
                    ],
                    [
                      [
                        0.13721819571834412
                      ],
                      [
                        0.07079628791198263
                      ],
                      [
                        0.04703148320723179
                      ],
                      [
                        0.0007931214861721143
                      ],
                      [
                        0.006293584257562477
                      ],
                      [
                        0.05833524440075552
                      ],
                      [
                        0.014621406482175869
                      ],
                      [
                        0.07075408403749017
                      ],
                      [
                        0.03239435201500514
                      ],
                      [
                        0.29621809954813305
                      ],
                      [
                        0
                      ],
                      [
                        0.050044211871400006
                      ],
                      [
                        0.17741221975452454
                      ],
                      [
                        0.03808770930922248
                      ],
                      [
                        -9.107298248878237e-18
                      ]
                    ],
                    [
                      [
                        0.1377913749125595
                      ],
                      [
                        0.06969710674589108
                      ],
                      [
                        0.047641502733091076
                      ],
                      [
                        0.0010574953148961526
                      ],
                      [
                        0.006003832006905339
                      ],
                      [
                        0.057945745072958126
                      ],
                      [
                        0.013520777791524823
                      ],
                      [
                        0.07415762858628544
                      ],
                      [
                        0.03229133715255254
                      ],
                      [
                        0.2946228596792741
                      ],
                      [
                        0
                      ],
                      [
                        0.05111998075878751
                      ],
                      [
                        0.17618199178540847
                      ],
                      [
                        0.037968367459865746
                      ],
                      [
                        -1.214306433183765e-17
                      ]
                    ],
                    [
                      [
                        0.13915268870943728
                      ],
                      [
                        0.06467632835773003
                      ],
                      [
                        0.04997533641052668
                      ],
                      [
                        0.0007931214861721153
                      ],
                      [
                        0.004502874005179004
                      ],
                      [
                        0.05593446097439373
                      ],
                      [
                        0.010140583343643617
                      ],
                      [
                        0.08737132587744739
                      ],
                      [
                        0.03138163618276972
                      ],
                      [
                        0.2854485744214063
                      ],
                      [
                        0
                      ],
                      [
                        0.05471125355398135
                      ],
                      [
                        0.1703998792652997
                      ],
                      [
                        0.036898427099550005
                      ],
                      [
                        0.008613510312462935
                      ]
                    ],
                    [
                      [
                        0.14051400250631507
                      ],
                      [
                        0.05965554996956898
                      ],
                      [
                        0.05230917008796228
                      ],
                      [
                        0.0005287476574480781
                      ],
                      [
                        0.0030019160034526694
                      ],
                      [
                        0.05392317687582934
                      ],
                      [
                        0.006760388895762411
                      ],
                      [
                        0.10058502316860936
                      ],
                      [
                        0.030471935212986904
                      ],
                      [
                        0.2762742891635385
                      ],
                      [
                        0
                      ],
                      [
                        0.05830252634917518
                      ],
                      [
                        0.16461776674519094
                      ],
                      [
                        0.035828486739234264
                      ],
                      [
                        0.01722702062492588
                      ]
                    ],
                    [
                      [
                        0.14187531630319286
                      ],
                      [
                        0.05463477158140793
                      ],
                      [
                        0.05464300376539788
                      ],
                      [
                        0.00026437382872404076
                      ],
                      [
                        0.0015009580017263347
                      ],
                      [
                        0.05191189277726495
                      ],
                      [
                        0.0033801944478812056
                      ],
                      [
                        0.11379872045977131
                      ],
                      [
                        0.02956223424320408
                      ],
                      [
                        0.26710000390567074
                      ],
                      [
                        0
                      ],
                      [
                        0.06189379914436902
                      ],
                      [
                        0.15883565422508217
                      ],
                      [
                        0.03475854637891852
                      ],
                      [
                        0.02584053093738883
                      ]
                    ],
                    [
                      [
                        0.14323663010007065
                      ],
                      [
                        0.04961399319324688
                      ],
                      [
                        0.05697683744283349
                      ],
                      [
                        3.469446951953614e-18
                      ],
                      [
                        0
                      ],
                      [
                        0.04990060867870055
                      ],
                      [
                        0
                      ],
                      [
                        0.12701241775093328
                      ],
                      [
                        0.028652533273421262
                      ],
                      [
                        0.25792571864780295
                      ],
                      [
                        0
                      ],
                      [
                        0.06548507193956286
                      ],
                      [
                        0.1530535417049734
                      ],
                      [
                        0.03368860601860278
                      ],
                      [
                        0.034454041249851776
                      ]
                    ],
                    [
                      [
                        0.14323663010007068
                      ],
                      [
                        0.04961399319324687
                      ],
                      [
                        0.0569768374428335
                      ],
                      [
                        2.6020852139652106e-18
                      ],
                      [
                        0
                      ],
                      [
                        0.049900608678700546
                      ],
                      [
                        0
                      ],
                      [
                        0.12701241775093328
                      ],
                      [
                        0.02865253327342126
                      ],
                      [
                        0.2579257186478029
                      ],
                      [
                        0
                      ],
                      [
                        0.06548507193956288
                      ],
                      [
                        0.15305354170497337
                      ],
                      [
                        0.03368860601860278
                      ],
                      [
                        0.03445404124985179
                      ]
                    ],
                    [
                      [
                        0.1432366301000707
                      ],
                      [
                        0.049613993193246865
                      ],
                      [
                        0.05697683744283352
                      ],
                      [
                        1.734723475976807e-18
                      ],
                      [
                        0
                      ],
                      [
                        0.04990060867870054
                      ],
                      [
                        0
                      ],
                      [
                        0.1270124177509333
                      ],
                      [
                        0.02865253327342126
                      ],
                      [
                        0.2579257186478029
                      ],
                      [
                        0
                      ],
                      [
                        0.0654850719395629
                      ],
                      [
                        0.15305354170497337
                      ],
                      [
                        0.03368860601860278
                      ],
                      [
                        0.0344540412498518
                      ]
                    ],
                    [
                      [
                        0.1432366301000707
                      ],
                      [
                        0.04961399319324686
                      ],
                      [
                        0.05697683744283354
                      ],
                      [
                        8.673617379884035e-19
                      ],
                      [
                        0
                      ],
                      [
                        0.04990060867870054
                      ],
                      [
                        0
                      ],
                      [
                        0.1270124177509333
                      ],
                      [
                        0.02865253327342126
                      ],
                      [
                        0.2579257186478029
                      ],
                      [
                        0
                      ],
                      [
                        0.06548507193956293
                      ],
                      [
                        0.15305354170497337
                      ],
                      [
                        0.03368860601860278
                      ],
                      [
                        0.034454041249851804
                      ]
                    ],
                    [
                      [
                        0.14323663010007073
                      ],
                      [
                        0.04961399319324685
                      ],
                      [
                        0.05697683744283356
                      ],
                      [
                        0
                      ],
                      [
                        0
                      ],
                      [
                        0.04990060867870053
                      ],
                      [
                        0
                      ],
                      [
                        0.1270124177509333
                      ],
                      [
                        0.028652533273421255
                      ],
                      [
                        0.2579257186478029
                      ],
                      [
                        0
                      ],
                      [
                        0.06548507193956296
                      ],
                      [
                        0.15305354170497337
                      ],
                      [
                        0.03368860601860278
                      ],
                      [
                        0.03445404124985182
                      ]
                    ],
                    [
                      [
                        0.14525235590108848
                      ],
                      [
                        0.03721049489493514
                      ],
                      [
                        0.061281046047508364
                      ],
                      [
                        0
                      ],
                      [
                        0
                      ],
                      [
                        0.04482511074622839
                      ],
                      [
                        0
                      ],
                      [
                        0.15702459884528347
                      ],
                      [
                        0.024301840827835874
                      ],
                      [
                        0.2343548242932963
                      ],
                      [
                        0
                      ],
                      [
                        0.07308499820481804
                      ],
                      [
                        0.13967843947640235
                      ],
                      [
                        0.03052406319608946
                      ],
                      [
                        0.05246222756651421
                      ]
                    ],
                    [
                      [
                        0.14726808170210623
                      ],
                      [
                        0.024806996596623426
                      ],
                      [
                        0.06558525465218318
                      ],
                      [
                        0
                      ],
                      [
                        0
                      ],
                      [
                        0.039749612813756253
                      ],
                      [
                        0
                      ],
                      [
                        0.1870367799396336
                      ],
                      [
                        0.019951148382250494
                      ],
                      [
                        0.2107839299387897
                      ],
                      [
                        0
                      ],
                      [
                        0.08068492447007311
                      ],
                      [
                        0.12630333724783135
                      ],
                      [
                        0.027359520373576137
                      ],
                      [
                        0.07047041388317661
                      ]
                    ],
                    [
                      [
                        0.14928380750312398
                      ],
                      [
                        0.012403498298311713
                      ],
                      [
                        0.06988946325685798
                      ],
                      [
                        0
                      ],
                      [
                        0
                      ],
                      [
                        0.034674114881284114
                      ],
                      [
                        0
                      ],
                      [
                        0.21704896103398374
                      ],
                      [
                        0.015600455936665113
                      ],
                      [
                        0.18721303558428307
                      ],
                      [
                        0
                      ],
                      [
                        0.08828485073532819
                      ],
                      [
                        0.11292823501926035
                      ],
                      [
                        0.024194977551062816
                      ],
                      [
                        0.08847860019983901
                      ]
                    ],
                    [
                      [
                        0.15129953330414173
                      ],
                      [
                        0
                      ],
                      [
                        0.07419367186153279
                      ],
                      [
                        0
                      ],
                      [
                        0
                      ],
                      [
                        0.029598616948811975
                      ],
                      [
                        0
                      ],
                      [
                        0.2470611421283339
                      ],
                      [
                        0.01124976349107973
                      ],
                      [
                        0.16364214122977647
                      ],
                      [
                        0
                      ],
                      [
                        0.09588477700058326
                      ],
                      [
                        0.09955313279068934
                      ],
                      [
                        0.021030434728549492
                      ],
                      [
                        0.10648678651650141
                      ]
                    ],
                    [
                      [
                        0.15123124566210458
                      ],
                      [
                        0
                      ],
                      [
                        0.07431887095603465
                      ],
                      [
                        0
                      ],
                      [
                        0
                      ],
                      [
                        0.02909890110495539
                      ],
                      [
                        0
                      ],
                      [
                        0.2494007278327496
                      ],
                      [
                        0.010827787721360053
                      ],
                      [
                        0.1616287296206178
                      ],
                      [
                        0
                      ],
                      [
                        0.09641173264011865
                      ],
                      [
                        0.0984373237899174
                      ],
                      [
                        0.020770218833358965
                      ],
                      [
                        0.10787446183878295
                      ]
                    ],
                    [
                      [
                        0.15116295802006743
                      ],
                      [
                        0
                      ],
                      [
                        0.07444407005053652
                      ],
                      [
                        0
                      ],
                      [
                        0
                      ],
                      [
                        0.0285991852610988
                      ],
                      [
                        0
                      ],
                      [
                        0.2517403135371653
                      ],
                      [
                        0.010405811951640377
                      ],
                      [
                        0.15961531801145917
                      ],
                      [
                        0
                      ],
                      [
                        0.09693868827965404
                      ],
                      [
                        0.09732151478914547
                      ],
                      [
                        0.020510002938168438
                      ],
                      [
                        0.10926213716106449
                      ]
                    ],
                    [
                      [
                        0.1510946703780303
                      ],
                      [
                        0
                      ],
                      [
                        0.07456926914503839
                      ],
                      [
                        0
                      ],
                      [
                        0
                      ],
                      [
                        0.028099469417242215
                      ],
                      [
                        0
                      ],
                      [
                        0.25407989924158103
                      ],
                      [
                        0.0099838361819207
                      ],
                      [
                        0.1576019064023005
                      ],
                      [
                        0
                      ],
                      [
                        0.09746564391918944
                      ],
                      [
                        0.09620570578837354
                      ],
                      [
                        0.02024978704297791
                      ],
                      [
                        0.11064981248334603
                      ]
                    ],
                    [
                      [
                        0.15102638273599314
                      ],
                      [
                        0
                      ],
                      [
                        0.07469446823954026
                      ],
                      [
                        0
                      ],
                      [
                        0
                      ],
                      [
                        0.027599753573385632
                      ],
                      [
                        0
                      ],
                      [
                        0.25641948494599676
                      ],
                      [
                        0.009561860412201023
                      ],
                      [
                        0.15558849479314185
                      ],
                      [
                        0
                      ],
                      [
                        0.09799259955872484
                      ],
                      [
                        0.0950898967876016
                      ],
                      [
                        0.01998957114778738
                      ],
                      [
                        0.11203748780562757
                      ]
                    ]
                  ],
                  "hovertemplate": "Risk: %{x}<br>Return: %{y}<extra>ACN: %{customdata[0]:.4%}<br>AMZN: %{customdata[1]:.4%}<br>COST: %{customdata[2]:.4%}<br>DIS: %{customdata[3]:.4%}<br>F: %{customdata[4]:.4%}<br>GILD: %{customdata[5]:.4%}<br>JPM: %{customdata[6]:.4%}<br>KO: %{customdata[7]:.4%}<br>LUV: %{customdata[8]:.4%}<br>MA: %{customdata[9]:.4%}<br>MSFT: %{customdata[10]:.4%}<br>PFE: %{customdata[11]:.4%}<br>TSLA: %{customdata[12]:.4%}<br>UNH: %{customdata[13]:.4%}<br>XOM: %{customdata[14]:.4%}<br></extra>",
                  "line": {
                    "color": "lightskyblue",
                    "width": 2
                  },
                  "mode": "lines",
                  "name": "Efficient frontier",
                  "type": "scatter",
                  "x": [
                    0.4966044252401664,
                    0.4966044252401659,
                    0.4966044252401654,
                    0.49660442524016496,
                    0.49660442524016446,
                    0.44779692587009967,
                    0.4038226737535964,
                    0.36642591369128097,
                    0.3377982859335895,
                    0.33158257162141097,
                    0.3255650032854711,
                    0.3197567679710207,
                    0.3141694760795218,
                    0.3040731125997475,
                    0.2942783323142072,
                    0.28481625110003467,
                    0.2757211233642425,
                    0.25997573405431673,
                    0.24561915825738698,
                    0.23290835898953743,
                    0.22212604676056477,
                    0.221243494612068,
                    0.22037803005195852,
                    0.21952985517633353,
                    0.218699171147584,
                    0.21768912632704765,
                    0.2167009620680709,
                    0.21573497903961428,
                    0.21479147650923963,
                    0.2141079944480005,
                    0.2134305565188351,
                    0.2127592204563723,
                    0.2120940442028858,
                    0.20829233688883658,
                    0.2046829807696491,
                    0.20127632403425788,
                    0.19808282511767053,
                    0.19669547353578581,
                    0.1953418225666142,
                    0.19402257757574584,
                    0.1927384450646425,
                    0.19107848034735944,
                    0.18946236874882694,
                    0.18789124185580586,
                    0.1863662373780659,
                    0.1834389833136979,
                    0.18062199733681275,
                    0.1779205170934116,
                    0.17533988149221863,
                    0.1747681395266408,
                    0.1742030210747894,
                    0.17364459080445235,
                    0.1730929134476334,
                    0.17046486061536978,
                    0.16798950909049304,
                    0.16567370360238862,
                    0.16352422269260064,
                    0.16352422269260064,
                    0.16352422269260064,
                    0.16352422269260067,
                    0.16352422269260067,
                    0.15955290971811073,
                    0.15655985112168674,
                    0.1546018737221727,
                    0.15371853539830957,
                    0.15370017393186838,
                    0.15368705725561385,
                    0.15367918671249073,
                    0.15367656310854083
                  ],
                  "y": [
                    0.36079569764967934,
                    0.36079569764967906,
                    0.3607956976496787,
                    0.3607956976496785,
                    0.36079569764967817,
                    0.3542619937141548,
                    0.34772828977863135,
                    0.34119458584310797,
                    0.3346608819075846,
                    0.3329019201030089,
                    0.33114295829843315,
                    0.3293839964938574,
                    0.3276250346892817,
                    0.32433471475675285,
                    0.321044394824224,
                    0.31775407489169505,
                    0.3144637549591661,
                    0.3084142638684395,
                    0.30236477277771284,
                    0.2963152816869862,
                    0.2902657905962595,
                    0.2897112517381768,
                    0.28915671288009404,
                    0.2886021740220113,
                    0.2880476351639287,
                    0.28735881707379723,
                    0.2866699989836658,
                    0.28598118089353436,
                    0.285292362803403,
                    0.2847850874970251,
                    0.2842778121906472,
                    0.2837705368842693,
                    0.2832632615778914,
                    0.28027935952732824,
                    0.27729545747676515,
                    0.274311555426202,
                    0.2713276533756389,
                    0.2699690020910608,
                    0.26861035080648277,
                    0.2672516995219047,
                    0.2658930482373266,
                    0.26408895718216496,
                    0.2622848661270033,
                    0.2604807750718417,
                    0.2586766840166801,
                    0.2550954793194474,
                    0.2515142746222148,
                    0.2479330699249822,
                    0.24435186522774954,
                    0.24353416485386262,
                    0.2427164644799756,
                    0.24189876410608857,
                    0.2410810637322016,
                    0.2370511405941571,
                    0.2330212174561126,
                    0.22899129431806806,
                    0.22496137118002357,
                    0.22496137118002354,
                    0.22496137118002357,
                    0.22496137118002357,
                    0.22496137118002357,
                    0.21621694229114186,
                    0.20747251340226014,
                    0.19872808451337837,
                    0.18998365562449665,
                    0.18944073941191625,
                    0.18889782319933585,
                    0.18835490698675544,
                    0.18781199077417507
                  ]
                },
                {
                  "customdata": [
                    [
                      0.13440146529299,
                      0.07604289822642432,
                      0.04407298862590118,
                      -3.4065481019781167e-19,
                      0.0076475802171590565,
                      0.06019101216626949,
                      0.019835078140442962,
                      0.05435047902398752,
                      0.03284069920592213,
                      0.3038213889910885,
                      0,
                      0.0448545605978851,
                      0.18330106980362904,
                      0.03864077970830071,
                      0
                    ],
                    [
                      1.3936727840537317
                    ]
                  ],
                  "hovertemplate": "Sharpe: %{customdata[1]:.4}<br>Risk: %{x}<br>Return: %{y}<extra>ACN: %{customdata[0]:.4%}<br>AMZN: %{customdata[1]:.4%}<br>COST: %{customdata[2]:.4%}<br>DIS: %{customdata[3]:.4%}<br>F: %{customdata[4]:.4%}<br>GILD: %{customdata[5]:.4%}<br>JPM: %{customdata[6]:.4%}<br>KO: %{customdata[7]:.4%}<br>LUV: %{customdata[8]:.4%}<br>MA: %{customdata[9]:.4%}<br>MSFT: %{customdata[10]:.4%}<br>PFE: %{customdata[11]:.4%}<br>TSLA: %{customdata[12]:.4%}<br>UNH: %{customdata[13]:.4%}<br>XOM: %{customdata[14]:.4%}<br></extra>",
                  "marker": {
                    "color": "coral",
                    "size": 12,
                    "symbol": "x"
                  },
                  "mode": "markers",
                  "name": "Max Sharpe Portfolio",
                  "type": "scatter",
                  "x": [
                    0.17638081869316075
                  ],
                  "y": [
                    0.24581714664177381
                  ]
                },
                {
                  "hovertemplate": "Risk: %{x}<br>Return: %{y}<extra></extra>",
                  "marker": {
                    "color": "silver",
                    "size": 10,
                    "symbol": "star-diamond"
                  },
                  "mode": "markers",
                  "name": "Assets",
                  "type": "scatter",
                  "x": [
                    0.24326207966385105,
                    0.4966044252401664,
                    0.3065454397978152,
                    0.29885166283363535,
                    0.38904990004717727,
                    0.4559476165533023,
                    0.3677835211328743,
                    0.21936501839624178,
                    0.36866794132336267,
                    0.24080427721095848,
                    0.31500658132005976,
                    0.26585648951435203,
                    0.3684710454668314,
                    0.35718984797699505,
                    0.24917305960145672
                  ],
                  "y": [
                    0.20538629681163303,
                    0.36079569764967934,
                    0.17958929328387618,
                    0.20887265432090116,
                    0.24527359100340335,
                    0.24747465144673844,
                    0.268587515184106,
                    0.12178519376121921,
                    0.22493805055341565,
                    0.2517063466233402,
                    0.22004554163635176,
                    0.15521384623067389,
                    0.30378900498393335,
                    0.19761789706131916,
                    0.1424502685178142
                  ]
                }
              ],
              "layout": {
                "template": {
                  "data": {
                    "bar": [
                      {
                        "error_x": {
                          "color": "#2a3f5f"
                        },
                        "error_y": {
                          "color": "#2a3f5f"
                        },
                        "marker": {
                          "line": {
                            "color": "#E5ECF6",
                            "width": 0.5
                          },
                          "pattern": {
                            "fillmode": "overlay",
                            "size": 10,
                            "solidity": 0.2
                          }
                        },
                        "type": "bar"
                      }
                    ],
                    "barpolar": [
                      {
                        "marker": {
                          "line": {
                            "color": "#E5ECF6",
                            "width": 0.5
                          },
                          "pattern": {
                            "fillmode": "overlay",
                            "size": 10,
                            "solidity": 0.2
                          }
                        },
                        "type": "barpolar"
                      }
                    ],
                    "carpet": [
                      {
                        "aaxis": {
                          "endlinecolor": "#2a3f5f",
                          "gridcolor": "white",
                          "linecolor": "white",
                          "minorgridcolor": "white",
                          "startlinecolor": "#2a3f5f"
                        },
                        "baxis": {
                          "endlinecolor": "#2a3f5f",
                          "gridcolor": "white",
                          "linecolor": "white",
                          "minorgridcolor": "white",
                          "startlinecolor": "#2a3f5f"
                        },
                        "type": "carpet"
                      }
                    ],
                    "choropleth": [
                      {
                        "colorbar": {
                          "outlinewidth": 0,
                          "ticks": ""
                        },
                        "type": "choropleth"
                      }
                    ],
                    "contour": [
                      {
                        "colorbar": {
                          "outlinewidth": 0,
                          "ticks": ""
                        },
                        "colorscale": [
                          [
                            0,
                            "#0d0887"
                          ],
                          [
                            0.1111111111111111,
                            "#46039f"
                          ],
                          [
                            0.2222222222222222,
                            "#7201a8"
                          ],
                          [
                            0.3333333333333333,
                            "#9c179e"
                          ],
                          [
                            0.4444444444444444,
                            "#bd3786"
                          ],
                          [
                            0.5555555555555556,
                            "#d8576b"
                          ],
                          [
                            0.6666666666666666,
                            "#ed7953"
                          ],
                          [
                            0.7777777777777778,
                            "#fb9f3a"
                          ],
                          [
                            0.8888888888888888,
                            "#fdca26"
                          ],
                          [
                            1,
                            "#f0f921"
                          ]
                        ],
                        "type": "contour"
                      }
                    ],
                    "contourcarpet": [
                      {
                        "colorbar": {
                          "outlinewidth": 0,
                          "ticks": ""
                        },
                        "type": "contourcarpet"
                      }
                    ],
                    "heatmap": [
                      {
                        "colorbar": {
                          "outlinewidth": 0,
                          "ticks": ""
                        },
                        "colorscale": [
                          [
                            0,
                            "#0d0887"
                          ],
                          [
                            0.1111111111111111,
                            "#46039f"
                          ],
                          [
                            0.2222222222222222,
                            "#7201a8"
                          ],
                          [
                            0.3333333333333333,
                            "#9c179e"
                          ],
                          [
                            0.4444444444444444,
                            "#bd3786"
                          ],
                          [
                            0.5555555555555556,
                            "#d8576b"
                          ],
                          [
                            0.6666666666666666,
                            "#ed7953"
                          ],
                          [
                            0.7777777777777778,
                            "#fb9f3a"
                          ],
                          [
                            0.8888888888888888,
                            "#fdca26"
                          ],
                          [
                            1,
                            "#f0f921"
                          ]
                        ],
                        "type": "heatmap"
                      }
                    ],
                    "heatmapgl": [
                      {
                        "colorbar": {
                          "outlinewidth": 0,
                          "ticks": ""
                        },
                        "colorscale": [
                          [
                            0,
                            "#0d0887"
                          ],
                          [
                            0.1111111111111111,
                            "#46039f"
                          ],
                          [
                            0.2222222222222222,
                            "#7201a8"
                          ],
                          [
                            0.3333333333333333,
                            "#9c179e"
                          ],
                          [
                            0.4444444444444444,
                            "#bd3786"
                          ],
                          [
                            0.5555555555555556,
                            "#d8576b"
                          ],
                          [
                            0.6666666666666666,
                            "#ed7953"
                          ],
                          [
                            0.7777777777777778,
                            "#fb9f3a"
                          ],
                          [
                            0.8888888888888888,
                            "#fdca26"
                          ],
                          [
                            1,
                            "#f0f921"
                          ]
                        ],
                        "type": "heatmapgl"
                      }
                    ],
                    "histogram": [
                      {
                        "marker": {
                          "pattern": {
                            "fillmode": "overlay",
                            "size": 10,
                            "solidity": 0.2
                          }
                        },
                        "type": "histogram"
                      }
                    ],
                    "histogram2d": [
                      {
                        "colorbar": {
                          "outlinewidth": 0,
                          "ticks": ""
                        },
                        "colorscale": [
                          [
                            0,
                            "#0d0887"
                          ],
                          [
                            0.1111111111111111,
                            "#46039f"
                          ],
                          [
                            0.2222222222222222,
                            "#7201a8"
                          ],
                          [
                            0.3333333333333333,
                            "#9c179e"
                          ],
                          [
                            0.4444444444444444,
                            "#bd3786"
                          ],
                          [
                            0.5555555555555556,
                            "#d8576b"
                          ],
                          [
                            0.6666666666666666,
                            "#ed7953"
                          ],
                          [
                            0.7777777777777778,
                            "#fb9f3a"
                          ],
                          [
                            0.8888888888888888,
                            "#fdca26"
                          ],
                          [
                            1,
                            "#f0f921"
                          ]
                        ],
                        "type": "histogram2d"
                      }
                    ],
                    "histogram2dcontour": [
                      {
                        "colorbar": {
                          "outlinewidth": 0,
                          "ticks": ""
                        },
                        "colorscale": [
                          [
                            0,
                            "#0d0887"
                          ],
                          [
                            0.1111111111111111,
                            "#46039f"
                          ],
                          [
                            0.2222222222222222,
                            "#7201a8"
                          ],
                          [
                            0.3333333333333333,
                            "#9c179e"
                          ],
                          [
                            0.4444444444444444,
                            "#bd3786"
                          ],
                          [
                            0.5555555555555556,
                            "#d8576b"
                          ],
                          [
                            0.6666666666666666,
                            "#ed7953"
                          ],
                          [
                            0.7777777777777778,
                            "#fb9f3a"
                          ],
                          [
                            0.8888888888888888,
                            "#fdca26"
                          ],
                          [
                            1,
                            "#f0f921"
                          ]
                        ],
                        "type": "histogram2dcontour"
                      }
                    ],
                    "mesh3d": [
                      {
                        "colorbar": {
                          "outlinewidth": 0,
                          "ticks": ""
                        },
                        "type": "mesh3d"
                      }
                    ],
                    "parcoords": [
                      {
                        "line": {
                          "colorbar": {
                            "outlinewidth": 0,
                            "ticks": ""
                          }
                        },
                        "type": "parcoords"
                      }
                    ],
                    "pie": [
                      {
                        "automargin": true,
                        "type": "pie"
                      }
                    ],
                    "scatter": [
                      {
                        "fillpattern": {
                          "fillmode": "overlay",
                          "size": 10,
                          "solidity": 0.2
                        },
                        "type": "scatter"
                      }
                    ],
                    "scatter3d": [
                      {
                        "line": {
                          "colorbar": {
                            "outlinewidth": 0,
                            "ticks": ""
                          }
                        },
                        "marker": {
                          "colorbar": {
                            "outlinewidth": 0,
                            "ticks": ""
                          }
                        },
                        "type": "scatter3d"
                      }
                    ],
                    "scattercarpet": [
                      {
                        "marker": {
                          "colorbar": {
                            "outlinewidth": 0,
                            "ticks": ""
                          }
                        },
                        "type": "scattercarpet"
                      }
                    ],
                    "scattergeo": [
                      {
                        "marker": {
                          "colorbar": {
                            "outlinewidth": 0,
                            "ticks": ""
                          }
                        },
                        "type": "scattergeo"
                      }
                    ],
                    "scattergl": [
                      {
                        "marker": {
                          "colorbar": {
                            "outlinewidth": 0,
                            "ticks": ""
                          }
                        },
                        "type": "scattergl"
                      }
                    ],
                    "scattermapbox": [
                      {
                        "marker": {
                          "colorbar": {
                            "outlinewidth": 0,
                            "ticks": ""
                          }
                        },
                        "type": "scattermapbox"
                      }
                    ],
                    "scatterpolar": [
                      {
                        "marker": {
                          "colorbar": {
                            "outlinewidth": 0,
                            "ticks": ""
                          }
                        },
                        "type": "scatterpolar"
                      }
                    ],
                    "scatterpolargl": [
                      {
                        "marker": {
                          "colorbar": {
                            "outlinewidth": 0,
                            "ticks": ""
                          }
                        },
                        "type": "scatterpolargl"
                      }
                    ],
                    "scatterternary": [
                      {
                        "marker": {
                          "colorbar": {
                            "outlinewidth": 0,
                            "ticks": ""
                          }
                        },
                        "type": "scatterternary"
                      }
                    ],
                    "surface": [
                      {
                        "colorbar": {
                          "outlinewidth": 0,
                          "ticks": ""
                        },
                        "colorscale": [
                          [
                            0,
                            "#0d0887"
                          ],
                          [
                            0.1111111111111111,
                            "#46039f"
                          ],
                          [
                            0.2222222222222222,
                            "#7201a8"
                          ],
                          [
                            0.3333333333333333,
                            "#9c179e"
                          ],
                          [
                            0.4444444444444444,
                            "#bd3786"
                          ],
                          [
                            0.5555555555555556,
                            "#d8576b"
                          ],
                          [
                            0.6666666666666666,
                            "#ed7953"
                          ],
                          [
                            0.7777777777777778,
                            "#fb9f3a"
                          ],
                          [
                            0.8888888888888888,
                            "#fdca26"
                          ],
                          [
                            1,
                            "#f0f921"
                          ]
                        ],
                        "type": "surface"
                      }
                    ],
                    "table": [
                      {
                        "cells": {
                          "fill": {
                            "color": "#EBF0F8"
                          },
                          "line": {
                            "color": "white"
                          }
                        },
                        "header": {
                          "fill": {
                            "color": "#C8D4E3"
                          },
                          "line": {
                            "color": "white"
                          }
                        },
                        "type": "table"
                      }
                    ]
                  },
                  "layout": {
                    "annotationdefaults": {
                      "arrowcolor": "#2a3f5f",
                      "arrowhead": 0,
                      "arrowwidth": 1
                    },
                    "autotypenumbers": "strict",
                    "coloraxis": {
                      "colorbar": {
                        "outlinewidth": 0,
                        "ticks": ""
                      }
                    },
                    "colorscale": {
                      "diverging": [
                        [
                          0,
                          "#8e0152"
                        ],
                        [
                          0.1,
                          "#c51b7d"
                        ],
                        [
                          0.2,
                          "#de77ae"
                        ],
                        [
                          0.3,
                          "#f1b6da"
                        ],
                        [
                          0.4,
                          "#fde0ef"
                        ],
                        [
                          0.5,
                          "#f7f7f7"
                        ],
                        [
                          0.6,
                          "#e6f5d0"
                        ],
                        [
                          0.7,
                          "#b8e186"
                        ],
                        [
                          0.8,
                          "#7fbc41"
                        ],
                        [
                          0.9,
                          "#4d9221"
                        ],
                        [
                          1,
                          "#276419"
                        ]
                      ],
                      "sequential": [
                        [
                          0,
                          "#0d0887"
                        ],
                        [
                          0.1111111111111111,
                          "#46039f"
                        ],
                        [
                          0.2222222222222222,
                          "#7201a8"
                        ],
                        [
                          0.3333333333333333,
                          "#9c179e"
                        ],
                        [
                          0.4444444444444444,
                          "#bd3786"
                        ],
                        [
                          0.5555555555555556,
                          "#d8576b"
                        ],
                        [
                          0.6666666666666666,
                          "#ed7953"
                        ],
                        [
                          0.7777777777777778,
                          "#fb9f3a"
                        ],
                        [
                          0.8888888888888888,
                          "#fdca26"
                        ],
                        [
                          1,
                          "#f0f921"
                        ]
                      ],
                      "sequentialminus": [
                        [
                          0,
                          "#0d0887"
                        ],
                        [
                          0.1111111111111111,
                          "#46039f"
                        ],
                        [
                          0.2222222222222222,
                          "#7201a8"
                        ],
                        [
                          0.3333333333333333,
                          "#9c179e"
                        ],
                        [
                          0.4444444444444444,
                          "#bd3786"
                        ],
                        [
                          0.5555555555555556,
                          "#d8576b"
                        ],
                        [
                          0.6666666666666666,
                          "#ed7953"
                        ],
                        [
                          0.7777777777777778,
                          "#fb9f3a"
                        ],
                        [
                          0.8888888888888888,
                          "#fdca26"
                        ],
                        [
                          1,
                          "#f0f921"
                        ]
                      ]
                    },
                    "colorway": [
                      "#636efa",
                      "#EF553B",
                      "#00cc96",
                      "#ab63fa",
                      "#FFA15A",
                      "#19d3f3",
                      "#FF6692",
                      "#B6E880",
                      "#FF97FF",
                      "#FECB52"
                    ],
                    "font": {
                      "color": "#2a3f5f"
                    },
                    "geo": {
                      "bgcolor": "white",
                      "lakecolor": "white",
                      "landcolor": "#E5ECF6",
                      "showlakes": true,
                      "showland": true,
                      "subunitcolor": "white"
                    },
                    "hoverlabel": {
                      "align": "left"
                    },
                    "hovermode": "closest",
                    "mapbox": {
                      "style": "light"
                    },
                    "paper_bgcolor": "white",
                    "plot_bgcolor": "#E5ECF6",
                    "polar": {
                      "angularaxis": {
                        "gridcolor": "white",
                        "linecolor": "white",
                        "ticks": ""
                      },
                      "bgcolor": "#E5ECF6",
                      "radialaxis": {
                        "gridcolor": "white",
                        "linecolor": "white",
                        "ticks": ""
                      }
                    },
                    "scene": {
                      "xaxis": {
                        "backgroundcolor": "#E5ECF6",
                        "gridcolor": "white",
                        "gridwidth": 2,
                        "linecolor": "white",
                        "showbackground": true,
                        "ticks": "",
                        "zerolinecolor": "white"
                      },
                      "yaxis": {
                        "backgroundcolor": "#E5ECF6",
                        "gridcolor": "white",
                        "gridwidth": 2,
                        "linecolor": "white",
                        "showbackground": true,
                        "ticks": "",
                        "zerolinecolor": "white"
                      },
                      "zaxis": {
                        "backgroundcolor": "#E5ECF6",
                        "gridcolor": "white",
                        "gridwidth": 2,
                        "linecolor": "white",
                        "showbackground": true,
                        "ticks": "",
                        "zerolinecolor": "white"
                      }
                    },
                    "shapedefaults": {
                      "line": {
                        "color": "#2a3f5f"
                      }
                    },
                    "ternary": {
                      "aaxis": {
                        "gridcolor": "white",
                        "linecolor": "white",
                        "ticks": ""
                      },
                      "baxis": {
                        "gridcolor": "white",
                        "linecolor": "white",
                        "ticks": ""
                      },
                      "bgcolor": "#E5ECF6",
                      "caxis": {
                        "gridcolor": "white",
                        "linecolor": "white",
                        "ticks": ""
                      }
                    },
                    "title": {
                      "x": 0.05
                    },
                    "xaxis": {
                      "automargin": true,
                      "gridcolor": "white",
                      "linecolor": "white",
                      "ticks": "",
                      "title": {
                        "standoff": 15
                      },
                      "zerolinecolor": "white",
                      "zerolinewidth": 2
                    },
                    "yaxis": {
                      "automargin": true,
                      "gridcolor": "white",
                      "linecolor": "white",
                      "ticks": "",
                      "title": {
                        "standoff": 15
                      },
                      "zerolinecolor": "white",
                      "zerolinewidth": 2
                    }
                  }
                },
                "xaxis": {
                  "title": {
                    "text": "Volatility"
                  }
                },
                "yaxis": {
                  "title": {
                    "text": "Return"
                  }
                }
              }
            }
          },
          "metadata": {},
          "output_type": "display_data"
        }
      ],
      "source": [
        "ax = plotting.plot_efficient_frontier(cla, showfig=False, interactive=True)\n",
        "ax.show()"
      ]
    },
    {
      "cell_type": "markdown",
      "metadata": {
        "id": "aURS39QR9nzS"
      },
      "source": [
        "## Plotting - Constrained"
      ]
    },
    {
      "cell_type": "markdown",
      "metadata": {
        "id": "2xPJH-s69nzT"
      },
      "source": [
        "In this example, we will plot the efficient frontier corresponding to portfolios with a constraint on exposure to MSFT, AMZN, and TSLA (e.g maybe we want to avoid big tech)."
      ]
    },
    {
      "cell_type": "code",
      "execution_count": null,
      "metadata": {
        "id": "OavRfyqJ9nzT"
      },
      "outputs": [],
      "source": [
        "import cvxpy as cp\n",
        "\n",
        "mu = expected_returns.capm_return(prices)\n",
        "S = risk_models.CovarianceShrinkage(prices).ledoit_wolf()\n",
        "\n",
        "ef = EfficientFrontier(mu, S,)\n",
        "big_tech_indices = [t in {\"MSFT\", \"AMZN\", \"TSLA\"} for t in tickers]\n",
        "ef.add_constraint(lambda w: cp.sum(w[big_tech_indices]) <= 0.3)"
      ]
    },
    {
      "cell_type": "code",
      "execution_count": null,
      "metadata": {
        "id": "Sbl0u0UVyYFU",
        "outputId": "4c565541-74c9-490f-9720-9704edb1a984"
      },
      "outputs": [
        {
          "data": {
            "text/plain": [
              "Ticker\n",
              "ACN     0.205386\n",
              "AMZN    0.360796\n",
              "COST    0.179589\n",
              "DIS     0.208873\n",
              "F       0.245274\n",
              "GILD    0.247475\n",
              "JPM     0.268588\n",
              "KO      0.121785\n",
              "LUV     0.224938\n",
              "MA      0.251706\n",
              "MSFT    0.220046\n",
              "PFE     0.155214\n",
              "TSLA    0.303789\n",
              "UNH     0.197618\n",
              "XOM     0.142450\n",
              "Name: mkt, dtype: float64"
            ]
          },
          "execution_count": 51,
          "metadata": {},
          "output_type": "execute_result"
        }
      ],
      "source": [
        "mu"
      ]
    },
    {
      "cell_type": "markdown",
      "metadata": {
        "id": "iPJ5mK8p9nzT"
      },
      "source": [
        "As per the docs, *before* we call any optimization function, we should pass this to the plotting module:"
      ]
    },
    {
      "cell_type": "code",
      "execution_count": null,
      "metadata": {
        "colab": {
          "base_uri": "https://localhost:8080/",
          "height": 297
        },
        "id": "BOehDOq19nzT",
        "outputId": "171cb51c-a5c4-402a-e17e-86d1dda072b1"
      },
      "outputs": [
        {
          "data": {
            "image/png": "[encoded data removed]",
            "text/plain": [
              "<Figure size 640x480 with 1 Axes>"
            ]
          },
          "metadata": {},
          "output_type": "display_data"
        }
      ],
      "source": [
        "ax = plotting.plot_efficient_frontier(ef, ef_param=\"risk\",\n",
        "                                      ef_param_range=np.linspace(0.2, 0.5, 50),\n",
        "                                      showfig=False);"
      ]
    },
    {
      "cell_type": "markdown",
      "metadata": {
        "id": "ht1M5kIo9nzT"
      },
      "source": [
        "## Complex plots\n",
        "\n",
        "The `plotting` module allows you to pass in an `ax`, on top of which the plots are added. This allows you to build complex plots.\n",
        "\n",
        "In this example, we will plot the efficient frontier as well as 10,000 simulated portfolios.\n",
        "\n",
        "To generate the simulated portfolios, we will sample random weights from the Dirichlet distribution (these are already normalised):"
      ]
    },
    {
      "cell_type": "code",
      "execution_count": null,
      "metadata": {
        "colab": {
          "base_uri": "https://localhost:8080/"
        },
        "id": "esHxc73V9nzT",
        "outputId": "decb7120-4d2e-49f3-f7d9-fcb5b78cdcce"
      },
      "outputs": [
        {
          "name": "stdout",
          "output_type": "stream",
          "text": [
            "Sample portfolio returns: [0.2237915  0.22173136 0.21968847 ... 0.19190574 0.21576692 0.21962956]\n",
            "Sample portfolio volatilities: 0       0.179384\n",
            "1       0.174740\n",
            "2       0.190086\n",
            "3       0.214345\n",
            "4       0.188124\n",
            "          ...   \n",
            "9995    0.180551\n",
            "9996    0.169346\n",
            "9997    0.183431\n",
            "9998    0.173361\n",
            "9999    0.172951\n",
            "Length: 10000, dtype: float64\n"
          ]
        }
      ],
      "source": [
        "n_samples = 10000\n",
        "w = np.random.dirichlet(np.ones(len(mu)), n_samples)\n",
        "rets = w.dot(mu)\n",
        "stds = np.sqrt((w.T * (S @ w.T)).sum(axis=0))\n",
        "sharpes = rets / stds\n",
        "\n",
        "print(\"Sample portfolio returns:\", rets)\n",
        "print(\"Sample portfolio volatilities:\", stds)"
      ]
    },
    {
      "cell_type": "markdown",
      "metadata": {
        "id": "Ad_x63489nzT"
      },
      "source": [
        "Note that the above code is equivalent to generating samples via a for loop (just more efficient)"
      ]
    },
    {
      "cell_type": "code",
      "execution_count": null,
      "metadata": {
        "id": "H3nL43aM9nzT"
      },
      "outputs": [],
      "source": [
        "# mus = []\n",
        "# stds = []\n",
        "# sharpes = []\n",
        "# for _ in range(10000):\n",
        "#     w = np.random.dirichlet(np.ones(len(mu)))\n",
        "#     # w = np.random.rand(len(mu))\n",
        "#     # w /= w.sum()\n",
        "#     ret = mu.dot(w)\n",
        "#     std = np.sqrt(w.dot(S @ w))\n",
        "#     mus.append(ret)\n",
        "#     stds.append(std)\n",
        "#     sharpes.append(ret / std)"
      ]
    },
    {
      "cell_type": "code",
      "execution_count": null,
      "metadata": {
        "colab": {
          "base_uri": "https://localhost:8080/",
          "height": 297
        },
        "id": "WjCjkC9p9nzU",
        "outputId": "386b35b3-75fd-4186-8f65-f16317246965"
      },
      "outputs": [
        {
          "data": {
            "image/png": "[encoded data removed]",
            "text/plain": [
              "<Figure size 640x480 with 1 Axes>"
            ]
          },
          "metadata": {},
          "output_type": "display_data"
        }
      ],
      "source": [
        "# Plot efficient frontier with Monte Carlo sim\n",
        "ef = EfficientFrontier(mu, S)\n",
        "\n",
        "fig, ax = plt.subplots()\n",
        "plotting.plot_efficient_frontier(ef, ax=ax, show_assets=False)\n",
        "\n",
        "# Find and plot the tangency portfolio\n",
        "ef2 = EfficientFrontier(mu, S)\n",
        "ef2.max_sharpe()\n",
        "ret_tangent, std_tangent, _ = ef2.portfolio_performance()\n",
        "\n",
        "# Plot random portfolios\n",
        "ax.scatter(stds, rets, marker=\".\", c=sharpes, cmap=\"viridis_r\")\n",
        "\n",
        "# Format\n",
        "ax.set_title(\"Efficient Frontier with random portfolios\")\n",
        "ax.legend()\n",
        "plt.tight_layout()\n",
        "plt.show()\n"
      ]
    },
    {
      "cell_type": "code",
      "execution_count": null,
      "metadata": {
        "id": "dZ0tR7Lt9nzU"
      },
      "outputs": [],
      "source": []
    }
  ],
  "metadata": {
    "colab": {
      "collapsed_sections": [
        "PBvVeqtm9nzP"
      ],
      "name": "2-Mean-Variance-Optimisation.ipynb",
      "provenance": []
    },
    "kernelspec": {
      "display_name": "Python 3",
      "name": "python3"
    },
    "language_info": {
      "codemirror_mode": {
        "name": "ipython",
        "version": 3
      },
      "file_extension": ".py",
      "mimetype": "text/x-python",
      "name": "python",
      "nbconvert_exporter": "python",
      "pygments_lexer": "ipython3",
      "version": "3.12.4"
    }
  },
  "nbformat": 4,
  "nbformat_minor": 0
}